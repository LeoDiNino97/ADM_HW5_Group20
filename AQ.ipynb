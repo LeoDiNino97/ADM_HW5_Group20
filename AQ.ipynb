{
 "cells": [
  {
   "cell_type": "code",
   "execution_count": 18,
   "metadata": {},
   "outputs": [],
   "source": [
    "class Graph:\n",
    "    def __init__(self, nodes:list, edges:dict):\n",
    "        self.nodes = nodes\n",
    "        self.edges = edges\n",
    "        self.adDict = {node: [] for node in self.nodes}\n",
    "\n",
    "        for (src, dst) in self.edges.keys():\n",
    "            self.adDict[src].append(dst)\n",
    "            self.adDict[dst].append(src)\n",
    "    \n",
    "    def getNeighbours(self, node):\n",
    "        return self.adDict[node]\n",
    "    \n",
    "    def getConnections(self, node):\n",
    "        return [edge for edge in self.edges.keys() if edge[0] == node]\n",
    "\n",
    "    def findDirection(self, node, direction):\n",
    "        for edge in self.getConnections(node):\n",
    "            if self.edges[edge] == direction:\n",
    "                return edge \n",
    "        return False\n",
    "    \n",
    "    def checkPathNaive(self, node, directions:str):\n",
    "        if len(directions) == 1:\n",
    "            return bool(self.findDirection(node, directions))\n",
    "        else:\n",
    "            if self.findDirection(node, directions[0]):\n",
    "                edge = self.findDirection(node, directions[0])\n",
    "                return self.checkPathNaive(edge[1], directions[1:])\n",
    "            else:\n",
    "                return False\n",
    "\n",
    "    def countPathNaive(self, directions):\n",
    "        return sum([self.checkPathNaive(node, directions) for node in self.nodes])"
   ]
  },
  {
   "cell_type": "code",
   "execution_count": 19,
   "metadata": {},
   "outputs": [],
   "source": [
    "phone_polyline = Graph([1,2,3,4,5,6,7,8,9],{(1,2):'R',(2,1):'L',\n",
    "                                            (4,1):'U',(1,4):'D',\n",
    "                                            (2,3):'R',(3,2):'L',\n",
    "                                            (2,5):'D',(5,2):'U',\n",
    "                                            (3,6):'D',(6,3):'U',\n",
    "                                            (4,7):'D',(7,4):'U',\n",
    "                                            (4,5):'R',(5,4):'L',\n",
    "                                            (5,6):'R',(6,5):'L',\n",
    "                                            (5,8):'D',(8,5):'U',\n",
    "                                            (6,9):'D',(9,6):'U',\n",
    "                                            (7,8):'R',(8,7):'L',\n",
    "                                            (8,9):'R',(9,8):'L'})"
   ]
  },
  {
   "cell_type": "code",
   "execution_count": 20,
   "metadata": {},
   "outputs": [
    {
     "data": {
      "text/plain": [
       "4"
      ]
     },
     "execution_count": 20,
     "metadata": {},
     "output_type": "execute_result"
    }
   ],
   "source": [
    "phone_polyline.countPathNaive('DRU')"
   ]
  },
  {
   "cell_type": "code",
   "execution_count": 22,
   "metadata": {},
   "outputs": [],
   "source": [
    "class BinaryTree:\n",
    "    def __init__(self, root):\n",
    "        self.key = root\n",
    "        self.leftChild = None\n",
    "        self.rightChild = None\n",
    "    \n",
    "    def setRootVal(self, root):\n",
    "        self.key = root\n",
    "    def setLeft(self,newNode):\n",
    "        if self.leftChild == None:\n",
    "            self.leftChild = BinaryTree(newNode)\n",
    "    def setRight(self,newNode):\n",
    "        if self.rightChild == None:\n",
    "            self.rightChild = BinaryTree(newNode)\n",
    "\n",
    "    def getRightChild(self):\n",
    "        return self.rightChild\n",
    "    def getLeftChild(self):\n",
    "        return self.leftChild\n",
    "    def getRootVal(self):\n",
    "        return self.key\n",
    "\n",
    "    def leavesCounter(self):\n",
    "        if self.getRootVal == None:\n",
    "            return 0\n",
    "        elif self.getRightChild == None and self.getLeftChild == None:\n",
    "            return 1\n",
    "        else:\n",
    "            return (self.leavesCounter(self.getRightChild) \n",
    "                    + self.leavesCounter(self.getLeftChild))"
   ]
  },
  {
   "cell_type": "code",
   "execution_count": 31,
   "metadata": {},
   "outputs": [],
   "source": [
    "class Solution:\n",
    "    def __init__(self, graph: Graph):\n",
    "        self.graph = graph\n",
    "    \n",
    "    def treeBuilder(self, node, directions):\n",
    "        pass\n",
    "        \n",
    "        \n",
    "    def counter(self, node):\n",
    "        return self.treeBuilder\n",
    "\n",
    "    def finalCounter(self):\n",
    "        final_count = 0\n",
    "        for node in self.graph.nodes:\n",
    "            final_count += self.counter(node)\n",
    "        return final_count\n"
   ]
  },
  {
   "cell_type": "code",
   "execution_count": 32,
   "metadata": {},
   "outputs": [],
   "source": [
    "sol = Solution(phone_polyline)"
   ]
  },
  {
   "cell_type": "code",
   "execution_count": 33,
   "metadata": {},
   "outputs": [
    {
     "ename": "AttributeError",
     "evalue": "'NoneType' object has no attribute 'leavesCounter'",
     "output_type": "error",
     "traceback": [
      "\u001b[1;31m---------------------------------------------------------------------------\u001b[0m",
      "\u001b[1;31mAttributeError\u001b[0m                            Traceback (most recent call last)",
      "Cell \u001b[1;32mIn [33], line 1\u001b[0m\n\u001b[1;32m----> 1\u001b[0m sol\u001b[39m.\u001b[39;49mtreeBuilder(\u001b[39m1\u001b[39;49m, \u001b[39m'\u001b[39;49m\u001b[39mDRU\u001b[39;49m\u001b[39m'\u001b[39;49m)\n",
      "Cell \u001b[1;32mIn [31], line 26\u001b[0m, in \u001b[0;36mSolution.treeBuilder\u001b[1;34m(self, node, directions)\u001b[0m\n\u001b[0;32m     24\u001b[0m         tree\u001b[39m.\u001b[39msetRight(repointed)\n\u001b[0;32m     25\u001b[0m \u001b[39mif\u001b[39;00m tree\u001b[39m.\u001b[39mgetLeftChild \u001b[39m!=\u001b[39m \u001b[39mNone\u001b[39;00m:\n\u001b[1;32m---> 26\u001b[0m     \u001b[39mreturn\u001b[39;00m \u001b[39mself\u001b[39;49m\u001b[39m.\u001b[39;49mtreeBuilder(tree\u001b[39m.\u001b[39;49mgetLeftChild, directions[\u001b[39m1\u001b[39;49m:])\u001b[39m.\u001b[39mleavesCounter\n\u001b[0;32m     27\u001b[0m \u001b[39mif\u001b[39;00m tree\u001b[39m.\u001b[39mgetRightChild \u001b[39m!=\u001b[39m \u001b[39mNone\u001b[39;00m:\n\u001b[0;32m     28\u001b[0m     \u001b[39mreturn\u001b[39;00m \u001b[39mself\u001b[39m\u001b[39m.\u001b[39mtreeBuilder(tree\u001b[39m.\u001b[39mgetRightChild, directions[\u001b[39m1\u001b[39m:])\u001b[39m.\u001b[39mleavesCounter\n",
      "Cell \u001b[1;32mIn [31], line 26\u001b[0m, in \u001b[0;36mSolution.treeBuilder\u001b[1;34m(self, node, directions)\u001b[0m\n\u001b[0;32m     24\u001b[0m         tree\u001b[39m.\u001b[39msetRight(repointed)\n\u001b[0;32m     25\u001b[0m \u001b[39mif\u001b[39;00m tree\u001b[39m.\u001b[39mgetLeftChild \u001b[39m!=\u001b[39m \u001b[39mNone\u001b[39;00m:\n\u001b[1;32m---> 26\u001b[0m     \u001b[39mreturn\u001b[39;00m \u001b[39mself\u001b[39;49m\u001b[39m.\u001b[39;49mtreeBuilder(tree\u001b[39m.\u001b[39;49mgetLeftChild, directions[\u001b[39m1\u001b[39;49m:])\u001b[39m.\u001b[39;49mleavesCounter\n\u001b[0;32m     27\u001b[0m \u001b[39mif\u001b[39;00m tree\u001b[39m.\u001b[39mgetRightChild \u001b[39m!=\u001b[39m \u001b[39mNone\u001b[39;00m:\n\u001b[0;32m     28\u001b[0m     \u001b[39mreturn\u001b[39;00m \u001b[39mself\u001b[39m\u001b[39m.\u001b[39mtreeBuilder(tree\u001b[39m.\u001b[39mgetRightChild, directions[\u001b[39m1\u001b[39m:])\u001b[39m.\u001b[39mleavesCounter\n",
      "\u001b[1;31mAttributeError\u001b[0m: 'NoneType' object has no attribute 'leavesCounter'"
     ]
    }
   ],
   "source": [
    "sol.treeBuilder(1, 'DRU')"
   ]
  },
  {
   "cell_type": "code",
   "execution_count": null,
   "metadata": {},
   "outputs": [],
   "source": []
  }
 ],
 "metadata": {
  "kernelspec": {
   "display_name": "Python 3",
   "language": "python",
   "name": "python3"
  },
  "language_info": {
   "codemirror_mode": {
    "name": "ipython",
    "version": 3
   },
   "file_extension": ".py",
   "mimetype": "text/x-python",
   "name": "python",
   "nbconvert_exporter": "python",
   "pygments_lexer": "ipython3",
   "version": "3.10.7"
  },
  "orig_nbformat": 4,
  "vscode": {
   "interpreter": {
    "hash": "38cdd751ff1a78921eff5cc54f687db2b577836ff9e523662c7eedaeda872ff5"
   }
  }
 },
 "nbformat": 4,
 "nbformat_minor": 2
}
