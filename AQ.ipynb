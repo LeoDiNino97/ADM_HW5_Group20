{
 "cells": [
  {
   "attachments": {},
   "cell_type": "markdown",
   "metadata": {},
   "source": [
    "# Algorithmic Question"
   ]
  },
  {
   "attachments": {},
   "cell_type": "markdown",
   "metadata": {},
   "source": [
    "The idea we had to solve this problem is to model it through a directed graph whit nine nodes and edges connecting those nodes expressing with their weights the direction they're pointing. The directions are 'U', 'D', 'R', 'L', as the input examples suggested. "
   ]
  },
  {
   "attachments": {},
   "cell_type": "markdown",
   "metadata": {},
   "source": [
    "Then we defined a first naive approach given a strong assumption that simplifies the problem. "
   ]
  },
  {
   "attachments": {},
   "cell_type": "markdown",
   "metadata": {},
   "source": [
    "\n",
    "<div align='center'> EACH DIRECTION IN THE INPUT STRING CAN ONLY BE RUN ACROSS ONE TIME</div>"
   ]
  },
  {
   "attachments": {},
   "cell_type": "markdown",
   "metadata": {},
   "source": [
    "This is a very approximative pseudo-code for our idea:"
   ]
  },
  {
   "attachments": {},
   "cell_type": "markdown",
   "metadata": {},
   "source": [
    "```\n",
    "PathChecker(INPUT: G:graph, N: node, Directions: str, OUTPUT: Boolean):\n",
    "    if len(Directions) == 0:\n",
    "        return(any in G(node).weight == Directions[0])\n",
    "    else:\n",
    "        if any in G(node).weights == Directions[0]:\n",
    "            edge <- edge in G.edges: edge.weight == Directions[0]\n",
    "            N <- edge[1]\n",
    "            return(PathChecker(G, N, Directions[1:]))\n",
    "        else:\n",
    "            return False\n",
    "```"
   ]
  },
  {
   "attachments": {},
   "cell_type": "markdown",
   "metadata": {},
   "source": [
    "We implemented a class to deal with directed graphs from scratch:\n",
    "- `__init__` is the class builder that takes in input a list of nodes and a dictionary for the edges and builds a `adDict` for the adjacency to have a self-representation. It also initializes a variable called `visited` that is useful in subsequent methods;\n",
    "- `getNeighbours` extract the neighbours of a node through the adjacency matrix;\n",
    "- `getConnections` returns as a list the exit-star of a node. In other words it outputs the edges that have the tail in the node. \n",
    "- `findDirection` check if from a node there's an edge pointing in a certain direction, and eventually outputs that edge.\n",
    "- `visitedInitialization` initialize the `self.visited` to a list containing the source of a walk. It is useful to take track of the visited node, since one of the constraints is that the walk on the phone-polyline must not pass over an already touched node. \n",
    "- `checkPath` recursively leverages `findDirection` over a string of directions to check if exists a succession of directions path from a node.\n",
    "- `countPath` counts how many paths are looping through all the nodes."
   ]
  },
  {
   "cell_type": "markdown",
   "metadata": {},
   "source": [
    "```"
   ]
  },
  {
   "cell_type": "code",
   "execution_count": 1,
   "metadata": {},
   "outputs": [],
   "source": [
    "class Graph:\n",
    "    def __init__(self, nodes:list, edges:dict):\n",
    "        self.nodes = nodes\n",
    "        self.edges = edges\n",
    "        self.visited = None\n",
    "        self.adDict = {node: [] for node in self.nodes}\n",
    "\n",
    "        for (src, dst) in self.edges.keys():\n",
    "            self.adDict[src].append(dst)\n",
    "            self.adDict[dst].append(src)\n",
    "    \n",
    "    def getNeighbours(self, node):\n",
    "        return self.adDict[node]\n",
    "    \n",
    "    def getConnections(self, node):\n",
    "        return [edge for edge in self.edges.keys() if edge[0] == node]\n",
    "\n",
    "    def findDirection(self, node, direction):\n",
    "        for edge in self.getConnections(node):\n",
    "            if self.edges[edge] == direction:\n",
    "                return edge \n",
    "        return False\n",
    "    \n",
    "    def visitedInitialization(self,node):\n",
    "        self.visited = [node]\n",
    "    \n",
    "    def checkPath(self, node, directions:str):\n",
    "        if len(directions) == 1:\n",
    "            if self.findDirection(node,directions):\n",
    "                edge = self.findDirection(node, directions)\n",
    "                pointed = edge[1]\n",
    "                if pointed in self.visited:\n",
    "                    return False\n",
    "                else:\n",
    "                    return True\n",
    "            else:\n",
    "                return False\n",
    "        else:\n",
    "            if self.findDirection(node, directions[0]):\n",
    "                edge = self.findDirection(node, directions[0])\n",
    "                pointed = edge[1]\n",
    "                if pointed in self.visited:\n",
    "                    return False\n",
    "                else:\n",
    "                    self.visited.append(pointed)\n",
    "                    return self.checkPath(edge[1], directions[1:])\n",
    "            else:\n",
    "                return False\n",
    "\n",
    "    def countPath(self, directions):\n",
    "        count = 0\n",
    "        for node in self.nodes:\n",
    "            self.visitedInitialization(node)\n",
    "            count += int(self.checkPath(node, directions))\n",
    "        return count"
   ]
  },
  {
   "attachments": {},
   "cell_type": "markdown",
   "metadata": {},
   "source": [
    "This is the instance of the graph that modelize our problem: as we can see we have redundancies in the edge list that could have been solved with an undirected graph, but this instanciation is more expressive for our problem."
   ]
  },
  {
   "cell_type": "code",
   "execution_count": 2,
   "metadata": {},
   "outputs": [],
   "source": [
    "phone_polyline = Graph([1,2,3,4,5,6,7,8,9],{(1,2):'R',(2,1):'L',\n",
    "                                            (4,1):'U',(1,4):'D',\n",
    "                                            (2,3):'R',(3,2):'L',\n",
    "                                            (2,5):'D',(5,2):'U',\n",
    "                                            (3,6):'D',(6,3):'U',\n",
    "                                            (4,7):'D',(7,4):'U',\n",
    "                                            (4,5):'R',(5,4):'L',\n",
    "                                            (5,6):'R',(6,5):'L',\n",
    "                                            (5,8):'D',(8,5):'U',\n",
    "                                            (6,9):'D',(9,6):'U',\n",
    "                                            (7,8):'R',(8,7):'L',\n",
    "                                            (8,9):'R',(9,8):'L'})"
   ]
  },
  {
   "attachments": {},
   "cell_type": "markdown",
   "metadata": {},
   "source": [
    "Now we can modify our initial assumption:"
   ]
  },
  {
   "attachments": {},
   "cell_type": "markdown",
   "metadata": {},
   "source": [
    "<div align='center'> EACH DIRECTION IN THE INPUT STRING CAN BE RUN ACROSS ONCE OR TWICE</div>"
   ]
  },
  {
   "attachments": {},
   "cell_type": "markdown",
   "metadata": {},
   "source": [
    "That leads to another recursive question: we need to define all the possible paths that come down from a string of directions. In our `Solution` class we implemented a `directionsRecombiner` method that does so. Let's see an example:"
   ]
  },
  {
   "cell_type": "code",
   "execution_count": 16,
   "metadata": {},
   "outputs": [
    {
     "data": {
      "text/plain": [
       "['DRU', 'DRUU', 'DRRU', 'DRRUU', 'DDRU', 'DDRUU', 'DDRRU', 'DDRRUU']"
      ]
     },
     "execution_count": 16,
     "metadata": {},
     "output_type": "execute_result"
    }
   ],
   "source": [
    "sol = Solution(phone_polyline)\n",
    "sol.directionsRecombiner('DRU')"
   ]
  },
  {
   "attachments": {},
   "cell_type": "markdown",
   "metadata": {},
   "source": [
    "As a binary splitting problem from a string of length $L$ we get $2^L$ possible paths. We are going to count how many of them are actually admittable on every node of the graph as the source to get the solution to the problem."
   ]
  },
  {
   "cell_type": "code",
   "execution_count": 9,
   "metadata": {},
   "outputs": [],
   "source": [
    "class Solution:\n",
    "    def __init__(self, graph: Graph):\n",
    "        self.graph = graph\n",
    "    \n",
    "    def directionsRecombiner(self, directions):\n",
    "        if len(directions) == 1:\n",
    "            return [directions, 2*directions]\n",
    "        else:\n",
    "            list1 = [directions[0]+ricomb for ricomb in self.directionsRecombiner(directions[1:])]\n",
    "            list2 = [2*directions[0]+ricomb for ricomb in self.directionsRecombiner(directions[1:])]\n",
    "            return list1 + list2\n",
    "\n",
    "    def finalCounter(self, directions):\n",
    "        final_count = 0\n",
    "        for direction in self.directionsRecombiner(directions):\n",
    "            final_count += self.graph.countPath(direction)\n",
    "        return final_count"
   ]
  },
  {
   "cell_type": "code",
   "execution_count": 10,
   "metadata": {},
   "outputs": [
    {
     "name": "stdout",
     "output_type": "stream",
     "text": [
      "15\n",
      "9\n",
      "0\n"
     ]
    }
   ],
   "source": [
    "sol = Solution(phone_polyline)\n",
    "print(sol.finalCounter('DRU'))\n",
    "print(sol.finalCounter('R'))\n",
    "print(sol.finalCounter('LDRDLUL'))"
   ]
  }
 ],
 "metadata": {
  "kernelspec": {
   "display_name": "Python 3",
   "language": "python",
   "name": "python3"
  },
  "language_info": {
   "codemirror_mode": {
    "name": "ipython",
    "version": 3
   },
   "file_extension": ".py",
   "mimetype": "text/x-python",
   "name": "python",
   "nbconvert_exporter": "python",
   "pygments_lexer": "ipython3",
   "version": "3.10.7"
  },
  "orig_nbformat": 4,
  "vscode": {
   "interpreter": {
    "hash": "38cdd751ff1a78921eff5cc54f687db2b577836ff9e523662c7eedaeda872ff5"
   }
  }
 },
 "nbformat": 4,
 "nbformat_minor": 2
}
