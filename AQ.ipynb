{
 "cells": [
  {
   "cell_type": "code",
   "execution_count": 83,
   "metadata": {},
   "outputs": [],
   "source": [
    "class Graph:\n",
    "    def __init__(self, nodes:list, edges:dict):\n",
    "        self.nodes = nodes\n",
    "        self.edges = edges\n",
    "        self.adDict = {node: [] for node in self.nodes}\n",
    "\n",
    "        for (src, dst) in self.edges.keys():\n",
    "            self.adDict[src].append(dst)\n",
    "            self.adDict[dst].append(src)\n",
    "    \n",
    "    def getNeighbours(self, node):\n",
    "        return self.adDict[node]\n",
    "    \n",
    "    def getConnections(self, node):\n",
    "        return [edge for edge in self.edges.keys() if edge[0] == node]\n",
    "\n",
    "    def findDirection(self, node, direction):\n",
    "        for edge in self.getConnections(node):\n",
    "            if self.edges[edge] == direction:\n",
    "                return edge\n",
    "        return False\n",
    "    \n",
    "    def checkPath(self, node, directions:str):\n",
    "        if len(directions) == 1:\n",
    "            return bool(self.findDirection(node, directions))\n",
    "        else:\n",
    "            if self.findDirection(node, directions[0]):\n",
    "                edge = self.findDirection(node, directions[0])\n",
    "                return self.checkPath(edge[1], directions[1:])\n",
    "            else:\n",
    "                return False\n",
    "\n",
    "    def countPath(self, directions):\n",
    "        return sum([self.checkPath(node, directions) for node in self.nodes])\n",
    "\n",
    "    def BFS(self, source):\n",
    "        queue = [source]\n",
    "        visited = []\n",
    "        while len(queue) > 0:\n",
    "            vertex = queue.pop(0)\n",
    "            if vertex not in visited:\n",
    "                visited.append(vertex)\n",
    "            for neighbour in self.getNeighbours(vertex):\n",
    "                if neighbour not in visited and neighbour not in queue:\n",
    "                    queue.append(neighbour)\n",
    "        return visited\n",
    "            "
   ]
  },
  {
   "cell_type": "code",
   "execution_count": 84,
   "metadata": {},
   "outputs": [],
   "source": [
    "phone_polyline = Graph([1,2,3,4,5,6,7,8,9],{(1,2):'R',\n",
    "                                            (2,1):'L',\n",
    "                                            (4,1):'U',\n",
    "                                            (1,4):'D',\n",
    "                                            (2,3):'R',\n",
    "                                            (3,2):'L',\n",
    "                                            (2,5):'D',\n",
    "                                            (5,2):'U',\n",
    "                                            (3,6):'D',\n",
    "                                            (6,3):'U',\n",
    "                                            (4,7):'D',\n",
    "                                            (7,4):'U',\n",
    "                                            (4,5):'R',\n",
    "                                            (5,4):'L',\n",
    "                                            (5,6):'R',\n",
    "                                            (6,5):'L',\n",
    "                                            (5,8):'D',\n",
    "                                            (8,5):'U',\n",
    "                                            (6,9):'D',\n",
    "                                            (9,6):'U',\n",
    "                                            (7,8):'R',\n",
    "                                            (8,7):'L',\n",
    "                                            (8,9):'R',\n",
    "                                            (9,8):'L'})"
   ]
  },
  {
   "cell_type": "code",
   "execution_count": 86,
   "metadata": {},
   "outputs": [
    {
     "data": {
      "text/plain": [
       "False"
      ]
     },
     "execution_count": 86,
     "metadata": {},
     "output_type": "execute_result"
    }
   ],
   "source": [
    "phone_polyline.checkPath(2,'DRUR')"
   ]
  },
  {
   "cell_type": "code",
   "execution_count": null,
   "metadata": {},
   "outputs": [],
   "source": []
  }
 ],
 "metadata": {
  "kernelspec": {
   "display_name": "Python 3",
   "language": "python",
   "name": "python3"
  },
  "language_info": {
   "codemirror_mode": {
    "name": "ipython",
    "version": 3
   },
   "file_extension": ".py",
   "mimetype": "text/x-python",
   "name": "python",
   "nbconvert_exporter": "python",
   "pygments_lexer": "ipython3",
   "version": "3.10.7"
  },
  "orig_nbformat": 4,
  "vscode": {
   "interpreter": {
    "hash": "38cdd751ff1a78921eff5cc54f687db2b577836ff9e523662c7eedaeda872ff5"
   }
  }
 },
 "nbformat": 4,
 "nbformat_minor": 2
}
