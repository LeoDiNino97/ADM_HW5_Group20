{
 "cells": [
  {
   "cell_type": "code",
   "execution_count": 190,
   "metadata": {},
   "outputs": [],
   "source": [
    "class Graph:\n",
    "    def __init__(self, nodes:list, edges:dict):\n",
    "        self.nodes = nodes\n",
    "        self.edges = edges\n",
    "        self.visited = None\n",
    "        self.adDict = {node: [] for node in self.nodes}\n",
    "\n",
    "        for (src, dst) in self.edges.keys():\n",
    "            self.adDict[src].append(dst)\n",
    "            self.adDict[dst].append(src)\n",
    "    \n",
    "    def getNeighbours(self, node):\n",
    "        return self.adDict[node]\n",
    "    \n",
    "    def getConnections(self, node):\n",
    "        return [edge for edge in self.edges.keys() if edge[0] == node]\n",
    "\n",
    "    def findDirection(self, node, direction):\n",
    "        for edge in self.getConnections(node):\n",
    "            if self.edges[edge] == direction:\n",
    "                return edge \n",
    "        return False\n",
    "    \n",
    "    def visitedInitialization(self,node):\n",
    "        self.visited = [node]\n",
    "    \n",
    "    def checkPath(self, node, directions:str):\n",
    "        if len(directions) == 1:\n",
    "            if self.findDirection(node,directions):\n",
    "                edge = self.findDirection(node, directions)\n",
    "                pointed = edge[1]\n",
    "                if pointed in self.visited:\n",
    "                    return False\n",
    "                else:\n",
    "                    return True\n",
    "            else:\n",
    "                return False\n",
    "        else:\n",
    "            if self.findDirection(node, directions[0]):\n",
    "                edge = self.findDirection(node, directions[0])\n",
    "                pointed = edge[1]\n",
    "                if pointed in self.visited:\n",
    "                    return False\n",
    "                else:\n",
    "                    self.visited.append(pointed)\n",
    "                    return self.checkPath(edge[1], directions[1:])\n",
    "            else:\n",
    "                return False\n",
    "\n",
    "    def countPath(self, directions):\n",
    "        count = 0\n",
    "        for node in self.nodes:\n",
    "            self.visitedInitialization(node)\n",
    "            count += int(self.checkPath(node, directions))\n",
    "        return count"
   ]
  },
  {
   "cell_type": "code",
   "execution_count": 191,
   "metadata": {},
   "outputs": [],
   "source": [
    "phone_polyline = Graph([1,2,3,4,5,6,7,8,9],{(1,2):'R',(2,1):'L',\n",
    "                                            (4,1):'U',(1,4):'D',\n",
    "                                            (2,3):'R',(3,2):'L',\n",
    "                                            (2,5):'D',(5,2):'U',\n",
    "                                            (3,6):'D',(6,3):'U',\n",
    "                                            (4,7):'D',(7,4):'U',\n",
    "                                            (4,5):'R',(5,4):'L',\n",
    "                                            (5,6):'R',(6,5):'L',\n",
    "                                            (5,8):'D',(8,5):'U',\n",
    "                                            (6,9):'D',(9,6):'U',\n",
    "                                            (7,8):'R',(8,7):'L',\n",
    "                                            (8,9):'R',(9,8):'L'})"
   ]
  },
  {
   "cell_type": "code",
   "execution_count": 196,
   "metadata": {},
   "outputs": [],
   "source": [
    "class Solution:\n",
    "    def __init__(self, graph: Graph):\n",
    "        self.graph = graph\n",
    "    \n",
    "    def directionsRecombiner(self, directions):\n",
    "        if len(directions) == 1:\n",
    "            return [directions, 2*directions]\n",
    "        else:\n",
    "            list1 = [directions[0]+ricomb for ricomb in self.directionsRecombiner(directions[1:])]\n",
    "            list2 = [2*directions[0]+ricomb for ricomb in self.directionsRecombiner(directions[1:])]\n",
    "            return list1 + list2\n",
    "\n",
    "    def finalCounter(self, directions):\n",
    "        final_count = 0\n",
    "        for direction in self.directionsRecombiner(directions):\n",
    "            final_count += self.graph.countPath(direction)\n",
    "        return final_count"
   ]
  },
  {
   "cell_type": "code",
   "execution_count": 199,
   "metadata": {},
   "outputs": [
    {
     "name": "stdout",
     "output_type": "stream",
     "text": [
      "15\n",
      "9\n",
      "0\n"
     ]
    }
   ],
   "source": [
    "sol = Solution(phone_polyline)\n",
    "print(sol.finalCounter('DRU'))\n",
    "print(sol.finalCounter('R'))\n",
    "print(sol.finalCounter('LDRDLUL'))"
   ]
  },
  {
   "cell_type": "code",
   "execution_count": null,
   "metadata": {},
   "outputs": [],
   "source": []
  }
 ],
 "metadata": {
  "kernelspec": {
   "display_name": "Python 3",
   "language": "python",
   "name": "python3"
  },
  "language_info": {
   "codemirror_mode": {
    "name": "ipython",
    "version": 3
   },
   "file_extension": ".py",
   "mimetype": "text/x-python",
   "name": "python",
   "nbconvert_exporter": "python",
   "pygments_lexer": "ipython3",
   "version": "3.10.7"
  },
  "orig_nbformat": 4,
  "vscode": {
   "interpreter": {
    "hash": "38cdd751ff1a78921eff5cc54f687db2b577836ff9e523662c7eedaeda872ff5"
   }
  }
 },
 "nbformat": 4,
 "nbformat_minor": 2
}
