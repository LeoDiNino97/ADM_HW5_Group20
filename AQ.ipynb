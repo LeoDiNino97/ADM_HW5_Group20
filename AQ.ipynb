{
 "cells": [
  {
   "cell_type": "code",
   "execution_count": 33,
   "metadata": {},
   "outputs": [],
   "source": [
    "class Graph:\n",
    "    def __init__(self, nodes, edges):\n",
    "        self.nodes = nodes\n",
    "        self.edges = edges\n",
    "        self.adDict = {node:[] for node in nodes}\n",
    "\n",
    "        for (src, dst, weight) in edges:\n",
    "            self.adDict[src].append(dst)\n",
    "            self.adDict[dst].append(src)\n",
    "    \n",
    "    def getNeighbours(self, node):\n",
    "        return self.adDict[node]\n",
    "\n",
    "    def BFS(self, source):\n",
    "        queue = [source]\n",
    "        visited = []\n",
    "        while len(queue) > 0:\n",
    "            vertex = queue.pop(0)\n",
    "            if vertex not in visited:\n",
    "                visited.append(vertex)\n",
    "            for neighbour in self.getNeighbours(vertex):\n",
    "                if neighbour not in visited and neighbour not in queue:\n",
    "                    queue.append(neighbour)\n",
    "        return visited\n",
    "\n",
    "    def DFS(self, source):\n",
    "        stack = [source]\n",
    "        visited = []\n",
    "        while len(stack) > 0:\n",
    "            vertex = stack.pop()\n",
    "            if vertex not in visited:\n",
    "                visited.append(vertex)\n",
    "            for neighbour in self.getNeighbours(vertex):\n",
    "                if neighbour not in visited and neighbour not in stack:\n",
    "                    stack.append(neighbour)\n",
    "        return visited\n",
    "\n",
    "    def trickyFutureHusband(self, string):\n",
    "        directions = [string[i] for i in range(len(string))]\n",
    "        for node in self.nodes:\n",
    "            stepWiseReachable = self.BFS(self, node)\n",
    "            "
   ]
  },
  {
   "cell_type": "code",
   "execution_count": 37,
   "metadata": {},
   "outputs": [],
   "source": [
    "phone_polyline = Graph([1,2,3,4,5,6,7,8,9],[(1,2,['R','L']),\n",
    "                                            (1,4,['D','U']),\n",
    "                                            (2,3,['R','L']),\n",
    "                                            (2,5,['D','U']),\n",
    "                                            (3,6,['D','U']),\n",
    "                                            (4,7,['D','U']),\n",
    "                                            (4,5,['R','L']),\n",
    "                                            (5,6,['R','L']),\n",
    "                                            (5,8,['D','U']),\n",
    "                                            (6,9,['D','U']),\n",
    "                                            (7,8,['R','L']),\n",
    "                                            (8,9,['R','L'])])"
   ]
  },
  {
   "cell_type": "code",
   "execution_count": 38,
   "metadata": {},
   "outputs": [
    {
     "data": {
      "text/plain": [
       "['D', 'R', 'U']"
      ]
     },
     "execution_count": 38,
     "metadata": {},
     "output_type": "execute_result"
    }
   ],
   "source": [
    "phone_polyline.trickyFutureHusband('DRU')"
   ]
  },
  {
   "cell_type": "code",
   "execution_count": null,
   "metadata": {},
   "outputs": [],
   "source": []
  }
 ],
 "metadata": {
  "kernelspec": {
   "display_name": "Python 3",
   "language": "python",
   "name": "python3"
  },
  "language_info": {
   "codemirror_mode": {
    "name": "ipython",
    "version": 3
   },
   "file_extension": ".py",
   "mimetype": "text/x-python",
   "name": "python",
   "nbconvert_exporter": "python",
   "pygments_lexer": "ipython3",
   "version": "3.10.7"
  },
  "orig_nbformat": 4,
  "vscode": {
   "interpreter": {
    "hash": "38cdd751ff1a78921eff5cc54f687db2b577836ff9e523662c7eedaeda872ff5"
   }
  }
 },
 "nbformat": 4,
 "nbformat_minor": 2
}
