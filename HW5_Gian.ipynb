{
 "cells": [
  {
   "cell_type": "markdown",
   "id": "442cd8e6-6452-43c8-91ff-eb30601e4800",
   "metadata": {},
   "source": [
    "# Homework 5 - The Marvel Universe!"
   ]
  },
  {
   "cell_type": "code",
   "execution_count": 1,
   "id": "f91f887e",
   "metadata": {},
   "outputs": [],
   "source": [
    "import warnings\n",
    "warnings.filterwarnings(\"ignore\")"
   ]
  },
  {
   "cell_type": "code",
   "execution_count": 3,
   "id": "cea7b78a-a988-468f-b618-99cdce6ded95",
   "metadata": {
    "tags": []
   },
   "outputs": [],
   "source": [
    "import pandas as pd\n",
    "import numpy as np\n",
    "import networkx as nx\n",
    "import matplotlib.pyplot as plt\n",
    "from tqdm import tqdm"
   ]
  },
  {
   "cell_type": "markdown",
   "id": "5a9d7e14-7c88-474a-a697-f3ec2ede0961",
   "metadata": {},
   "source": [
    "## 1. Data"
   ]
  },
  {
   "cell_type": "markdown",
   "id": "b777610d-ae93-4b1d-aca6-6609b18e4b56",
   "metadata": {},
   "source": [
    "### Preprocessing"
   ]
  },
  {
   "cell_type": "code",
   "execution_count": 4,
   "id": "7272f981-d391-46ea-a2f9-9df612ee5090",
   "metadata": {},
   "outputs": [],
   "source": [
    "nodes = pd.read_csv('nodes.csv')"
   ]
  },
  {
   "cell_type": "code",
   "execution_count": 5,
   "id": "03f77d13-9f0e-4e5c-8d90-92a92bb03338",
   "metadata": {},
   "outputs": [],
   "source": [
    "edges = pd.read_csv('edges.csv')"
   ]
  },
  {
   "cell_type": "code",
   "execution_count": 6,
   "id": "efb7f20c-83ce-4e2a-a559-b90668a1e5ea",
   "metadata": {},
   "outputs": [],
   "source": [
    "hero = pd.read_csv('hero-network.csv')"
   ]
  },
  {
   "cell_type": "markdown",
   "id": "b4f9f63e-7f23-436e-a6cc-476462af0515",
   "metadata": {},
   "source": [
    "Take a look"
   ]
  },
  {
   "cell_type": "code",
   "execution_count": 45,
   "id": "81d82e6d-c582-4de3-8474-a108d7c55256",
   "metadata": {},
   "outputs": [
    {
     "name": "stdout",
     "output_type": "stream",
     "text": [
      "<class 'pandas.core.frame.DataFrame'>\n",
      "RangeIndex: 19090 entries, 0 to 19089\n",
      "Data columns (total 2 columns):\n",
      " #   Column  Non-Null Count  Dtype \n",
      "---  ------  --------------  ----- \n",
      " 0   node    19090 non-null  object\n",
      " 1   type    19090 non-null  object\n",
      "dtypes: object(2)\n",
      "memory usage: 298.4+ KB\n"
     ]
    }
   ],
   "source": [
    "nodes.info()"
   ]
  },
  {
   "cell_type": "code",
   "execution_count": 46,
   "id": "5ef6f184-a4d0-4958-91b4-d2ad19aa741b",
   "metadata": {},
   "outputs": [
    {
     "name": "stdout",
     "output_type": "stream",
     "text": [
      "<class 'pandas.core.frame.DataFrame'>\n",
      "RangeIndex: 96104 entries, 0 to 96103\n",
      "Data columns (total 2 columns):\n",
      " #   Column  Non-Null Count  Dtype \n",
      "---  ------  --------------  ----- \n",
      " 0   hero    96104 non-null  object\n",
      " 1   comic   96104 non-null  object\n",
      "dtypes: object(2)\n",
      "memory usage: 1.5+ MB\n"
     ]
    }
   ],
   "source": [
    "edges.info()"
   ]
  },
  {
   "cell_type": "code",
   "execution_count": 47,
   "id": "e7fbd52b-ab5f-47f6-b5dd-e044290b4885",
   "metadata": {},
   "outputs": [
    {
     "name": "stdout",
     "output_type": "stream",
     "text": [
      "<class 'pandas.core.frame.DataFrame'>\n",
      "RangeIndex: 574467 entries, 0 to 574466\n",
      "Data columns (total 2 columns):\n",
      " #   Column  Non-Null Count   Dtype \n",
      "---  ------  --------------   ----- \n",
      " 0   hero1   574467 non-null  object\n",
      " 1   hero2   574467 non-null  object\n",
      "dtypes: object(2)\n",
      "memory usage: 8.8+ MB\n"
     ]
    }
   ],
   "source": [
    "hero.info()"
   ]
  },
  {
   "cell_type": "markdown",
   "id": "00c0028c-3e8d-4ada-927a-e31bb4f79e36",
   "metadata": {},
   "source": [
    "We will not have to deal with NA values, now let's see in what format are the names/words written"
   ]
  },
  {
   "cell_type": "code",
   "execution_count": 48,
   "id": "03f21b42-d98c-4f64-8d8e-fa73977fbfc1",
   "metadata": {},
   "outputs": [
    {
     "data": {
      "text/html": [
       "<div>\n",
       "<style scoped>\n",
       "    .dataframe tbody tr th:only-of-type {\n",
       "        vertical-align: middle;\n",
       "    }\n",
       "\n",
       "    .dataframe tbody tr th {\n",
       "        vertical-align: top;\n",
       "    }\n",
       "\n",
       "    .dataframe thead th {\n",
       "        text-align: right;\n",
       "    }\n",
       "</style>\n",
       "<table border=\"1\" class=\"dataframe\">\n",
       "  <thead>\n",
       "    <tr style=\"text-align: right;\">\n",
       "      <th></th>\n",
       "      <th>node</th>\n",
       "      <th>type</th>\n",
       "    </tr>\n",
       "  </thead>\n",
       "  <tbody>\n",
       "    <tr>\n",
       "      <th>0</th>\n",
       "      <td>2001 10</td>\n",
       "      <td>comic</td>\n",
       "    </tr>\n",
       "    <tr>\n",
       "      <th>1</th>\n",
       "      <td>2001 8</td>\n",
       "      <td>comic</td>\n",
       "    </tr>\n",
       "    <tr>\n",
       "      <th>2</th>\n",
       "      <td>2001 9</td>\n",
       "      <td>comic</td>\n",
       "    </tr>\n",
       "    <tr>\n",
       "      <th>3</th>\n",
       "      <td>24-HOUR MAN/EMMANUEL</td>\n",
       "      <td>hero</td>\n",
       "    </tr>\n",
       "    <tr>\n",
       "      <th>4</th>\n",
       "      <td>3-D MAN/CHARLES CHAN</td>\n",
       "      <td>hero</td>\n",
       "    </tr>\n",
       "    <tr>\n",
       "      <th>5</th>\n",
       "      <td>4-D MAN/MERCURIO</td>\n",
       "      <td>hero</td>\n",
       "    </tr>\n",
       "    <tr>\n",
       "      <th>6</th>\n",
       "      <td>8-BALL/</td>\n",
       "      <td>hero</td>\n",
       "    </tr>\n",
       "    <tr>\n",
       "      <th>7</th>\n",
       "      <td>A '00</td>\n",
       "      <td>comic</td>\n",
       "    </tr>\n",
       "    <tr>\n",
       "      <th>8</th>\n",
       "      <td>A '01</td>\n",
       "      <td>comic</td>\n",
       "    </tr>\n",
       "    <tr>\n",
       "      <th>9</th>\n",
       "      <td>A 100</td>\n",
       "      <td>comic</td>\n",
       "    </tr>\n",
       "  </tbody>\n",
       "</table>\n",
       "</div>"
      ],
      "text/plain": [
       "                   node   type\n",
       "0               2001 10  comic\n",
       "1                2001 8  comic\n",
       "2                2001 9  comic\n",
       "3  24-HOUR MAN/EMMANUEL   hero\n",
       "4  3-D MAN/CHARLES CHAN   hero\n",
       "5      4-D MAN/MERCURIO   hero\n",
       "6               8-BALL/   hero\n",
       "7                 A '00  comic\n",
       "8                 A '01  comic\n",
       "9                 A 100  comic"
      ]
     },
     "execution_count": 48,
     "metadata": {},
     "output_type": "execute_result"
    }
   ],
   "source": [
    "nodes.head(10)"
   ]
  },
  {
   "cell_type": "code",
   "execution_count": 49,
   "id": "5727e7d2-3efb-4d58-8c32-658c1c1f821b",
   "metadata": {},
   "outputs": [
    {
     "data": {
      "text/plain": [
       "node    19090\n",
       "type        2\n",
       "dtype: int64"
      ]
     },
     "execution_count": 49,
     "metadata": {},
     "output_type": "execute_result"
    }
   ],
   "source": [
    "nodes.nunique()"
   ]
  },
  {
   "cell_type": "code",
   "execution_count": 50,
   "id": "21c8a240-4aff-4437-99fe-712d77151b8b",
   "metadata": {},
   "outputs": [
    {
     "data": {
      "text/html": [
       "<div>\n",
       "<style scoped>\n",
       "    .dataframe tbody tr th:only-of-type {\n",
       "        vertical-align: middle;\n",
       "    }\n",
       "\n",
       "    .dataframe tbody tr th {\n",
       "        vertical-align: top;\n",
       "    }\n",
       "\n",
       "    .dataframe thead th {\n",
       "        text-align: right;\n",
       "    }\n",
       "</style>\n",
       "<table border=\"1\" class=\"dataframe\">\n",
       "  <thead>\n",
       "    <tr style=\"text-align: right;\">\n",
       "      <th></th>\n",
       "      <th>hero</th>\n",
       "      <th>comic</th>\n",
       "    </tr>\n",
       "  </thead>\n",
       "  <tbody>\n",
       "    <tr>\n",
       "      <th>0</th>\n",
       "      <td>24-HOUR MAN/EMMANUEL</td>\n",
       "      <td>AA2 35</td>\n",
       "    </tr>\n",
       "    <tr>\n",
       "      <th>1</th>\n",
       "      <td>3-D MAN/CHARLES CHAN</td>\n",
       "      <td>AVF 4</td>\n",
       "    </tr>\n",
       "    <tr>\n",
       "      <th>2</th>\n",
       "      <td>3-D MAN/CHARLES CHAN</td>\n",
       "      <td>AVF 5</td>\n",
       "    </tr>\n",
       "    <tr>\n",
       "      <th>3</th>\n",
       "      <td>3-D MAN/CHARLES CHAN</td>\n",
       "      <td>COC 1</td>\n",
       "    </tr>\n",
       "    <tr>\n",
       "      <th>4</th>\n",
       "      <td>3-D MAN/CHARLES CHAN</td>\n",
       "      <td>H2 251</td>\n",
       "    </tr>\n",
       "    <tr>\n",
       "      <th>5</th>\n",
       "      <td>3-D MAN/CHARLES CHAN</td>\n",
       "      <td>H2 252</td>\n",
       "    </tr>\n",
       "    <tr>\n",
       "      <th>6</th>\n",
       "      <td>3-D MAN/CHARLES CHAN</td>\n",
       "      <td>M/PRM 35</td>\n",
       "    </tr>\n",
       "    <tr>\n",
       "      <th>7</th>\n",
       "      <td>3-D MAN/CHARLES CHAN</td>\n",
       "      <td>M/PRM 36</td>\n",
       "    </tr>\n",
       "    <tr>\n",
       "      <th>8</th>\n",
       "      <td>3-D MAN/CHARLES CHAN</td>\n",
       "      <td>M/PRM 37</td>\n",
       "    </tr>\n",
       "    <tr>\n",
       "      <th>9</th>\n",
       "      <td>3-D MAN/CHARLES CHAN</td>\n",
       "      <td>WI? 9</td>\n",
       "    </tr>\n",
       "  </tbody>\n",
       "</table>\n",
       "</div>"
      ],
      "text/plain": [
       "                   hero     comic\n",
       "0  24-HOUR MAN/EMMANUEL    AA2 35\n",
       "1  3-D MAN/CHARLES CHAN     AVF 4\n",
       "2  3-D MAN/CHARLES CHAN     AVF 5\n",
       "3  3-D MAN/CHARLES CHAN     COC 1\n",
       "4  3-D MAN/CHARLES CHAN    H2 251\n",
       "5  3-D MAN/CHARLES CHAN    H2 252\n",
       "6  3-D MAN/CHARLES CHAN  M/PRM 35\n",
       "7  3-D MAN/CHARLES CHAN  M/PRM 36\n",
       "8  3-D MAN/CHARLES CHAN  M/PRM 37\n",
       "9  3-D MAN/CHARLES CHAN     WI? 9"
      ]
     },
     "execution_count": 50,
     "metadata": {},
     "output_type": "execute_result"
    }
   ],
   "source": [
    "edges.head(10)"
   ]
  },
  {
   "cell_type": "code",
   "execution_count": 51,
   "id": "218811c4-485d-4a19-a86e-07995584a185",
   "metadata": {},
   "outputs": [
    {
     "data": {
      "text/plain": [
       "hero      6439\n",
       "comic    12651\n",
       "dtype: int64"
      ]
     },
     "execution_count": 51,
     "metadata": {},
     "output_type": "execute_result"
    }
   ],
   "source": [
    "edges.nunique()"
   ]
  },
  {
   "cell_type": "code",
   "execution_count": 52,
   "id": "df756d5d-c427-48ea-8f32-896f2e6a20ad",
   "metadata": {
    "tags": []
   },
   "outputs": [
    {
     "data": {
      "text/html": [
       "<div>\n",
       "<style scoped>\n",
       "    .dataframe tbody tr th:only-of-type {\n",
       "        vertical-align: middle;\n",
       "    }\n",
       "\n",
       "    .dataframe tbody tr th {\n",
       "        vertical-align: top;\n",
       "    }\n",
       "\n",
       "    .dataframe thead th {\n",
       "        text-align: right;\n",
       "    }\n",
       "</style>\n",
       "<table border=\"1\" class=\"dataframe\">\n",
       "  <thead>\n",
       "    <tr style=\"text-align: right;\">\n",
       "      <th></th>\n",
       "      <th>hero1</th>\n",
       "      <th>hero2</th>\n",
       "    </tr>\n",
       "  </thead>\n",
       "  <tbody>\n",
       "    <tr>\n",
       "      <th>0</th>\n",
       "      <td>LITTLE, ABNER</td>\n",
       "      <td>PRINCESS ZANDA</td>\n",
       "    </tr>\n",
       "    <tr>\n",
       "      <th>1</th>\n",
       "      <td>LITTLE, ABNER</td>\n",
       "      <td>BLACK PANTHER/T'CHAL</td>\n",
       "    </tr>\n",
       "    <tr>\n",
       "      <th>2</th>\n",
       "      <td>BLACK PANTHER/T'CHAL</td>\n",
       "      <td>PRINCESS ZANDA</td>\n",
       "    </tr>\n",
       "    <tr>\n",
       "      <th>3</th>\n",
       "      <td>LITTLE, ABNER</td>\n",
       "      <td>PRINCESS ZANDA</td>\n",
       "    </tr>\n",
       "    <tr>\n",
       "      <th>4</th>\n",
       "      <td>LITTLE, ABNER</td>\n",
       "      <td>BLACK PANTHER/T'CHAL</td>\n",
       "    </tr>\n",
       "    <tr>\n",
       "      <th>5</th>\n",
       "      <td>BLACK PANTHER/T'CHAL</td>\n",
       "      <td>PRINCESS ZANDA</td>\n",
       "    </tr>\n",
       "    <tr>\n",
       "      <th>6</th>\n",
       "      <td>STEELE, SIMON/WOLFGA</td>\n",
       "      <td>FORTUNE, DOMINIC</td>\n",
       "    </tr>\n",
       "    <tr>\n",
       "      <th>7</th>\n",
       "      <td>STEELE, SIMON/WOLFGA</td>\n",
       "      <td>ERWIN, CLYTEMNESTRA</td>\n",
       "    </tr>\n",
       "    <tr>\n",
       "      <th>8</th>\n",
       "      <td>STEELE, SIMON/WOLFGA</td>\n",
       "      <td>IRON MAN/TONY STARK</td>\n",
       "    </tr>\n",
       "    <tr>\n",
       "      <th>9</th>\n",
       "      <td>STEELE, SIMON/WOLFGA</td>\n",
       "      <td>IRON MAN IV/JAMES R.</td>\n",
       "    </tr>\n",
       "  </tbody>\n",
       "</table>\n",
       "</div>"
      ],
      "text/plain": [
       "                  hero1                 hero2\n",
       "0         LITTLE, ABNER        PRINCESS ZANDA\n",
       "1         LITTLE, ABNER  BLACK PANTHER/T'CHAL\n",
       "2  BLACK PANTHER/T'CHAL        PRINCESS ZANDA\n",
       "3         LITTLE, ABNER        PRINCESS ZANDA\n",
       "4         LITTLE, ABNER  BLACK PANTHER/T'CHAL\n",
       "5  BLACK PANTHER/T'CHAL        PRINCESS ZANDA\n",
       "6  STEELE, SIMON/WOLFGA      FORTUNE, DOMINIC\n",
       "7  STEELE, SIMON/WOLFGA   ERWIN, CLYTEMNESTRA\n",
       "8  STEELE, SIMON/WOLFGA  IRON MAN/TONY STARK \n",
       "9  STEELE, SIMON/WOLFGA  IRON MAN IV/JAMES R."
      ]
     },
     "execution_count": 52,
     "metadata": {},
     "output_type": "execute_result"
    }
   ],
   "source": [
    "hero.head(10)"
   ]
  },
  {
   "cell_type": "code",
   "execution_count": 53,
   "id": "4119bd95-8921-4276-930b-d60bfe353b7c",
   "metadata": {},
   "outputs": [
    {
     "data": {
      "text/plain": [
       "hero1    6211\n",
       "hero2    6173\n",
       "dtype: int64"
      ]
     },
     "execution_count": 53,
     "metadata": {},
     "output_type": "execute_result"
    }
   ],
   "source": [
    "hero.nunique()"
   ]
  },
  {
   "cell_type": "markdown",
   "id": "dff30b34-c3a9-4cc0-98df-4e9e5b84abea",
   "metadata": {},
   "source": [
    "##### Problems:\n",
    " - Some heroes' names in 'hero-network.csv' have extra spaces at the end of their names compared to their names in 'edges.csv'\n",
    " - Some heroes' names in 'hero-network.csv' have an extra '/' at the end of their names compared to their names in 'edges.csv'\n",
    " - The hero name 'SPIDER-MAN/PETER PARKER' in 'edges.csv' has been changed to 'SPIDER-MAN/PETER PAR' in 'hero-network.csv' due to a string length limit in 'hero-network.csv'\n",
    " - Some entries in the 'hero-network.csv' have the same hero in both columns. In the graph, these entries form a self-loop. Because a self-loop makes no sense in this network, you can safely remove those from the dataset."
   ]
  },
  {
   "cell_type": "markdown",
   "id": "9ecee5ee-7b38-48bd-a194-b844004964ab",
   "metadata": {},
   "source": [
    "First of all, we remove the extra characters from the neroes' names."
   ]
  },
  {
   "cell_type": "code",
   "execution_count": 7,
   "id": "4000cb35-38cb-4386-8762-b3d4c11ae2d7",
   "metadata": {},
   "outputs": [],
   "source": [
    "hero[\"hero1\"] = hero[\"hero1\"].str.rstrip('/ ')\n",
    "hero[\"hero2\"] = hero[\"hero2\"].str.rstrip('/ ')"
   ]
  },
  {
   "cell_type": "code",
   "execution_count": 7,
   "id": "3d700dcd-a59b-41be-b28c-da7a9d7634bd",
   "metadata": {},
   "outputs": [
    {
     "data": {
      "text/html": [
       "<div>\n",
       "<style scoped>\n",
       "    .dataframe tbody tr th:only-of-type {\n",
       "        vertical-align: middle;\n",
       "    }\n",
       "\n",
       "    .dataframe tbody tr th {\n",
       "        vertical-align: top;\n",
       "    }\n",
       "\n",
       "    .dataframe thead th {\n",
       "        text-align: right;\n",
       "    }\n",
       "</style>\n",
       "<table border=\"1\" class=\"dataframe\">\n",
       "  <thead>\n",
       "    <tr style=\"text-align: right;\">\n",
       "      <th></th>\n",
       "      <th>hero1</th>\n",
       "      <th>hero2</th>\n",
       "    </tr>\n",
       "  </thead>\n",
       "  <tbody>\n",
       "    <tr>\n",
       "      <th>0</th>\n",
       "      <td>LITTLE, ABNER</td>\n",
       "      <td>PRINCESS ZANDA</td>\n",
       "    </tr>\n",
       "    <tr>\n",
       "      <th>1</th>\n",
       "      <td>LITTLE, ABNER</td>\n",
       "      <td>BLACK PANTHER/T'CHAL</td>\n",
       "    </tr>\n",
       "    <tr>\n",
       "      <th>2</th>\n",
       "      <td>BLACK PANTHER/T'CHAL</td>\n",
       "      <td>PRINCESS ZANDA</td>\n",
       "    </tr>\n",
       "    <tr>\n",
       "      <th>3</th>\n",
       "      <td>LITTLE, ABNER</td>\n",
       "      <td>PRINCESS ZANDA</td>\n",
       "    </tr>\n",
       "    <tr>\n",
       "      <th>4</th>\n",
       "      <td>LITTLE, ABNER</td>\n",
       "      <td>BLACK PANTHER/T'CHAL</td>\n",
       "    </tr>\n",
       "    <tr>\n",
       "      <th>5</th>\n",
       "      <td>BLACK PANTHER/T'CHAL</td>\n",
       "      <td>PRINCESS ZANDA</td>\n",
       "    </tr>\n",
       "    <tr>\n",
       "      <th>6</th>\n",
       "      <td>STEELE, SIMON/WOLFGA</td>\n",
       "      <td>FORTUNE, DOMINIC</td>\n",
       "    </tr>\n",
       "    <tr>\n",
       "      <th>7</th>\n",
       "      <td>STEELE, SIMON/WOLFGA</td>\n",
       "      <td>ERWIN, CLYTEMNESTRA</td>\n",
       "    </tr>\n",
       "    <tr>\n",
       "      <th>8</th>\n",
       "      <td>STEELE, SIMON/WOLFGA</td>\n",
       "      <td>IRON MAN/TONY STARK</td>\n",
       "    </tr>\n",
       "    <tr>\n",
       "      <th>9</th>\n",
       "      <td>STEELE, SIMON/WOLFGA</td>\n",
       "      <td>IRON MAN IV/JAMES R.</td>\n",
       "    </tr>\n",
       "  </tbody>\n",
       "</table>\n",
       "</div>"
      ],
      "text/plain": [
       "                  hero1                 hero2\n",
       "0         LITTLE, ABNER        PRINCESS ZANDA\n",
       "1         LITTLE, ABNER  BLACK PANTHER/T'CHAL\n",
       "2  BLACK PANTHER/T'CHAL        PRINCESS ZANDA\n",
       "3         LITTLE, ABNER        PRINCESS ZANDA\n",
       "4         LITTLE, ABNER  BLACK PANTHER/T'CHAL\n",
       "5  BLACK PANTHER/T'CHAL        PRINCESS ZANDA\n",
       "6  STEELE, SIMON/WOLFGA      FORTUNE, DOMINIC\n",
       "7  STEELE, SIMON/WOLFGA   ERWIN, CLYTEMNESTRA\n",
       "8  STEELE, SIMON/WOLFGA   IRON MAN/TONY STARK\n",
       "9  STEELE, SIMON/WOLFGA  IRON MAN IV/JAMES R."
      ]
     },
     "execution_count": 7,
     "metadata": {},
     "output_type": "execute_result"
    }
   ],
   "source": [
    "hero.head(10)"
   ]
  },
  {
   "cell_type": "code",
   "execution_count": 8,
   "id": "8c238022-0840-454c-9f4d-b0fe5837a8e1",
   "metadata": {},
   "outputs": [
    {
     "data": {
      "text/plain": [
       "hero1    6206\n",
       "hero2    6169\n",
       "dtype: int64"
      ]
     },
     "execution_count": 8,
     "metadata": {},
     "output_type": "execute_result"
    }
   ],
   "source": [
    "hero.nunique()"
   ]
  },
  {
   "cell_type": "markdown",
   "id": "01beae77-a5b3-479a-9349-e0970929ba24",
   "metadata": {},
   "source": [
    "We have less unique values after the rstrip, so there were actually some names that were the same but with extra characters."
   ]
  },
  {
   "cell_type": "markdown",
   "id": "856b07f8-6a30-4126-9b43-d3fea74a8eeb",
   "metadata": {},
   "source": [
    "Now let's change Spiderman's name in the hero dataframe to the complete 'SPIDER-MAN/PETER PARKER'."
   ]
  },
  {
   "cell_type": "code",
   "execution_count": 8,
   "id": "3510b09e-670e-4b91-9d38-4febdc7f255e",
   "metadata": {},
   "outputs": [],
   "source": [
    "hero[hero[\"hero1\"]=='SPIDER-MAN/PETER PAR']='SPIDER-MAN/PETER PARKER'\n",
    "hero[hero[\"hero2\"]=='SPIDER-MAN/PETER PAR']='SPIDER-MAN/PETER PARKER'"
   ]
  },
  {
   "cell_type": "code",
   "execution_count": 9,
   "id": "ce4dc7ea-6864-434e-b596-ca54f98c0d77",
   "metadata": {},
   "outputs": [
    {
     "name": "stdout",
     "output_type": "stream",
     "text": [
      "(0, 2)\n",
      "(0, 2)\n"
     ]
    }
   ],
   "source": [
    "print(hero[hero[\"hero1\"]=='SPIDER-MAN/PETER PAR'].shape)\n",
    "print(hero[hero[\"hero2\"]=='SPIDER-MAN/PETER PAR'].shape)"
   ]
  },
  {
   "cell_type": "markdown",
   "id": "943ecae4-ad5a-44a9-bc34-ab9dc4b62352",
   "metadata": {},
   "source": [
    "Done! No more short name for Spiderman."
   ]
  },
  {
   "cell_type": "markdown",
   "id": "104b0827-c062-448f-992c-a365ab8bf055",
   "metadata": {},
   "source": [
    "### Graphs setup"
   ]
  },
  {
   "cell_type": "markdown",
   "id": "548cf42d-e686-40e2-885a-bb35fb30f65e",
   "metadata": {},
   "source": [
    "**First graph**: Will be constructed using the data stored in the 'hero-network.csv' file, in which an edge between two heroes can be found if they have appeared in the same comic together. The number of edges between two heroes represents the number of times they have collaborated in different comics. The graph should be considered weighted and undirected. It is up to you to decide which metric to use to calculate the weights, but we anticipate that the cost will be lower for heroes with more collaborations. Please specify which metric you used to select the weights in the report."
   ]
  },
  {
   "attachments": {},
   "cell_type": "markdown",
   "id": "7608b879-a3fb-4dd6-a7ec-67019e2c8a7f",
   "metadata": {},
   "source": [
    "First of all, we need to define a metric to calculate the weights so that the heroes with more collaborations has a lower 'cost'. In order to match the number of collaborations with an appropriate weight, we can use the inverse of the normalized number of collaborations for each hero. Just applying $\\frac{(\\max - X)}{(\\max - \\min)}$ to each value, we will obtain a 'cost' scaled between 0 and 1, meaning that if a collaboration has a weight close to 0 it is much more important than a collaboration with a weight close to 1."
   ]
  },
  {
   "cell_type": "markdown",
   "id": "a0ebd602-b63e-4f0d-9ace-ee05e5396d53",
   "metadata": {},
   "source": [
    "We create a column with the number of collaboration for each pair of heroes."
   ]
  },
  {
   "cell_type": "code",
   "execution_count": 10,
   "id": "ad8d2dfc-455c-46b4-9588-0e8ce71eed5b",
   "metadata": {},
   "outputs": [],
   "source": [
    "hero['number of coll'] = hero.groupby(['hero1', 'hero2'])['hero1'].transform('count')"
   ]
  },
  {
   "cell_type": "code",
   "execution_count": 10,
   "id": "c9f69141-d02a-485a-8e0e-3ed9df87e837",
   "metadata": {},
   "outputs": [
    {
     "data": {
      "text/html": [
       "<div>\n",
       "<style scoped>\n",
       "    .dataframe tbody tr th:only-of-type {\n",
       "        vertical-align: middle;\n",
       "    }\n",
       "\n",
       "    .dataframe tbody tr th {\n",
       "        vertical-align: top;\n",
       "    }\n",
       "\n",
       "    .dataframe thead th {\n",
       "        text-align: right;\n",
       "    }\n",
       "</style>\n",
       "<table border=\"1\" class=\"dataframe\">\n",
       "  <thead>\n",
       "    <tr style=\"text-align: right;\">\n",
       "      <th></th>\n",
       "      <th>hero1</th>\n",
       "      <th>hero2</th>\n",
       "      <th>number of coll</th>\n",
       "    </tr>\n",
       "  </thead>\n",
       "  <tbody>\n",
       "    <tr>\n",
       "      <th>0</th>\n",
       "      <td>LITTLE, ABNER</td>\n",
       "      <td>PRINCESS ZANDA</td>\n",
       "      <td>5</td>\n",
       "    </tr>\n",
       "    <tr>\n",
       "      <th>1</th>\n",
       "      <td>LITTLE, ABNER</td>\n",
       "      <td>BLACK PANTHER/T'CHAL</td>\n",
       "      <td>4</td>\n",
       "    </tr>\n",
       "    <tr>\n",
       "      <th>2</th>\n",
       "      <td>BLACK PANTHER/T'CHAL</td>\n",
       "      <td>PRINCESS ZANDA</td>\n",
       "      <td>4</td>\n",
       "    </tr>\n",
       "    <tr>\n",
       "      <th>3</th>\n",
       "      <td>LITTLE, ABNER</td>\n",
       "      <td>PRINCESS ZANDA</td>\n",
       "      <td>5</td>\n",
       "    </tr>\n",
       "    <tr>\n",
       "      <th>4</th>\n",
       "      <td>LITTLE, ABNER</td>\n",
       "      <td>BLACK PANTHER/T'CHAL</td>\n",
       "      <td>4</td>\n",
       "    </tr>\n",
       "    <tr>\n",
       "      <th>...</th>\n",
       "      <td>...</td>\n",
       "      <td>...</td>\n",
       "      <td>...</td>\n",
       "    </tr>\n",
       "    <tr>\n",
       "      <th>574462</th>\n",
       "      <td>COLOSSUS II/PETER RA</td>\n",
       "      <td>CALLISTO</td>\n",
       "      <td>15</td>\n",
       "    </tr>\n",
       "    <tr>\n",
       "      <th>574463</th>\n",
       "      <td>CALLISTO</td>\n",
       "      <td>ROGUE</td>\n",
       "      <td>10</td>\n",
       "    </tr>\n",
       "    <tr>\n",
       "      <th>574464</th>\n",
       "      <td>CALLISTO</td>\n",
       "      <td>CALIBAN</td>\n",
       "      <td>5</td>\n",
       "    </tr>\n",
       "    <tr>\n",
       "      <th>574465</th>\n",
       "      <td>CALIBAN</td>\n",
       "      <td>ROGUE</td>\n",
       "      <td>6</td>\n",
       "    </tr>\n",
       "    <tr>\n",
       "      <th>574466</th>\n",
       "      <td>HULK/DR. ROBERT BRUC</td>\n",
       "      <td>MARKS, DR. SHIELA</td>\n",
       "      <td>1</td>\n",
       "    </tr>\n",
       "  </tbody>\n",
       "</table>\n",
       "<p>574467 rows × 3 columns</p>\n",
       "</div>"
      ],
      "text/plain": [
       "                       hero1                 hero2  number of coll\n",
       "0              LITTLE, ABNER        PRINCESS ZANDA               5\n",
       "1              LITTLE, ABNER  BLACK PANTHER/T'CHAL               4\n",
       "2       BLACK PANTHER/T'CHAL        PRINCESS ZANDA               4\n",
       "3              LITTLE, ABNER        PRINCESS ZANDA               5\n",
       "4              LITTLE, ABNER  BLACK PANTHER/T'CHAL               4\n",
       "...                      ...                   ...             ...\n",
       "574462  COLOSSUS II/PETER RA              CALLISTO              15\n",
       "574463              CALLISTO                 ROGUE              10\n",
       "574464              CALLISTO               CALIBAN               5\n",
       "574465               CALIBAN                 ROGUE               6\n",
       "574466  HULK/DR. ROBERT BRUC     MARKS, DR. SHIELA               1\n",
       "\n",
       "[574467 rows x 3 columns]"
      ]
     },
     "execution_count": 10,
     "metadata": {},
     "output_type": "execute_result"
    }
   ],
   "source": [
    "hero"
   ]
  },
  {
   "cell_type": "markdown",
   "id": "645a17d7-9fda-42e9-91ba-a0515f17b93e",
   "metadata": {},
   "source": [
    "We will use it only to compute the normalization, then we will delete it."
   ]
  },
  {
   "cell_type": "code",
   "execution_count": 11,
   "id": "f8c9b06d-5b89-47a3-8d4e-5045a55548a6",
   "metadata": {
    "tags": []
   },
   "outputs": [],
   "source": [
    "MAX = hero['number of coll'].max()"
   ]
  },
  {
   "cell_type": "code",
   "execution_count": 12,
   "id": "6c0005f0-cf2a-4368-9330-838f2a283585",
   "metadata": {},
   "outputs": [],
   "source": [
    "MIN = hero['number of coll'].min()"
   ]
  },
  {
   "cell_type": "code",
   "execution_count": 12,
   "id": "93beb2a6-62af-4b8b-a02e-71908b917ef6",
   "metadata": {},
   "outputs": [
    {
     "name": "stdout",
     "output_type": "stream",
     "text": [
      "13717\n",
      "1\n"
     ]
    }
   ],
   "source": [
    "print(MAX)\n",
    "print(MIN)"
   ]
  },
  {
   "cell_type": "code",
   "execution_count": 13,
   "id": "3f9e1e50-8382-40a5-a102-e380e25bc0f9",
   "metadata": {},
   "outputs": [],
   "source": [
    "hero['weight'] = (MAX - hero['number of coll'])/(MAX - MIN)"
   ]
  },
  {
   "cell_type": "code",
   "execution_count": 14,
   "id": "9c1351e3-3d69-452f-b125-ffa30ce4f45c",
   "metadata": {},
   "outputs": [
    {
     "data": {
      "text/html": [
       "<div>\n",
       "<style scoped>\n",
       "    .dataframe tbody tr th:only-of-type {\n",
       "        vertical-align: middle;\n",
       "    }\n",
       "\n",
       "    .dataframe tbody tr th {\n",
       "        vertical-align: top;\n",
       "    }\n",
       "\n",
       "    .dataframe thead th {\n",
       "        text-align: right;\n",
       "    }\n",
       "</style>\n",
       "<table border=\"1\" class=\"dataframe\">\n",
       "  <thead>\n",
       "    <tr style=\"text-align: right;\">\n",
       "      <th></th>\n",
       "      <th>hero1</th>\n",
       "      <th>hero2</th>\n",
       "      <th>number of coll</th>\n",
       "      <th>weight</th>\n",
       "    </tr>\n",
       "  </thead>\n",
       "  <tbody>\n",
       "    <tr>\n",
       "      <th>0</th>\n",
       "      <td>LITTLE, ABNER</td>\n",
       "      <td>PRINCESS ZANDA</td>\n",
       "      <td>5</td>\n",
       "      <td>0.999708</td>\n",
       "    </tr>\n",
       "    <tr>\n",
       "      <th>1</th>\n",
       "      <td>LITTLE, ABNER</td>\n",
       "      <td>BLACK PANTHER/T'CHAL</td>\n",
       "      <td>4</td>\n",
       "      <td>0.999781</td>\n",
       "    </tr>\n",
       "    <tr>\n",
       "      <th>2</th>\n",
       "      <td>BLACK PANTHER/T'CHAL</td>\n",
       "      <td>PRINCESS ZANDA</td>\n",
       "      <td>4</td>\n",
       "      <td>0.999781</td>\n",
       "    </tr>\n",
       "    <tr>\n",
       "      <th>3</th>\n",
       "      <td>LITTLE, ABNER</td>\n",
       "      <td>PRINCESS ZANDA</td>\n",
       "      <td>5</td>\n",
       "      <td>0.999708</td>\n",
       "    </tr>\n",
       "    <tr>\n",
       "      <th>4</th>\n",
       "      <td>LITTLE, ABNER</td>\n",
       "      <td>BLACK PANTHER/T'CHAL</td>\n",
       "      <td>4</td>\n",
       "      <td>0.999781</td>\n",
       "    </tr>\n",
       "    <tr>\n",
       "      <th>5</th>\n",
       "      <td>BLACK PANTHER/T'CHAL</td>\n",
       "      <td>PRINCESS ZANDA</td>\n",
       "      <td>4</td>\n",
       "      <td>0.999781</td>\n",
       "    </tr>\n",
       "    <tr>\n",
       "      <th>6</th>\n",
       "      <td>STEELE, SIMON/WOLFGA</td>\n",
       "      <td>FORTUNE, DOMINIC</td>\n",
       "      <td>2</td>\n",
       "      <td>0.999927</td>\n",
       "    </tr>\n",
       "    <tr>\n",
       "      <th>7</th>\n",
       "      <td>STEELE, SIMON/WOLFGA</td>\n",
       "      <td>ERWIN, CLYTEMNESTRA</td>\n",
       "      <td>1</td>\n",
       "      <td>1.000000</td>\n",
       "    </tr>\n",
       "    <tr>\n",
       "      <th>8</th>\n",
       "      <td>STEELE, SIMON/WOLFGA</td>\n",
       "      <td>IRON MAN/TONY STARK</td>\n",
       "      <td>1</td>\n",
       "      <td>1.000000</td>\n",
       "    </tr>\n",
       "    <tr>\n",
       "      <th>9</th>\n",
       "      <td>STEELE, SIMON/WOLFGA</td>\n",
       "      <td>IRON MAN IV/JAMES R.</td>\n",
       "      <td>1</td>\n",
       "      <td>1.000000</td>\n",
       "    </tr>\n",
       "    <tr>\n",
       "      <th>10</th>\n",
       "      <td>STEELE, SIMON/WOLFGA</td>\n",
       "      <td>RAVEN, SABBATH II/EL</td>\n",
       "      <td>1</td>\n",
       "      <td>1.000000</td>\n",
       "    </tr>\n",
       "    <tr>\n",
       "      <th>11</th>\n",
       "      <td>RAVEN, SABBATH II/EL</td>\n",
       "      <td>FORTUNE, DOMINIC</td>\n",
       "      <td>4</td>\n",
       "      <td>0.999781</td>\n",
       "    </tr>\n",
       "    <tr>\n",
       "      <th>12</th>\n",
       "      <td>RAVEN, SABBATH II/EL</td>\n",
       "      <td>ERWIN, CLYTEMNESTRA</td>\n",
       "      <td>1</td>\n",
       "      <td>1.000000</td>\n",
       "    </tr>\n",
       "    <tr>\n",
       "      <th>13</th>\n",
       "      <td>RAVEN, SABBATH II/EL</td>\n",
       "      <td>IRON MAN/TONY STARK</td>\n",
       "      <td>2</td>\n",
       "      <td>0.999927</td>\n",
       "    </tr>\n",
       "    <tr>\n",
       "      <th>14</th>\n",
       "      <td>RAVEN, SABBATH II/EL</td>\n",
       "      <td>IRON MAN IV/JAMES R.</td>\n",
       "      <td>1</td>\n",
       "      <td>1.000000</td>\n",
       "    </tr>\n",
       "  </tbody>\n",
       "</table>\n",
       "</div>"
      ],
      "text/plain": [
       "                   hero1                 hero2  number of coll    weight\n",
       "0          LITTLE, ABNER        PRINCESS ZANDA               5  0.999708\n",
       "1          LITTLE, ABNER  BLACK PANTHER/T'CHAL               4  0.999781\n",
       "2   BLACK PANTHER/T'CHAL        PRINCESS ZANDA               4  0.999781\n",
       "3          LITTLE, ABNER        PRINCESS ZANDA               5  0.999708\n",
       "4          LITTLE, ABNER  BLACK PANTHER/T'CHAL               4  0.999781\n",
       "5   BLACK PANTHER/T'CHAL        PRINCESS ZANDA               4  0.999781\n",
       "6   STEELE, SIMON/WOLFGA      FORTUNE, DOMINIC               2  0.999927\n",
       "7   STEELE, SIMON/WOLFGA   ERWIN, CLYTEMNESTRA               1  1.000000\n",
       "8   STEELE, SIMON/WOLFGA   IRON MAN/TONY STARK               1  1.000000\n",
       "9   STEELE, SIMON/WOLFGA  IRON MAN IV/JAMES R.               1  1.000000\n",
       "10  STEELE, SIMON/WOLFGA  RAVEN, SABBATH II/EL               1  1.000000\n",
       "11  RAVEN, SABBATH II/EL      FORTUNE, DOMINIC               4  0.999781\n",
       "12  RAVEN, SABBATH II/EL   ERWIN, CLYTEMNESTRA               1  1.000000\n",
       "13  RAVEN, SABBATH II/EL   IRON MAN/TONY STARK               2  0.999927\n",
       "14  RAVEN, SABBATH II/EL  IRON MAN IV/JAMES R.               1  1.000000"
      ]
     },
     "execution_count": 14,
     "metadata": {},
     "output_type": "execute_result"
    }
   ],
   "source": [
    "hero.head(15)"
   ]
  },
  {
   "cell_type": "code",
   "execution_count": 14,
   "id": "3c7dae2c-7d66-4243-9627-286da40015a5",
   "metadata": {},
   "outputs": [],
   "source": [
    "hero = hero.drop('number of coll', axis=1)"
   ]
  },
  {
   "cell_type": "code",
   "execution_count": 16,
   "id": "53f85d4d-2d7a-4480-ab2b-dd997b97bd05",
   "metadata": {
    "tags": []
   },
   "outputs": [
    {
     "data": {
      "text/html": [
       "<div>\n",
       "<style scoped>\n",
       "    .dataframe tbody tr th:only-of-type {\n",
       "        vertical-align: middle;\n",
       "    }\n",
       "\n",
       "    .dataframe tbody tr th {\n",
       "        vertical-align: top;\n",
       "    }\n",
       "\n",
       "    .dataframe thead th {\n",
       "        text-align: right;\n",
       "    }\n",
       "</style>\n",
       "<table border=\"1\" class=\"dataframe\">\n",
       "  <thead>\n",
       "    <tr style=\"text-align: right;\">\n",
       "      <th></th>\n",
       "      <th>hero1</th>\n",
       "      <th>hero2</th>\n",
       "      <th>weight</th>\n",
       "    </tr>\n",
       "  </thead>\n",
       "  <tbody>\n",
       "    <tr>\n",
       "      <th>0</th>\n",
       "      <td>LITTLE, ABNER</td>\n",
       "      <td>PRINCESS ZANDA</td>\n",
       "      <td>0.999708</td>\n",
       "    </tr>\n",
       "    <tr>\n",
       "      <th>1</th>\n",
       "      <td>LITTLE, ABNER</td>\n",
       "      <td>BLACK PANTHER/T'CHAL</td>\n",
       "      <td>0.999781</td>\n",
       "    </tr>\n",
       "    <tr>\n",
       "      <th>2</th>\n",
       "      <td>BLACK PANTHER/T'CHAL</td>\n",
       "      <td>PRINCESS ZANDA</td>\n",
       "      <td>0.999781</td>\n",
       "    </tr>\n",
       "    <tr>\n",
       "      <th>3</th>\n",
       "      <td>LITTLE, ABNER</td>\n",
       "      <td>PRINCESS ZANDA</td>\n",
       "      <td>0.999708</td>\n",
       "    </tr>\n",
       "    <tr>\n",
       "      <th>4</th>\n",
       "      <td>LITTLE, ABNER</td>\n",
       "      <td>BLACK PANTHER/T'CHAL</td>\n",
       "      <td>0.999781</td>\n",
       "    </tr>\n",
       "    <tr>\n",
       "      <th>...</th>\n",
       "      <td>...</td>\n",
       "      <td>...</td>\n",
       "      <td>...</td>\n",
       "    </tr>\n",
       "    <tr>\n",
       "      <th>574462</th>\n",
       "      <td>COLOSSUS II/PETER RA</td>\n",
       "      <td>CALLISTO</td>\n",
       "      <td>0.998979</td>\n",
       "    </tr>\n",
       "    <tr>\n",
       "      <th>574463</th>\n",
       "      <td>CALLISTO</td>\n",
       "      <td>ROGUE</td>\n",
       "      <td>0.999344</td>\n",
       "    </tr>\n",
       "    <tr>\n",
       "      <th>574464</th>\n",
       "      <td>CALLISTO</td>\n",
       "      <td>CALIBAN</td>\n",
       "      <td>0.999708</td>\n",
       "    </tr>\n",
       "    <tr>\n",
       "      <th>574465</th>\n",
       "      <td>CALIBAN</td>\n",
       "      <td>ROGUE</td>\n",
       "      <td>0.999635</td>\n",
       "    </tr>\n",
       "    <tr>\n",
       "      <th>574466</th>\n",
       "      <td>HULK/DR. ROBERT BRUC</td>\n",
       "      <td>MARKS, DR. SHIELA</td>\n",
       "      <td>1.000000</td>\n",
       "    </tr>\n",
       "  </tbody>\n",
       "</table>\n",
       "<p>574467 rows × 3 columns</p>\n",
       "</div>"
      ],
      "text/plain": [
       "                       hero1                 hero2    weight\n",
       "0              LITTLE, ABNER        PRINCESS ZANDA  0.999708\n",
       "1              LITTLE, ABNER  BLACK PANTHER/T'CHAL  0.999781\n",
       "2       BLACK PANTHER/T'CHAL        PRINCESS ZANDA  0.999781\n",
       "3              LITTLE, ABNER        PRINCESS ZANDA  0.999708\n",
       "4              LITTLE, ABNER  BLACK PANTHER/T'CHAL  0.999781\n",
       "...                      ...                   ...       ...\n",
       "574462  COLOSSUS II/PETER RA              CALLISTO  0.998979\n",
       "574463              CALLISTO                 ROGUE  0.999344\n",
       "574464              CALLISTO               CALIBAN  0.999708\n",
       "574465               CALIBAN                 ROGUE  0.999635\n",
       "574466  HULK/DR. ROBERT BRUC     MARKS, DR. SHIELA  1.000000\n",
       "\n",
       "[574467 rows x 3 columns]"
      ]
     },
     "execution_count": 16,
     "metadata": {},
     "output_type": "execute_result"
    }
   ],
   "source": [
    "hero"
   ]
  },
  {
   "cell_type": "markdown",
   "id": "fbe3b8c0-42ab-48cf-b242-660913e67a1b",
   "metadata": {},
   "source": [
    "Now we will use the NetworkX package and functions to create our graph."
   ]
  },
  {
   "cell_type": "code",
   "execution_count": 15,
   "id": "f918a223-8f5e-4e08-a38a-60b60db49c09",
   "metadata": {},
   "outputs": [],
   "source": [
    "graph1 = nx.from_pandas_edgelist(hero, 'hero1', 'hero2', edge_attr='weight')"
   ]
  },
  {
   "cell_type": "code",
   "execution_count": 21,
   "id": "9b5432a9",
   "metadata": {},
   "outputs": [
    {
     "data": {
      "image/png": "[encoded data removed]",
      "text/plain": [
       "<Figure size 432x288 with 1 Axes>"
      ]
     },
     "metadata": {},
     "output_type": "display_data"
    }
   ],
   "source": [
    "nx.draw(graph1)"
   ]
  },
  {
   "cell_type": "code",
   "execution_count": null,
   "id": "0238403c-4ce5-4cb4-8a6a-9737b22c99fe",
   "metadata": {},
   "outputs": [],
   "source": [
    "#stupido tentativo di visualizzare il grafo non ci riesco in nessun modo, se qualcun altro lo sa fare top \n",
    "#altrimenti si può benissimo cancellare\n",
    "\n",
    "weights = [i['weight'] for i in dict(graph1.edges).values()]\n",
    "labels = [i for i in dict(graph1.nodes).keys()]\n",
    "labels = {i:i for i in dict(graph1.nodes).keys()}\n",
    "\n",
    "fig, ax = plt.subplots(figsize=(12,5))\n",
    "pos = nx.spring_layout(graph1)\n",
    "nx.draw_networkx_nodes(graph1, pos, ax = ax, labels=True)\n",
    "nx.draw_networkx_edges(graph1, pos, width=durations, ax=ax)\n",
    "_ = nx.draw_networkx_labels(graph1, pos, labels, ax=ax)"
   ]
  },
  {
   "cell_type": "markdown",
   "id": "be00e6e8-2963-4964-8d84-ce71905dfa1b",
   "metadata": {},
   "source": [
    "**Second graph**: The data in 'nodes.csv' and 'edges.csv' will be used to construct the second graph. The type of node (hero/comic) can be found in 'nodes.csv', and an edge between a hero node and a comic node can be found in 'edges.csv' when the hero has appeared in that specific comic. This graph is assumed to be undirected and unweighted."
   ]
  },
  {
   "cell_type": "code",
   "execution_count": 16,
   "id": "a35a77ff-1077-48b4-a3a9-a0856559d0f0",
   "metadata": {
    "tags": []
   },
   "outputs": [],
   "source": [
    "graph2 = nx.from_pandas_edgelist(edges, 'hero', 'comic')"
   ]
  },
  {
   "cell_type": "code",
   "execution_count": 17,
   "id": "83c01ac8-a842-479a-a8b0-76ac186e43ac",
   "metadata": {},
   "outputs": [],
   "source": [
    "graph2.add_nodes_from(nodes['node'], type=nodes['type'])"
   ]
  },
  {
   "cell_type": "code",
   "execution_count": 82,
   "id": "77efe03d",
   "metadata": {},
   "outputs": [
    {
     "data": {
      "text/plain": [
       "'Graph with 19091 nodes and 96104 edges'"
      ]
     },
     "execution_count": 82,
     "metadata": {},
     "output_type": "execute_result"
    }
   ],
   "source": [
    "nx.info(graph2)"
   ]
  },
  {
   "cell_type": "code",
   "execution_count": 85,
   "id": "487579a3",
   "metadata": {},
   "outputs": [
    {
     "data": {
      "image/png": "[encoded data removed]",
      "text/plain": [
       "<Figure size 432x288 with 1 Axes>"
      ]
     },
     "metadata": {},
     "output_type": "display_data"
    }
   ],
   "source": [
    "nx.draw(graph2)"
   ]
  },
  {
   "attachments": {},
   "cell_type": "markdown",
   "id": "eef8519f",
   "metadata": {},
   "source": [
    "## 2. Backend Implementation"
   ]
  },
  {
   "attachments": {},
   "cell_type": "markdown",
   "id": "eafa25f1",
   "metadata": {},
   "source": [
    "### 2.1. Functionality 1 - Extract the graph's features"
   ]
  },
  {
   "attachments": {},
   "cell_type": "markdown",
   "id": "0e6ea15c",
   "metadata": {},
   "source": [
    "As the number of nodes and edges grows, it might be useful to work on a subset of the data to reduce computation time and improve the network visualization.\n",
    "<br>\n",
    "<br>\n",
    "For this reason we will consider the **Top N heroes**: which are the **N** heroes who have appeared in the most number of comics"
   ]
  },
  {
   "cell_type": "code",
   "execution_count": 87,
   "id": "a3e399b9",
   "metadata": {},
   "outputs": [],
   "source": [
    "def top_N(df, N):return df.groupby('hero').count().sort_values(['comic'], ascending = False).iloc[:N]"
   ]
  },
  {
   "cell_type": "code",
   "execution_count": 90,
   "id": "ac7bb583",
   "metadata": {},
   "outputs": [],
   "source": [
    "test = top_N(edges, 5)"
   ]
  },
  {
   "cell_type": "code",
   "execution_count": 92,
   "id": "bfc54152",
   "metadata": {},
   "outputs": [
    {
     "data": {
      "text/html": [
       "<div>\n",
       "<style scoped>\n",
       "    .dataframe tbody tr th:only-of-type {\n",
       "        vertical-align: middle;\n",
       "    }\n",
       "\n",
       "    .dataframe tbody tr th {\n",
       "        vertical-align: top;\n",
       "    }\n",
       "\n",
       "    .dataframe thead th {\n",
       "        text-align: right;\n",
       "    }\n",
       "</style>\n",
       "<table border=\"1\" class=\"dataframe\">\n",
       "  <thead>\n",
       "    <tr style=\"text-align: right;\">\n",
       "      <th></th>\n",
       "      <th>comic</th>\n",
       "    </tr>\n",
       "    <tr>\n",
       "      <th>hero</th>\n",
       "      <th></th>\n",
       "    </tr>\n",
       "  </thead>\n",
       "  <tbody>\n",
       "    <tr>\n",
       "      <th>SPIDER-MAN/PETER PARKER</th>\n",
       "      <td>1577</td>\n",
       "    </tr>\n",
       "    <tr>\n",
       "      <th>CAPTAIN AMERICA</th>\n",
       "      <td>1334</td>\n",
       "    </tr>\n",
       "    <tr>\n",
       "      <th>IRON MAN/TONY STARK</th>\n",
       "      <td>1150</td>\n",
       "    </tr>\n",
       "    <tr>\n",
       "      <th>THING/BENJAMIN J. GR</th>\n",
       "      <td>963</td>\n",
       "    </tr>\n",
       "    <tr>\n",
       "      <th>THOR/DR. DONALD BLAK</th>\n",
       "      <td>956</td>\n",
       "    </tr>\n",
       "  </tbody>\n",
       "</table>\n",
       "</div>"
      ],
      "text/plain": [
       "                         comic\n",
       "hero                          \n",
       "SPIDER-MAN/PETER PARKER   1577\n",
       "CAPTAIN AMERICA           1334\n",
       "IRON MAN/TONY STARK       1150\n",
       "THING/BENJAMIN J. GR       963\n",
       "THOR/DR. DONALD BLAK       956"
      ]
     },
     "execution_count": 92,
     "metadata": {},
     "output_type": "execute_result"
    }
   ],
   "source": [
    "test"
   ]
  },
  {
   "cell_type": "code",
   "execution_count": 81,
   "id": "97624809",
   "metadata": {},
   "outputs": [
    {
     "data": {
      "text/html": [
       "<div>\n",
       "<style scoped>\n",
       "    .dataframe tbody tr th:only-of-type {\n",
       "        vertical-align: middle;\n",
       "    }\n",
       "\n",
       "    .dataframe tbody tr th {\n",
       "        vertical-align: top;\n",
       "    }\n",
       "\n",
       "    .dataframe thead th {\n",
       "        text-align: right;\n",
       "    }\n",
       "</style>\n",
       "<table border=\"1\" class=\"dataframe\">\n",
       "  <thead>\n",
       "    <tr style=\"text-align: right;\">\n",
       "      <th></th>\n",
       "      <th>hero</th>\n",
       "    </tr>\n",
       "    <tr>\n",
       "      <th>comic</th>\n",
       "      <th></th>\n",
       "    </tr>\n",
       "  </thead>\n",
       "  <tbody>\n",
       "    <tr>\n",
       "      <th>COC 1</th>\n",
       "      <td>111</td>\n",
       "    </tr>\n",
       "    <tr>\n",
       "      <th>IW 3</th>\n",
       "      <td>91</td>\n",
       "    </tr>\n",
       "    <tr>\n",
       "      <th>IW 1</th>\n",
       "      <td>90</td>\n",
       "    </tr>\n",
       "    <tr>\n",
       "      <th>H2 279</th>\n",
       "      <td>87</td>\n",
       "    </tr>\n",
       "    <tr>\n",
       "      <th>IW 4</th>\n",
       "      <td>80</td>\n",
       "    </tr>\n",
       "    <tr>\n",
       "      <th>...</th>\n",
       "      <td>...</td>\n",
       "    </tr>\n",
       "    <tr>\n",
       "      <th>MYSTIC COMICS 10</th>\n",
       "      <td>1</td>\n",
       "    </tr>\n",
       "    <tr>\n",
       "      <th>N 2/4</th>\n",
       "      <td>1</td>\n",
       "    </tr>\n",
       "    <tr>\n",
       "      <th>N 37</th>\n",
       "      <td>1</td>\n",
       "    </tr>\n",
       "    <tr>\n",
       "      <th>N 4/2</th>\n",
       "      <td>1</td>\n",
       "    </tr>\n",
       "    <tr>\n",
       "      <th>rse powers.</th>\n",
       "      <td>1</td>\n",
       "    </tr>\n",
       "  </tbody>\n",
       "</table>\n",
       "<p>12651 rows × 1 columns</p>\n",
       "</div>"
      ],
      "text/plain": [
       "                  hero\n",
       "comic                 \n",
       "COC 1              111\n",
       "IW 3                91\n",
       "IW 1                90\n",
       "H2 279              87\n",
       "IW 4                80\n",
       "...                ...\n",
       "MYSTIC COMICS 10     1\n",
       "N 2/4                1\n",
       "N 37                 1\n",
       "N 4/2                1\n",
       "rse powers.          1\n",
       "\n",
       "[12651 rows x 1 columns]"
      ]
     },
     "execution_count": 81,
     "metadata": {},
     "output_type": "execute_result"
    }
   ],
   "source": [
    "edges.groupby('comic').count().sort_values(['hero'], ascending= False)"
   ]
  },
  {
   "attachments": {},
   "cell_type": "markdown",
   "id": "06a46771",
   "metadata": {},
   "source": [
    "The output for this functionality must contain:\n",
    "- the number of nodes in the network (if type 2, report for both node types)\n",
    "- the number of collaborations of each superhero with the others (*! Only if type 1*)\n",
    "- the number of heroes that have appeared in each comic (*! Only if type 2*)\n",
    "- the network's density\n",
    "- the network's degree distribution\n",
    "- the average degree of the network\n",
    "- the network's hubs\n",
    "- whether the network is spares or dense"
   ]
  },
  {
   "attachments": {},
   "cell_type": "markdown",
   "id": "3747b922",
   "metadata": {},
   "source": [
    "let's define some functions"
   ]
  },
  {
   "cell_type": "code",
   "execution_count": 79,
   "id": "9a9a960d",
   "metadata": {},
   "outputs": [
    {
     "data": {
      "text/html": [
       "<div>\n",
       "<style scoped>\n",
       "    .dataframe tbody tr th:only-of-type {\n",
       "        vertical-align: middle;\n",
       "    }\n",
       "\n",
       "    .dataframe tbody tr th {\n",
       "        vertical-align: top;\n",
       "    }\n",
       "\n",
       "    .dataframe thead th {\n",
       "        text-align: right;\n",
       "    }\n",
       "</style>\n",
       "<table border=\"1\" class=\"dataframe\">\n",
       "  <thead>\n",
       "    <tr style=\"text-align: right;\">\n",
       "      <th></th>\n",
       "      <th>hero</th>\n",
       "    </tr>\n",
       "    <tr>\n",
       "      <th>comic</th>\n",
       "      <th></th>\n",
       "    </tr>\n",
       "  </thead>\n",
       "  <tbody>\n",
       "    <tr>\n",
       "      <th>2001 10</th>\n",
       "      <td>1</td>\n",
       "    </tr>\n",
       "    <tr>\n",
       "      <th>2001 8</th>\n",
       "      <td>1</td>\n",
       "    </tr>\n",
       "    <tr>\n",
       "      <th>2001 9</th>\n",
       "      <td>1</td>\n",
       "    </tr>\n",
       "    <tr>\n",
       "      <th>A '00</th>\n",
       "      <td>23</td>\n",
       "    </tr>\n",
       "    <tr>\n",
       "      <th>A '01</th>\n",
       "      <td>9</td>\n",
       "    </tr>\n",
       "    <tr>\n",
       "      <th>...</th>\n",
       "      <td>...</td>\n",
       "    </tr>\n",
       "    <tr>\n",
       "      <th>YOUNG MEN 26</th>\n",
       "      <td>1</td>\n",
       "    </tr>\n",
       "    <tr>\n",
       "      <th>YOUNG MEN 27</th>\n",
       "      <td>1</td>\n",
       "    </tr>\n",
       "    <tr>\n",
       "      <th>YOUNG MEN 28</th>\n",
       "      <td>1</td>\n",
       "    </tr>\n",
       "    <tr>\n",
       "      <th>cept. This listing,</th>\n",
       "      <td>1</td>\n",
       "    </tr>\n",
       "    <tr>\n",
       "      <th>rse powers.</th>\n",
       "      <td>1</td>\n",
       "    </tr>\n",
       "  </tbody>\n",
       "</table>\n",
       "<p>12651 rows × 1 columns</p>\n",
       "</div>"
      ],
      "text/plain": [
       "                     hero\n",
       "comic                    \n",
       "2001 10                 1\n",
       "2001 8                  1\n",
       "2001 9                  1\n",
       "A '00                  23\n",
       "A '01                   9\n",
       "...                   ...\n",
       "YOUNG MEN 26            1\n",
       "YOUNG MEN 27            1\n",
       "YOUNG MEN 28            1\n",
       "cept. This listing,     1\n",
       "rse powers.             1\n",
       "\n",
       "[12651 rows x 1 columns]"
      ]
     },
     "execution_count": 79,
     "metadata": {},
     "output_type": "execute_result"
    }
   ],
   "source": [
    "edges.groupby('comic').count()"
   ]
  },
  {
   "attachments": {},
   "cell_type": "markdown",
   "id": "a9875344",
   "metadata": {},
   "source": [
    "#### Density of a graph"
   ]
  },
  {
   "attachments": {},
   "cell_type": "markdown",
   "id": "07dafbb5",
   "metadata": {},
   "source": [
    "Both in the case of graph type 1 and 2, we are dealing with *undirected* graph, thus the density can be computed as: $$d = \\frac{2\\cdot m}{n \\cdot (n-1)}$$\n",
    "where **n** is the number of nodes and **m** is the number of edges in the graph."
   ]
  },
  {
   "cell_type": "code",
   "execution_count": 68,
   "id": "3bd0f09f",
   "metadata": {},
   "outputs": [],
   "source": [
    "def graph_density(G):\n",
    "    return 2*len(list(G.edges())) / (len(list(G.nodes()))*(len(list(G.nodes())-1)))"
   ]
  },
  {
   "attachments": {},
   "cell_type": "markdown",
   "id": "d416d54a",
   "metadata": {},
   "source": [
    "#### Degree Distribution\n",
    "\n",
    "The degree distribution $P(k)$ of a graph is the fraction of nodes in the network with degree $k$.\n",
    "<br>\n",
    "\n",
    "Thus if the there are $n$ nodes in total in a network, and $n_k$ of them have degree $k$, we have: $$P(k)=\\frac{n_k}{n}$$\n",
    "\n"
   ]
  },
  {
   "attachments": {},
   "cell_type": "markdown",
   "id": "32ae39d8",
   "metadata": {},
   "source": [
    "#### Network's hubs\n",
    "\n",
    "Hubs are nodes having degrees more extensive than the 95th percentile of the degree distribution\n"
   ]
  },
  {
   "attachments": {},
   "cell_type": "markdown",
   "id": "95121553",
   "metadata": {},
   "source": [
    "#### Sparsity vs. Density\n",
    "\n",
    "We can say that, if the graph's density is close to 1, the graph **dense**, meanwhile it is **sparse** if the density is close to 0. \n"
   ]
  },
  {
   "cell_type": "code",
   "execution_count": 99,
   "id": "5ef845e7",
   "metadata": {},
   "outputs": [],
   "source": [
    "class func1():\n",
    "\n",
    "    def __init__(self, graph, graph_type):\n",
    "        self.graph = graph\n",
    "        self.graph_type = graph_type\n",
    "\n",
    "\n",
    "    def count_nodes(self):\n",
    "\n",
    "        if self.graph_type == 1:\n",
    "            g1 = self.graph\n",
    "            nodes = set()\n",
    "\n",
    "            for edge in g1.edges():\n",
    "                nodes.add(edge[0])\n",
    "                nodes.add(edge[1])\n",
    "\n",
    "            return len(nodes)\n",
    "        elif self.graph_type == 2:\n",
    "            g2 = self.graph\n",
    "            heroes = set()\n",
    "            comics = set()\n",
    "\n",
    "            for edge in g2.edges():\n",
    "\n",
    "                heroes.add(edge[0])\n",
    "                comics.add(edge[1])\n",
    "            return len(heroes), len(comics)\n",
    "\n",
    "    def count_collaborations(self):\n",
    "\n",
    "        if self.graph_type == 1:\n",
    "\n",
    "            degrees = {}\n",
    "\n",
    "            for edge in self.graph.edges():\n",
    "                if edge[0] not in degrees:\n",
    "                    degrees[edge[0]] = 0\n",
    "                if edge[1] not in degrees:\n",
    "                    degrees[edge[1]] = 0\n",
    "                degrees[edge[0]] += 1\n",
    "                degrees[edge[1]] += 1\n",
    "            \n",
    "            return degrees\n",
    "        else:\n",
    "            print('Functionality doesn`t exist for this type of graph')\n",
    "\n",
    "    def comic_appearence(self):\n",
    "\n",
    "        if self.graph_type == 2:\n",
    "\n",
    "            comics = dict()\n",
    "\n",
    "            for edge in self.graph.edges():\n",
    "                \n",
    "                if edge[1] not in comics:\n",
    "                    comics[edge[1]] = 0\n",
    "                \n",
    "                comics[edge[1]] += 1\n",
    "\n",
    "            return comics\n",
    "        else:\n",
    "            print('Functionality doesn`t exist for this type of graph')\n",
    "\n",
    "    def graph_density(self):\n",
    "        return 2*len(list(self.graph.edges())) / (len(list(self.graph.nodes()))*(len(list(self.graph.nodes()))-1))\n",
    "\n",
    "    def degree_distro(self):\n",
    "\n",
    "        degree = {}\n",
    "\n",
    "        for edge in self.graph.edges():\n",
    "            if edge[0] not in degree:\n",
    "                degree[edge[0]] = 0\n",
    "            else:\n",
    "                degree[edge[0]] += 1\n",
    "            \n",
    "            if edge[1] not in degree:\n",
    "                degree[edge[1]] = 0\n",
    "            else:\n",
    "                degree[edge[1]] += 1\n",
    "\n",
    "        distros = {}\n",
    "\n",
    "        for i in degree:\n",
    "            distros.update({i: degree[i]/len(degree)})\n",
    "\n",
    "        return distros\n",
    "\n",
    "    def average_degree(self):\n",
    "\n",
    "        degree = {}\n",
    "\n",
    "        for edge in self.graph.edges():\n",
    "            if edge[0] not in degree:\n",
    "                degree[edge[0]] = 0\n",
    "            else:\n",
    "                degree[edge[0]] += 1\n",
    "            \n",
    "            if edge[1] not in degree:\n",
    "                degree[edge[1]] = 0\n",
    "            else:\n",
    "                degree[edge[1]] += 1\n",
    "\n",
    "        degree_list = list(degree.values())\n",
    "\n",
    "        return sum(degree_list)/len(degree)\n",
    "\n",
    "    def find_hubs(self):\n",
    "\n",
    "        distro_dict = self.degree_distro()\n",
    "\n",
    "        distros = list(distro_dict.values())\n",
    "\n",
    "        percentiles = np.percentile(distros, 95)\n",
    "        \n",
    "        hubs = [i for i in distro_dict.values() if i > percentiles ]\n",
    "\n",
    "        return hubs\n",
    "\n",
    "    def check_sparsity(self):\n",
    "\n",
    "        if self.graph_density() < 0.5:\n",
    "            return print(\"The graph is sparse\")\n",
    "        else:\n",
    "            return print(\"The graph is dense\")\n",
    "\n",
    "        "
   ]
  },
  {
   "cell_type": "code",
   "execution_count": 97,
   "id": "55313f94",
   "metadata": {},
   "outputs": [],
   "source": [
    "test = func1(graph2, graph_type=2)"
   ]
  },
  {
   "cell_type": "code",
   "execution_count": 89,
   "id": "39fc207a",
   "metadata": {},
   "outputs": [
    {
     "data": {
      "text/plain": [
       "9.068517548454688"
      ]
     },
     "execution_count": 89,
     "metadata": {},
     "output_type": "execute_result"
    }
   ],
   "source": [
    "test.average_degree()"
   ]
  },
  {
   "cell_type": "code",
   "execution_count": null,
   "id": "95deb99d",
   "metadata": {},
   "outputs": [],
   "source": [
    "test.degree_distro()"
   ]
  },
  {
   "cell_type": "code",
   "execution_count": null,
   "id": "3028bce9",
   "metadata": {},
   "outputs": [],
   "source": [
    "test.find_hubs()"
   ]
  },
  {
   "cell_type": "code",
   "execution_count": 92,
   "id": "f6cb0508",
   "metadata": {},
   "outputs": [
    {
     "data": {
      "text/plain": [
       "0.0005273960268427368"
      ]
     },
     "execution_count": 92,
     "metadata": {},
     "output_type": "execute_result"
    }
   ],
   "source": [
    "test.graph_density()"
   ]
  },
  {
   "cell_type": "code",
   "execution_count": 98,
   "id": "6abe59a5",
   "metadata": {},
   "outputs": [
    {
     "name": "stdout",
     "output_type": "stream",
     "text": [
      "The graph is spase\n"
     ]
    }
   ],
   "source": [
    "test.check_sparsity()"
   ]
  },
  {
   "cell_type": "code",
   "execution_count": null,
   "id": "b0c8333c",
   "metadata": {},
   "outputs": [],
   "source": []
  }
 ],
 "metadata": {
  "kernelspec": {
   "display_name": "base",
   "language": "python",
   "name": "python3"
  },
  "language_info": {
   "codemirror_mode": {
    "name": "ipython",
    "version": 3
   },
   "file_extension": ".py",
   "mimetype": "text/x-python",
   "name": "python",
   "nbconvert_exporter": "python",
   "pygments_lexer": "ipython3",
   "version": "3.9.7"
  },
  "vscode": {
   "interpreter": {
    "hash": "4f1e9513bc5bb29d9bee4e72c87ca22d6bcc97c47c851bcd1d209449bd223422"
   }
  }
 },
 "nbformat": 4,
 "nbformat_minor": 5
}
