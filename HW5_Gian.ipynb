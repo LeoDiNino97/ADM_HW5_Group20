{
 "cells": [
  {
   "cell_type": "markdown",
   "id": "442cd8e6-6452-43c8-91ff-eb30601e4800",
   "metadata": {},
   "source": [
    "# Homework 5 - The Marvel Universe!"
   ]
  },
  {
   "cell_type": "code",
   "execution_count": 17,
   "id": "f91f887e",
   "metadata": {},
   "outputs": [],
   "source": [
    "import warnings\n",
    "warnings.filterwarnings(\"ignore\")"
   ]
  },
  {
   "cell_type": "code",
   "execution_count": null,
   "id": "dfa01ceb",
   "metadata": {},
   "outputs": [],
   "source": [
    "#!pip install tabulate --quiet"
   ]
  },
  {
   "cell_type": "code",
   "execution_count": 18,
   "id": "cea7b78a-a988-468f-b618-99cdce6ded95",
   "metadata": {
    "tags": []
   },
   "outputs": [],
   "source": [
    "import pandas as pd\n",
    "import numpy as np\n",
    "import networkx as nx\n",
    "import matplotlib.pyplot as plt\n",
    "import seaborn as sns\n",
    "from tqdm import tqdm\n",
    "from tabulate import tabulate\n",
    "from collections import defaultdict"
   ]
  },
  {
   "cell_type": "markdown",
   "id": "5a9d7e14-7c88-474a-a697-f3ec2ede0961",
   "metadata": {},
   "source": [
    "## 1. Data"
   ]
  },
  {
   "cell_type": "markdown",
   "id": "b777610d-ae93-4b1d-aca6-6609b18e4b56",
   "metadata": {},
   "source": [
    "### Preprocessing"
   ]
  },
  {
   "cell_type": "code",
   "execution_count": 19,
   "id": "7272f981-d391-46ea-a2f9-9df612ee5090",
   "metadata": {},
   "outputs": [],
   "source": [
    "nodes = pd.read_csv('nodes.csv')"
   ]
  },
  {
   "cell_type": "code",
   "execution_count": 20,
   "id": "03f77d13-9f0e-4e5c-8d90-92a92bb03338",
   "metadata": {},
   "outputs": [],
   "source": [
    "edges = pd.read_csv('edges.csv')"
   ]
  },
  {
   "cell_type": "code",
   "execution_count": 21,
   "id": "efb7f20c-83ce-4e2a-a559-b90668a1e5ea",
   "metadata": {},
   "outputs": [],
   "source": [
    "hero = pd.read_csv('hero-network.csv')"
   ]
  },
  {
   "cell_type": "markdown",
   "id": "b4f9f63e-7f23-436e-a6cc-476462af0515",
   "metadata": {},
   "source": [
    "Take a look"
   ]
  },
  {
   "cell_type": "code",
   "execution_count": null,
   "id": "81d82e6d-c582-4de3-8474-a108d7c55256",
   "metadata": {},
   "outputs": [],
   "source": [
    "nodes.info()"
   ]
  },
  {
   "cell_type": "code",
   "execution_count": null,
   "id": "5ef6f184-a4d0-4958-91b4-d2ad19aa741b",
   "metadata": {},
   "outputs": [],
   "source": [
    "edges.info()"
   ]
  },
  {
   "cell_type": "code",
   "execution_count": null,
   "id": "e7fbd52b-ab5f-47f6-b5dd-e044290b4885",
   "metadata": {},
   "outputs": [],
   "source": [
    "hero.info()"
   ]
  },
  {
   "cell_type": "markdown",
   "id": "00c0028c-3e8d-4ada-927a-e31bb4f79e36",
   "metadata": {},
   "source": [
    "We will not have to deal with NA values, now let's see in what format are the names/words written"
   ]
  },
  {
   "cell_type": "code",
   "execution_count": null,
   "id": "03f21b42-d98c-4f64-8d8e-fa73977fbfc1",
   "metadata": {},
   "outputs": [],
   "source": [
    "nodes.head(10)"
   ]
  },
  {
   "cell_type": "code",
   "execution_count": null,
   "id": "5727e7d2-3efb-4d58-8c32-658c1c1f821b",
   "metadata": {},
   "outputs": [],
   "source": [
    "nodes.nunique()"
   ]
  },
  {
   "cell_type": "code",
   "execution_count": null,
   "id": "21c8a240-4aff-4437-99fe-712d77151b8b",
   "metadata": {},
   "outputs": [],
   "source": [
    "edges.head(10)"
   ]
  },
  {
   "cell_type": "code",
   "execution_count": null,
   "id": "218811c4-485d-4a19-a86e-07995584a185",
   "metadata": {},
   "outputs": [],
   "source": [
    "edges.nunique()"
   ]
  },
  {
   "cell_type": "code",
   "execution_count": null,
   "id": "df756d5d-c427-48ea-8f32-896f2e6a20ad",
   "metadata": {
    "tags": []
   },
   "outputs": [],
   "source": [
    "hero.head(10)"
   ]
  },
  {
   "cell_type": "code",
   "execution_count": null,
   "id": "4119bd95-8921-4276-930b-d60bfe353b7c",
   "metadata": {},
   "outputs": [],
   "source": [
    "hero.nunique()"
   ]
  },
  {
   "cell_type": "markdown",
   "id": "dff30b34-c3a9-4cc0-98df-4e9e5b84abea",
   "metadata": {},
   "source": [
    "##### Problems:\n",
    " - Some heroes' names in 'hero-network.csv' have extra spaces at the end of their names compared to their names in 'edges.csv'\n",
    " - Some heroes' names in 'hero-network.csv' have an extra '/' at the end of their names compared to their names in 'edges.csv'\n",
    " - The hero name 'SPIDER-MAN/PETER PARKER' in 'edges.csv' has been changed to 'SPIDER-MAN/PETER PAR' in 'hero-network.csv' due to a string length limit in 'hero-network.csv'\n",
    " - Some entries in the 'hero-network.csv' have the same hero in both columns. In the graph, these entries form a self-loop. Because a self-loop makes no sense in this network, you can safely remove those from the dataset."
   ]
  },
  {
   "cell_type": "markdown",
   "id": "9ecee5ee-7b38-48bd-a194-b844004964ab",
   "metadata": {},
   "source": [
    "First of all, we remove the extra characters from the neroes' names."
   ]
  },
  {
   "cell_type": "code",
   "execution_count": 22,
   "id": "4000cb35-38cb-4386-8762-b3d4c11ae2d7",
   "metadata": {},
   "outputs": [],
   "source": [
    "hero[\"hero1\"] = hero[\"hero1\"].str.rstrip('/ ')\n",
    "hero[\"hero2\"] = hero[\"hero2\"].str.rstrip('/ ')"
   ]
  },
  {
   "cell_type": "code",
   "execution_count": null,
   "id": "3d700dcd-a59b-41be-b28c-da7a9d7634bd",
   "metadata": {},
   "outputs": [],
   "source": [
    "hero.head(10)"
   ]
  },
  {
   "cell_type": "code",
   "execution_count": null,
   "id": "8c238022-0840-454c-9f4d-b0fe5837a8e1",
   "metadata": {},
   "outputs": [],
   "source": [
    "hero.nunique()"
   ]
  },
  {
   "cell_type": "markdown",
   "id": "01beae77-a5b3-479a-9349-e0970929ba24",
   "metadata": {},
   "source": [
    "We have less unique values after the rstrip, so there were actually some names that were the same but with extra characters."
   ]
  },
  {
   "cell_type": "markdown",
   "id": "856b07f8-6a30-4126-9b43-d3fea74a8eeb",
   "metadata": {},
   "source": [
    "Now let's change Spiderman's name in the hero dataframe to the complete 'SPIDER-MAN/PETER PARKER'."
   ]
  },
  {
   "cell_type": "code",
   "execution_count": 23,
   "id": "3510b09e-670e-4b91-9d38-4febdc7f255e",
   "metadata": {},
   "outputs": [],
   "source": [
    "hero[hero[\"hero1\"]=='SPIDER-MAN/PETER PAR']='SPIDER-MAN/PETER PARKER'\n",
    "hero[hero[\"hero2\"]=='SPIDER-MAN/PETER PAR']='SPIDER-MAN/PETER PARKER'"
   ]
  },
  {
   "cell_type": "code",
   "execution_count": 24,
   "id": "ce4dc7ea-6864-434e-b596-ca54f98c0d77",
   "metadata": {},
   "outputs": [
    {
     "name": "stdout",
     "output_type": "stream",
     "text": [
      "(0, 2)\n",
      "(0, 2)\n"
     ]
    }
   ],
   "source": [
    "print(hero[hero[\"hero1\"]=='SPIDER-MAN/PETER PAR'].shape)\n",
    "print(hero[hero[\"hero2\"]=='SPIDER-MAN/PETER PAR'].shape)"
   ]
  },
  {
   "cell_type": "markdown",
   "id": "943ecae4-ad5a-44a9-bc34-ab9dc4b62352",
   "metadata": {},
   "source": [
    "Done! No more short name for Spiderman."
   ]
  },
  {
   "attachments": {},
   "cell_type": "markdown",
   "id": "6ebec87a",
   "metadata": {},
   "source": [
    "The last problem we have is that some heroes appears to have had a self-collaboration which makes no sense, so we will delete the rows with the same hero in both columns."
   ]
  },
  {
   "cell_type": "code",
   "execution_count": 25,
   "id": "5db6ffcf",
   "metadata": {},
   "outputs": [],
   "source": [
    "hero = hero[hero[\"hero1\"]!=hero[\"hero2\"]]\n"
   ]
  },
  {
   "cell_type": "markdown",
   "id": "104b0827-c062-448f-992c-a365ab8bf055",
   "metadata": {},
   "source": [
    "### Graphs setup"
   ]
  },
  {
   "cell_type": "markdown",
   "id": "548cf42d-e686-40e2-885a-bb35fb30f65e",
   "metadata": {},
   "source": [
    "**First graph**: Will be constructed using the data stored in the 'hero-network.csv' file, in which an edge between two heroes can be found if they have appeared in the same comic together. The number of edges between two heroes represents the number of times they have collaborated in different comics. The graph should be considered weighted and undirected. It is up to you to decide which metric to use to calculate the weights, but we anticipate that the cost will be lower for heroes with more collaborations. Please specify which metric you used to select the weights in the report."
   ]
  },
  {
   "attachments": {},
   "cell_type": "markdown",
   "id": "7608b879-a3fb-4dd6-a7ec-67019e2c8a7f",
   "metadata": {},
   "source": [
    "First of all, we need to define a metric to calculate the weights so that the heroes with more collaborations has a lower 'cost'. In order to match the number of collaborations with an appropriate weight, we can use the inverse of the normalized number of collaborations for each hero. Just applying $\\frac{(\\max - X)}{(\\max - \\min)}$ to each value, we will obtain a 'cost' scaled between 0 and 1, meaning that if a collaboration has a weight close to 0 it is much more important than a collaboration with a weight close to 1."
   ]
  },
  {
   "cell_type": "markdown",
   "id": "a0ebd602-b63e-4f0d-9ace-ee05e5396d53",
   "metadata": {},
   "source": [
    "We create a column with the number of collaboration for each pair of heroes."
   ]
  },
  {
   "cell_type": "code",
   "execution_count": 26,
   "id": "ad8d2dfc-455c-46b4-9588-0e8ce71eed5b",
   "metadata": {},
   "outputs": [],
   "source": [
    "hero['number of coll'] = hero.groupby(['hero1', 'hero2'])['hero1'].transform('count')"
   ]
  },
  {
   "cell_type": "code",
   "execution_count": null,
   "id": "c9f69141-d02a-485a-8e0e-3ed9df87e837",
   "metadata": {},
   "outputs": [],
   "source": [
    "hero"
   ]
  },
  {
   "cell_type": "markdown",
   "id": "645a17d7-9fda-42e9-91ba-a0515f17b93e",
   "metadata": {},
   "source": [
    "We will use it only to compute the normalization, then we will delete it."
   ]
  },
  {
   "cell_type": "code",
   "execution_count": 27,
   "id": "f8c9b06d-5b89-47a3-8d4e-5045a55548a6",
   "metadata": {
    "tags": []
   },
   "outputs": [],
   "source": [
    "MAX = hero['number of coll'].max()"
   ]
  },
  {
   "cell_type": "code",
   "execution_count": 28,
   "id": "6c0005f0-cf2a-4368-9330-838f2a283585",
   "metadata": {},
   "outputs": [],
   "source": [
    "MIN = hero['number of coll'].min()"
   ]
  },
  {
   "cell_type": "code",
   "execution_count": null,
   "id": "93beb2a6-62af-4b8b-a02e-71908b917ef6",
   "metadata": {},
   "outputs": [],
   "source": [
    "print(MAX)\n",
    "print(MIN)"
   ]
  },
  {
   "cell_type": "code",
   "execution_count": 29,
   "id": "3f9e1e50-8382-40a5-a102-e380e25bc0f9",
   "metadata": {},
   "outputs": [],
   "source": [
    "hero['weight'] = (MAX - hero['number of coll'])/(MAX - MIN)"
   ]
  },
  {
   "cell_type": "code",
   "execution_count": null,
   "id": "9c1351e3-3d69-452f-b125-ffa30ce4f45c",
   "metadata": {},
   "outputs": [],
   "source": [
    "hero.head(15)"
   ]
  },
  {
   "cell_type": "code",
   "execution_count": 30,
   "id": "3c7dae2c-7d66-4243-9627-286da40015a5",
   "metadata": {},
   "outputs": [],
   "source": [
    "hero = hero.drop('number of coll', axis=1)"
   ]
  },
  {
   "cell_type": "code",
   "execution_count": null,
   "id": "53f85d4d-2d7a-4480-ab2b-dd997b97bd05",
   "metadata": {
    "tags": []
   },
   "outputs": [],
   "source": [
    "hero"
   ]
  },
  {
   "cell_type": "markdown",
   "id": "fbe3b8c0-42ab-48cf-b242-660913e67a1b",
   "metadata": {},
   "source": [
    "Now we will use the NetworkX package and functions to create our graph."
   ]
  },
  {
   "cell_type": "code",
   "execution_count": 31,
   "id": "f918a223-8f5e-4e08-a38a-60b60db49c09",
   "metadata": {},
   "outputs": [],
   "source": [
    "graph1 = nx.from_pandas_edgelist(hero, 'hero1', 'hero2', edge_attr='weight')"
   ]
  },
  {
   "cell_type": "code",
   "execution_count": null,
   "id": "9b5432a9",
   "metadata": {},
   "outputs": [],
   "source": [
    "nx.draw(graph1)"
   ]
  },
  {
   "cell_type": "markdown",
   "id": "be00e6e8-2963-4964-8d84-ce71905dfa1b",
   "metadata": {},
   "source": [
    "**Second graph**: The data in 'nodes.csv' and 'edges.csv' will be used to construct the second graph. The type of node (hero/comic) can be found in 'nodes.csv', and an edge between a hero node and a comic node can be found in 'edges.csv' when the hero has appeared in that specific comic. This graph is assumed to be undirected and unweighted."
   ]
  },
  {
   "cell_type": "code",
   "execution_count": 32,
   "id": "a35a77ff-1077-48b4-a3a9-a0856559d0f0",
   "metadata": {
    "tags": []
   },
   "outputs": [],
   "source": [
    "graph2 = nx.from_pandas_edgelist(edges, 'hero', 'comic')"
   ]
  },
  {
   "cell_type": "code",
   "execution_count": 33,
   "id": "83c01ac8-a842-479a-a8b0-76ac186e43ac",
   "metadata": {},
   "outputs": [],
   "source": [
    "graph2.add_nodes_from(nodes['node'], type=nodes['type'])"
   ]
  },
  {
   "cell_type": "code",
   "execution_count": 76,
   "id": "18ed41af",
   "metadata": {},
   "outputs": [
    {
     "data": {
      "text/plain": [
       "'Graph with 19091 nodes and 96104 edges'"
      ]
     },
     "execution_count": 76,
     "metadata": {},
     "output_type": "execute_result"
    }
   ],
   "source": [
    "nx.info(graph2)"
   ]
  },
  {
   "attachments": {},
   "cell_type": "markdown",
   "id": "eafa25f1",
   "metadata": {},
   "source": [
    "### 2.1. Functionality 1 - Extract the graph's features"
   ]
  },
  {
   "attachments": {},
   "cell_type": "markdown",
   "id": "0e6ea15c",
   "metadata": {},
   "source": [
    "As the number of nodes and edges grows, it might be useful to work on a subset of the data to reduce computation time and improve the network visualization.\n",
    "<br>\n",
    "<br>\n",
    "For this reason we will consider the **Top N heroes**: which are the **N** heroes who have appeared in the most number of comics"
   ]
  },
  {
   "cell_type": "code",
   "execution_count": 17,
   "id": "a3e399b9",
   "metadata": {},
   "outputs": [],
   "source": [
    "def top_N(df, N):return df.groupby('hero').count().sort_values(['comic'], ascending = False).iloc[:N]"
   ]
  },
  {
   "cell_type": "code",
   "execution_count": 23,
   "id": "6d014513",
   "metadata": {},
   "outputs": [
    {
     "data": {
      "text/plain": [
       "hero\n",
       "SPIDER-MAN/PETER PARKER    1577\n",
       "CAPTAIN AMERICA            1334\n",
       "IRON MAN/TONY STARK        1150\n",
       "THING/BENJAMIN J. GR        963\n",
       "THOR/DR. DONALD BLAK        956\n",
       "HUMAN TORCH/JOHNNY S        886\n",
       "MR. FANTASTIC/REED R        854\n",
       "HULK/DR. ROBERT BRUC        835\n",
       "WOLVERINE/LOGAN             819\n",
       "INVISIBLE WOMAN/SUE         762\n",
       "Name: comic, dtype: int64"
      ]
     },
     "execution_count": 23,
     "metadata": {},
     "output_type": "execute_result"
    }
   ],
   "source": [
    "top_N(edges, 10)['comic']"
   ]
  },
  {
   "cell_type": "code",
   "execution_count": null,
   "id": "97624809",
   "metadata": {},
   "outputs": [],
   "source": [
    "edges.groupby('comic').count().sort_values(['hero'], ascending= False)"
   ]
  },
  {
   "attachments": {},
   "cell_type": "markdown",
   "id": "06a46771",
   "metadata": {},
   "source": [
    "The output for this functionality must contain:\n",
    "- the number of nodes in the network (if type 2, report for both node types)\n",
    "- the number of collaborations of each superhero with the others (*! Only if type 1*)\n",
    "- the number of heroes that have appeared in each comic (*! Only if type 2*)\n",
    "- the network's density\n",
    "- the network's degree distribution\n",
    "- the average degree of the network\n",
    "- the network's hubs\n",
    "- whether the network is spares or dense"
   ]
  },
  {
   "attachments": {},
   "cell_type": "markdown",
   "id": "3747b922",
   "metadata": {},
   "source": [
    "let's define some functions"
   ]
  },
  {
   "cell_type": "code",
   "execution_count": null,
   "id": "9a9a960d",
   "metadata": {},
   "outputs": [],
   "source": [
    "edges.groupby('comic').count()"
   ]
  },
  {
   "attachments": {},
   "cell_type": "markdown",
   "id": "a9875344",
   "metadata": {},
   "source": [
    "#### Density of a graph"
   ]
  },
  {
   "attachments": {},
   "cell_type": "markdown",
   "id": "07dafbb5",
   "metadata": {},
   "source": [
    "Both in the case of graph type 1 and 2, we are dealing with *undirected* graph, thus the density can be computed as: $$d = \\frac{2\\cdot m}{n \\cdot (n-1)}$$\n",
    "where **n** is the number of nodes and **m** is the number of edges in the graph."
   ]
  },
  {
   "cell_type": "code",
   "execution_count": null,
   "id": "3bd0f09f",
   "metadata": {},
   "outputs": [],
   "source": [
    "def graph_density(G):\n",
    "    return 2*len(list(G.edges())) / (len(list(G.nodes()))*(len(list(G.nodes())-1)))"
   ]
  },
  {
   "attachments": {},
   "cell_type": "markdown",
   "id": "d416d54a",
   "metadata": {},
   "source": [
    "#### Degree Distribution\n",
    "\n",
    "The degree distribution $P(k)$ of a graph is the fraction of nodes in the network with degree $k$.\n",
    "<br>\n",
    "\n",
    "Thus if the there are $n$ nodes in total in a network, and $n_k$ of them have degree $k$, we have: $$P(k)=\\frac{n_k}{n}$$\n",
    "\n"
   ]
  },
  {
   "attachments": {},
   "cell_type": "markdown",
   "id": "32ae39d8",
   "metadata": {},
   "source": [
    "#### Network's hubs\n",
    "\n",
    "Hubs are nodes having degrees more extensive than the 95th percentile of the degree distribution\n"
   ]
  },
  {
   "attachments": {},
   "cell_type": "markdown",
   "id": "95121553",
   "metadata": {},
   "source": [
    "#### Sparsity vs. Density\n",
    "\n",
    "We can say that, if the graph's density is close to 1, the graph **dense**, meanwhile it is **sparse** if the density is close to 0. \n"
   ]
  },
  {
   "cell_type": "code",
   "execution_count": 295,
   "id": "5ef845e7",
   "metadata": {},
   "outputs": [],
   "source": [
    "class func1():\n",
    "\n",
    "    def __init__(self, graph, graph_type, n:int, dataframe=edges):\n",
    "        self.graph = graph\n",
    "        self.graph_type = graph_type\n",
    "        self.n = n\n",
    "        self.dataframe = dataframe\n",
    "\n",
    "        top_heroes = edges.groupby('hero', as_index=False).count().sort_values(by='comic',ascending=False).rename(columns={'comic':'Count'})\n",
    "        toppe = edges[edges['hero'].isin(top_heroes.head(self.n)['hero'])]\n",
    "\n",
    "        self.n_nodes = pd.unique(toppe['hero']).tolist() + pd.unique(toppe['comic']).tolist()\n",
    "        self.sub_graph = nx.induced_subgraph(graph, self.n_nodes)\n",
    "        self.sub_graph.graph_type = graph_type\n",
    "\n",
    "\n",
    "    def count_nodes(self):\n",
    "\n",
    "        if self.graph_type == 1:\n",
    "\n",
    "            if self.n == len(self.graph.nodes()):\n",
    "                g1 = self.graph\n",
    "                nodes = set()\n",
    "\n",
    "                for edge in g1.edges():\n",
    "                    nodes.add(edge[0])\n",
    "                    nodes.add(edge[1])\n",
    "\n",
    "                return len(nodes)\n",
    "            else:\n",
    "                g1 = self.sub_graph\n",
    "                nodes = set()\n",
    "\n",
    "                for edge in g1.edges():\n",
    "                    nodes.add(edge[0])\n",
    "                    nodes.add(edge[1])\n",
    "\n",
    "                return len(nodes)\n",
    "\n",
    "        elif self.graph_type == 2:\n",
    "\n",
    "            if self.n == len(self.graph.nodes()):\n",
    "                g2 = self.graph\n",
    "                heroes = set()\n",
    "                comics = set()\n",
    "                heroes_set = {i for i in self.dataframe['hero']}\n",
    "                comic_set = {i for i in self.dataframe['comic']}\n",
    "\n",
    "                for edge in g2.edges():\n",
    "                    if edge[0] in heroes_set:\n",
    "                        heroes.add(edge[0])\n",
    "                    else:\n",
    "                        comics.add(edge[0])\n",
    "                    if edge[1] in heroes_set:\n",
    "                        heroes.add(edge[1])\n",
    "                    else:\n",
    "                        comics.add(edge[1])\n",
    "\n",
    "                return len(heroes), len(comics)\n",
    "            else:\n",
    "                g2 = self.sub_graph\n",
    "                heroes = set()\n",
    "                comics = set()\n",
    "\n",
    "                heroes_set = {i for i in self.dataframe['hero']}\n",
    "\n",
    "                for edge in g2.edges():\n",
    "\n",
    "                    if edge[0] in heroes_set:\n",
    "                        heroes.add(edge[0])\n",
    "                    else:\n",
    "                        comics.add(edge[0])\n",
    "                    if edge[1] in heroes_set:\n",
    "                        heroes.add(edge[1])\n",
    "                    else:\n",
    "                        comics.add(edge[1])\n",
    "\n",
    "        return len(heroes), len(comics)\n",
    "\n",
    "\n",
    "\n",
    "    def count_collaborations(self):\n",
    "\n",
    "        if self.graph_type == 1:\n",
    "\n",
    "            if self.n == len(self.graph.nodes()):\n",
    "\n",
    "                degrees = {}\n",
    "\n",
    "                for edge in self.graph.edges():\n",
    "                    if edge[0] not in degrees:\n",
    "                        degrees[edge[0]] = 0\n",
    "                    if edge[1] not in degrees:\n",
    "                        degrees[edge[1]] = 0\n",
    "                    degrees[edge[0]] += 1\n",
    "                    degrees[edge[1]] += 1\n",
    "                \n",
    "                return degrees\n",
    "            else:\n",
    "\n",
    "                degrees = {}\n",
    "\n",
    "                for edge in self.sub_graph.edges():\n",
    "                    if edge[0] not in degrees:\n",
    "                        degrees[edge[0]] = 0\n",
    "                    if edge[1] not in degrees:\n",
    "                        degrees[edge[1]] = 0\n",
    "                    degrees[edge[0]] += 1\n",
    "                    degrees[edge[1]] += 1\n",
    "                \n",
    "                return degrees\n",
    "\n",
    "\n",
    "        else:\n",
    "            print('Functionality doesn`t exist for this type of graph')\n",
    "\n",
    "    def comic_appearence(self):\n",
    "\n",
    "        if self.graph_type == 2:\n",
    "\n",
    "            comic_set = {i for i in self.dataframe['comic']}\n",
    "            comic_count = defaultdict(int)\n",
    "\n",
    "            for edge in self.graph.edges():\n",
    "\n",
    "                if edge[0] in comic_set:\n",
    "                    comic_count[edge[0]] += 1\n",
    "                if edge[1] in comic_set:\n",
    "                    comic_count[edge[1]] += 1\n",
    "            \n",
    "            return comic_count\n",
    "        else:\n",
    "            print('Functionality doesn`t exist for this type of graph')\n",
    "\n",
    "    def graph_density(self):\n",
    "        if self.n == len(self.graph.nodes()):\n",
    "            return 2*len(list(self.graph.edges())) / (len(list(self.graph.nodes()))*(len(list(self.graph.nodes()))-1))\n",
    "        else:\n",
    "            return 2*len(list(self.sub_graph.edges())) / (len(list(self.sub_graph.nodes()))*(len(list(self.sub_graph.nodes()))-1))\n",
    "\n",
    "    def degree_distro(self):\n",
    "\n",
    "        degree = {}\n",
    "        if self.n == len(self.graph.nodes()):\n",
    "            for edge in self.graph.edges():\n",
    "                if edge[0] not in degree:\n",
    "                    degree[edge[0]] = 0\n",
    "                else:\n",
    "                    degree[edge[0]] += 1\n",
    "                \n",
    "                if edge[1] not in degree:\n",
    "                    degree[edge[1]] = 0\n",
    "                else:\n",
    "                    degree[edge[1]] += 1\n",
    "\n",
    "            distros = {}\n",
    "\n",
    "            for i in degree:\n",
    "                distros.update({i: degree[i]/len(degree)})\n",
    "\n",
    "            return distros\n",
    "        else:\n",
    "            for edge in self.sub_graph.edges():\n",
    "                if edge[0] not in degree:\n",
    "                    degree[edge[0]] = 0\n",
    "                else:\n",
    "                    degree[edge[0]] += 1\n",
    "                \n",
    "                if edge[1] not in degree:\n",
    "                    degree[edge[1]] = 0\n",
    "                else:\n",
    "                    degree[edge[1]] += 1\n",
    "\n",
    "            distros = {}\n",
    "\n",
    "            for i in degree:\n",
    "                distros.update({i: degree[i]/len(degree)})\n",
    "\n",
    "            return distros\n",
    "\n",
    "\n",
    "    def average_degree(self):\n",
    "        \n",
    "        if self.n == len(self.graph.nodes()):\n",
    "            degree = {}\n",
    "\n",
    "            for edge in self.graph.edges():\n",
    "                if edge[0] not in degree:\n",
    "                    degree[edge[0]] = 0\n",
    "                else:\n",
    "                    degree[edge[0]] += 1\n",
    "                \n",
    "                if edge[1] not in degree:\n",
    "                    degree[edge[1]] = 0\n",
    "                else:\n",
    "                    degree[edge[1]] += 1\n",
    "\n",
    "            degree_list = list(degree.values())\n",
    "\n",
    "            return sum(degree_list)/len(degree)\n",
    "        else:\n",
    "            degree = {}\n",
    "\n",
    "            for edge in self.sub_graph.edges():\n",
    "                if edge[0] not in degree:\n",
    "                    degree[edge[0]] = 0\n",
    "                else:\n",
    "                    degree[edge[0]] += 1\n",
    "                \n",
    "                if edge[1] not in degree:\n",
    "                    degree[edge[1]] = 0\n",
    "                else:\n",
    "                    degree[edge[1]] += 1\n",
    "\n",
    "            degree_list = list(degree.values())\n",
    "\n",
    "            return sum(degree_list)/len(degree)\n",
    "\n",
    "\n",
    "    def find_hubs(self):\n",
    "\n",
    "        distro_dict = self.degree_distro()\n",
    "\n",
    "        percentiles = np.percentile(list(distro_dict.values()), 95)\n",
    "        \n",
    "        hubs = [k for k,v in distro_dict.items() if v > percentiles]\n",
    "\n",
    "        return hubs\n",
    "\n",
    "    def check_sparsity(self):\n",
    "            if self.graph_density() < 0.5:\n",
    "                return 0\n",
    "            else:\n",
    "                return 1\n",
    "\n",
    "\n",
    "    def visualization(self):\n",
    "\n",
    "        #number of nodes of the graph\n",
    "        if self.graph_type == 1:\n",
    "            n_nodes_dict = dict()\n",
    "\n",
    "            n_nodes = self.count_nodes()\n",
    "            n_nodes_dict.update({'Number of Nodes': n_nodes})\n",
    "\n",
    "            print(tabulate(n_nodes_dict.items(),tablefmt=\"grid\"))\n",
    "\n",
    "        elif self.graph_type == 2:\n",
    "\n",
    "            data = dict()\n",
    "\n",
    "            n_heroes, n_comics = self.count_nodes()\n",
    "\n",
    "            data.update({'Number of Heroes': n_heroes})\n",
    "            data.update({'Number of Comics': n_comics})\n",
    "\n",
    "            print(\"(Graph Type%d) Number of Nodes [Heroes vs. Comics]\" %self.graph_type)\n",
    "            print(tabulate(data.items(), tablefmt=\"grid\"))\n",
    "        \n",
    "        else:\n",
    "            print(\"Graph Type not defined\")\n",
    "        \n",
    "        #(Only if type 1) Number of collaborations\n",
    "        if self.graph_type == 1:\n",
    "            print(\"Number of nodes for graph type %d:\" %self.graph_type)\n",
    "            print(tabulate(self.count_collaborations().items(),headers=[\"Heroe\", \"Number of Collaborations\"],tablefmt=\"grid\"))\n",
    "\n",
    "        #(Only if type 2) Count comic appeareance\n",
    "        if self.graph_type == 2:\n",
    "\n",
    "            colab_list = [(k,v) for k,v in self.comic_appearence().items()]\n",
    "\n",
    "            print(\"(Graph Type%d) Number of collaborations: \" %self.graph_type)\n",
    "            print(tabulate(colab_list,tablefmt=\"grid\"))\n",
    "\n",
    "        #Graph density\n",
    "        density = dict()\n",
    "        dens = self.graph_density()\n",
    "\n",
    "        density.update({'Density': dens})\n",
    "\n",
    "        print(tabulate(density.items(), tablefmt=\"grid\"))\n",
    "\n",
    "        #Graph degree distribution\n",
    "\n",
    "        distro = self.degree_distro()\n",
    "        distro_list = sorted(list(distro.values()))\n",
    "\n",
    "        sns.histplot(distro_list)\n",
    "        plt.title('Degree Distribution')\n",
    "        #plt.xlim(0,0.01)\n",
    "        #plt.ylim(0,1500)\n",
    "        plt.show()\n",
    "\n",
    "        #Average degree\n",
    "        avg_degree_dict = dict()\n",
    "\n",
    "        avg_deg = self.average_degree()\n",
    "\n",
    "        avg_degree_dict.update({'Average Degree': avg_deg})\n",
    "\n",
    "        print(tabulate(avg_degree_dict.items(), tablefmt=\"grid\"))\n",
    "\n",
    "        #Sparsity vs. Dense\n",
    "        if self.check_sparsity() == 1:\n",
    "            print(\"Graph %d is dense\" %self.graph_type)\n",
    "        else:\n",
    "            print('Graph %d is sparse' %self.graph_type)        "
   ]
  },
  {
   "cell_type": "code",
   "execution_count": 287,
   "id": "ba6fd8e3",
   "metadata": {},
   "outputs": [],
   "source": [
    "test = func1(graph1, graph_type=1,n=80)"
   ]
  },
  {
   "cell_type": "code",
   "execution_count": 288,
   "id": "22bf297e",
   "metadata": {},
   "outputs": [
    {
     "data": {
      "text/plain": [
       "78"
      ]
     },
     "execution_count": 288,
     "metadata": {},
     "output_type": "execute_result"
    }
   ],
   "source": [
    "test.count_nodes()"
   ]
  },
  {
   "cell_type": "code",
   "execution_count": 267,
   "id": "f6856b60",
   "metadata": {},
   "outputs": [
    {
     "data": {
      "text/plain": [
       "{'JONES, RICHARD MILHO': 71,\n",
       " 'SUB-MARINER/NAMOR MA': 76,\n",
       " 'BANNER, BETTY ROSS T': 67,\n",
       " 'ROSS, GEN. THADDEUS': 62,\n",
       " 'HULK/DR. ROBERT BRUC': 75,\n",
       " 'SCARLET WITCH/WANDA': 76,\n",
       " 'THING/BENJAMIN J. GR': 76,\n",
       " 'HAWK': 73,\n",
       " 'INVISIBLE WOMAN/SUE': 76,\n",
       " 'QUICKSILVER/PIETRO M': 72,\n",
       " 'BLACK KNIGHT V/DANE': 72,\n",
       " 'WASP/JANET VAN DYNE': 77,\n",
       " 'CRYSTAL [INHUMAN]': 69,\n",
       " 'IRON MAN/TONY STARK': 76,\n",
       " 'VISION': 76,\n",
       " 'MR. FANTASTIC/REED R': 77,\n",
       " 'HERCULES [GREEK GOD]': 76,\n",
       " 'BLACK WIDOW/NATASHA': 75,\n",
       " 'FALCON/SAM WILSON': 70,\n",
       " \"BLACK PANTHER/T'CHAL\": 71,\n",
       " 'THOR/DR. DONALD BLAK': 76,\n",
       " 'CAPTAIN AMERICA': 77,\n",
       " 'JARVIS, EDWIN': 73,\n",
       " 'SHE-HULK/JENNIFER WA': 74,\n",
       " 'ANT-MAN/DR. HENRY J.': 76,\n",
       " 'BEAST/HENRY &HANK& P': 75,\n",
       " 'HUMAN TORCH/JOHNNY S': 77,\n",
       " 'WONDER MAN/SIMON WIL': 76,\n",
       " 'NORRISS, SISTER BARB': 65,\n",
       " 'CLEA': 43,\n",
       " 'STORM/ORORO MUNROE S': 76,\n",
       " 'DAREDEVIL/MATT MURDO': 75,\n",
       " 'NIGHTCRAWLER/KURT WA': 69,\n",
       " 'COLOSSUS II/PETER RA': 74,\n",
       " 'CAGE, LUKE/CARL LUCA': 73,\n",
       " 'ANGEL/WARREN KENNETH': 77,\n",
       " 'WOLVERINE/LOGAN': 77,\n",
       " 'DR. STRANGE/STEPHEN': 77,\n",
       " 'RICHARDS, FRANKLIN B': 74,\n",
       " 'PROFESSOR X/CHARLES': 69,\n",
       " 'CYCLOPS/SCOTT SUMMER': 77,\n",
       " 'SHADOWCAT/KATHERINE': 61,\n",
       " 'IRON FIST/DANIEL RAN': 66,\n",
       " 'SILVER SURFER/NORRIN': 71,\n",
       " 'WONG': 60,\n",
       " 'FURY, COL. NICHOLAS': 74,\n",
       " 'MARVEL GIRL/JEAN GRE': 72,\n",
       " 'ICEMAN/ROBERT BOBBY': 75,\n",
       " 'LOKI [ASGARDIAN]': 64,\n",
       " 'ODIN [ASGARDIAN]': 62,\n",
       " 'GAMBIT/REMY LEBEAU': 57,\n",
       " 'MASTERS, ALICIA REIS': 65,\n",
       " 'PSYLOCKE/ELISABETH B': 58,\n",
       " 'HAVOK/ALEX SUMMERS': 60,\n",
       " 'WATSON-PARKER, MARY': 63,\n",
       " 'IRON MAN IV/JAMES R.': 58,\n",
       " 'CAPTAIN BRITAIN/BRIA': 67,\n",
       " 'DUGAN, TIMOTHY ALOYI': 67,\n",
       " 'BALDER [ASGARDIAN]': 59,\n",
       " 'NELSON, FRANKLIN FOG': 64,\n",
       " 'JAMESON, J. JONAH': 73,\n",
       " 'WOLFSBANE/RAHNE SINC': 63,\n",
       " 'PUNISHER II/FRANK CA': 57,\n",
       " 'FANDRAL [ASGARDIAN]': 60,\n",
       " 'SIF': 57,\n",
       " 'HOGUN [ASGARDIAN]': 60,\n",
       " 'PARKER, MAY': 55,\n",
       " 'THOMPSON, EUGENE FLA': 42,\n",
       " 'SUMMERS, NATHAN CHRI': 62,\n",
       " 'CANNONBALL II/SAM GU': 62,\n",
       " 'DR. DOOM/VICTOR VON': 74,\n",
       " 'MAGNETO/MAGNUS/ERIC': 62,\n",
       " 'ROBERTSON, JOE': 63,\n",
       " 'LEEDS, BETTY BRANT': 46,\n",
       " 'SUNSPOT/ROBERTO DACO': 54,\n",
       " 'BANSHEE/SEAN CASSIDY': 47,\n",
       " 'VOLSTAGG': 44,\n",
       " 'KINGPIN/WILSON FISK': 43}"
      ]
     },
     "execution_count": 267,
     "metadata": {},
     "output_type": "execute_result"
    }
   ],
   "source": [
    "test.count_collaborations()"
   ]
  },
  {
   "cell_type": "code",
   "execution_count": 268,
   "id": "f86c6030",
   "metadata": {},
   "outputs": [
    {
     "data": {
      "text/plain": [
       "[]"
      ]
     },
     "execution_count": 268,
     "metadata": {},
     "output_type": "execute_result"
    }
   ],
   "source": [
    "test.find_hubs()"
   ]
  },
  {
   "cell_type": "code",
   "execution_count": 74,
   "id": "792b65b4",
   "metadata": {},
   "outputs": [
    {
     "data": {
      "text/plain": [
       "{'WILD CHILD/KYLE GIBN': 0.21703853955375255,\n",
       " 'HAVOK/ALEX SUMMERS': 0.5111561866125761,\n",
       " 'FORGE': 0.385395537525355,\n",
       " 'POLARIS/LORNA DANE': 0.4158215010141988,\n",
       " 'MYSTIQUE/RAVEN DARKH': 0.31237322515212984,\n",
       " 'COOPER, DR. VALERIE': 0.4279918864097363,\n",
       " 'STRONG GUY/GUIDO CAR': 0.2778904665314402,\n",
       " 'CORSAIR': 0.2332657200811359,\n",
       " 'CYCLOPS/SCOTT SUMMER': 0.7241379310344828,\n",
       " 'SHAMAN/MICHAEL TWOYO': 0.3935091277890467,\n",
       " 'TALISMAN II/ELIZABET': 0.1845841784989858,\n",
       " 'SASQUATCH/WALTER LAN': 0.4077079107505071,\n",
       " 'BOX/ROGER BOCHS': 0.11967545638945233,\n",
       " 'HULK/DR. ROBERT BRUC': 0.7241379310344828,\n",
       " 'NORTHSTAR/JEAN-PAUL': 0.385395537525355,\n",
       " 'HUDSON, HEATHER': 0.2920892494929006,\n",
       " 'SNOWBIRD/NARYA/ANNE': 0.30628803245436104,\n",
       " 'PUCK/EUGENE MILTON J': 0.30425963488843816,\n",
       " 'AURORA/JEANNE-MARIE': 0.3935091277890467,\n",
       " 'BEYONDER': 0.3306288032454361,\n",
       " 'DIAMOND LIL/LILLIAN': 0.09127789046653144,\n",
       " 'BOX IV/MADISON JEFFR': 0.13995943204868155,\n",
       " 'WONDER MAN/SIMON WIL': 0.6612576064908722,\n",
       " 'DR. STRANGE/STEPHEN': 0.7200811359026369,\n",
       " 'NAMORITA/NITA PRENTI': 0.45030425963488846,\n",
       " 'SERSI/SYLVIA': 0.45233265720081134,\n",
       " 'GALACTUS/GALAN': 0.3995943204868154,\n",
       " 'PIP/PRINCE GOFERN': 0.23732251521298176,\n",
       " 'NOVA II/FRANKIE RAYE': 0.30628803245436104,\n",
       " 'CAPTAIN AMERICA': 0.8742393509127789,\n",
       " 'PSYLOCKE/ELISABETH B': 0.4563894523326572,\n",
       " 'BLACK WIDOW/NATASHA': 0.665314401622718,\n",
       " 'SCARLET WITCH/WANDA': 0.7545638945233266,\n",
       " 'DR. DOOM/VICTOR VON': 0.6227180527383367,\n",
       " 'CRYSTAL [INHUMAN]': 0.537525354969574,\n",
       " 'SPEEDBALL/ROBBIE BAL': 0.38742393509127787,\n",
       " 'WARLOCK II/ADAM WARL': 0.30628803245436104,\n",
       " 'BEAST/HENRY &HANK& P': 0.7525354969574036,\n",
       " 'GAMBIT/REMY LEBEAU': 0.4056795131845842,\n",
       " 'LIVING LIGHTNING/MIG': 0.2839756592292089,\n",
       " 'IRON MAN/TONY STARK': 0.8275862068965517,\n",
       " 'WOLFSBANE/RAHNE SINC': 0.46247464503042596,\n",
       " 'WOLVERINE/LOGAN': 0.7728194726166329,\n",
       " 'VISION': 0.7403651115618661,\n",
       " 'GAMORA': 0.2231237322515213,\n",
       " 'BLACK KNIGHT V/DANE': 0.6206896551724138,\n",
       " 'QUICKSILVER/PIETRO M': 0.6267748478701826,\n",
       " 'HERCULES [GREEK GOD]': 0.6774847870182555,\n",
       " 'MARVEL GIRL/JEAN GRE': 0.59026369168357,\n",
       " 'MULTIPLE MAN/JAMES A': 0.2799188640973631,\n",
       " 'DRAX/ARTHUR DOUGLAS': 0.29817444219066935,\n",
       " 'MOONDRAGON/HEATHER D': 0.45841784989858014,\n",
       " 'ANT-MAN/DR. HENRY J.': 0.6693711967545639,\n",
       " 'ICEMAN/ROBERT BOBBY': 0.6612576064908722,\n",
       " 'THANOS': 0.33468559837728196,\n",
       " 'SPIDER-WOMAN II/JULI': 0.34685598377281945,\n",
       " 'STORM/ORORO MUNROE S': 0.6754563894523327,\n",
       " 'USAGENT/CAPTAIN JOHN': 0.4117647058823529,\n",
       " 'NOVA/RICHARD RIDER': 0.4827586206896552,\n",
       " 'ETERNITY/ADAM QADMON': 0.34279918864097364,\n",
       " 'MOLE MAN/HARVEY RUPE': 0.30831643002028397,\n",
       " 'SILHOUETTE': 0.2434077079107505,\n",
       " 'PHARAOH RAMA-TUT': 0.3630831643002028,\n",
       " 'MR. FANTASTIC/REED R': 0.8275862068965517,\n",
       " 'ANGEL/WARREN KENNETH': 0.691683569979716,\n",
       " 'FIRESTAR/ANGELICA JO': 0.48073022312373226,\n",
       " 'COLOSSUS II/PETER RA': 0.6592292089249493,\n",
       " 'DAREDEVIL/MATT MURDO': 0.6977687626774848,\n",
       " 'DARKHAWK/CHRIS POWEL': 0.31237322515212984,\n",
       " 'WASP/JANET VAN DYNE': 0.7119675456389453,\n",
       " 'DEATH': 0.3752535496957404,\n",
       " 'HAWK': 0.7038539553752535,\n",
       " 'MOON KNIGHT/MARC SPE': 0.4340770791075051,\n",
       " 'HUMAN TORCH/JOHNNY S': 0.7870182555780934,\n",
       " 'MOCKINGBIRD/DR. BARB': 0.5010141987829615,\n",
       " 'PROFESSOR X/CHARLES': 0.6632860040567952,\n",
       " 'THING/BENJAMIN J. GR': 0.795131845841785,\n",
       " 'SILVER SURFER/NORRIN': 0.5273833671399595,\n",
       " 'INVISIBLE WOMAN/SUE': 0.7484787018255578,\n",
       " 'SHE-HULK/JENNIFER WA': 0.7363083164300203,\n",
       " 'THUNDERSTRIKE/ERIC K': 0.4563894523326572,\n",
       " 'QUASAR III/WENDELL V': 0.5496957403651116,\n",
       " 'HARKNESS, AGATHA': 0.33874239350912777,\n",
       " 'DR. DRUID/ANTHONY LU': 0.4645030425963489,\n",
       " 'BLACK CAT/FELICIA HA': 0.30628803245436104,\n",
       " 'UATU': 0.49898580121703856,\n",
       " 'BANSHEE/SEAN CASSIDY': 0.332657200811359,\n",
       " 'JUBILEE/JUBILATION L': 0.3306288032454361,\n",
       " 'RICHARDS, FRANKLIN B': 0.5760649087221096,\n",
       " 'MASTERS, ALICIA REIS': 0.4259634888438134,\n",
       " 'WHIRLWIND/DAVID CANN': 0.2657200811359026,\n",
       " 'MISTER HYDE/CALVIN Z': 0.24746450304259635,\n",
       " 'NIGHT THRASHER/DUANE': 0.281947261663286,\n",
       " 'RAGE/ELVIN DARYL HAL': 0.26774847870182555,\n",
       " 'SABRETOOTH/VICTOR CR': 0.2697768762677485,\n",
       " 'KELLY, SEN. ROBERT E': 0.2028397565922921,\n",
       " 'GUARDIAN/JAMES MACDO': 0.31643002028397565,\n",
       " 'PERSUASION/KARA KILL': 0.13184584178498987,\n",
       " 'SUB-MARINER/NAMOR MA': 0.6855983772819473,\n",
       " 'MARRINA/MARRINA SMAL': 0.15010141987829614,\n",
       " 'MAD DOG/COLONEL BUZZ': 0.1947261663286004,\n",
       " 'PATHWAY/LAURA DEAN': 0.11561866125760649,\n",
       " 'CAGE, LUKE/CARL LUCA': 0.5598377281947262,\n",
       " 'CONSTRICTOR/FRANK PA': 0.23529411764705882,\n",
       " 'FURY, COL. NICHOLAS': 0.6612576064908722,\n",
       " 'SUNFIRE/SHIRO YOSHID': 0.36105476673427994,\n",
       " 'DAYTRIPPER/AMANDA SE': 0.21095334685598377,\n",
       " 'MACTAGGERT, MOIRA KI': 0.32454361054766734,\n",
       " 'WONG': 0.40973630831643004,\n",
       " \"KISMET/J'RIDIA STARD\": 0.20081135902636918,\n",
       " 'GHOST RIDER III/DAN': 0.24949290060851928,\n",
       " 'PUNISHER II/FRANK CA': 0.35699797160243407,\n",
       " \"BLACK PANTHER/T'CHAL\": 0.563894523326572,\n",
       " 'DEATHLOK III/MICHAEL': 0.1845841784989858,\n",
       " 'MAKKARI/MIKE KHARY/I': 0.22718052738336714,\n",
       " 'BALLANTINE, KAYLA': 0.1947261663286004,\n",
       " 'BINARY/CAROL DANVERS': 0.4543610547667343,\n",
       " 'LILANDRA NERAMANI [S': 0.3103448275862069,\n",
       " 'CAPTAIN MARVEL II/MO': 0.5172413793103449,\n",
       " 'MAN-THING/THEODORE T': 0.2434077079107505,\n",
       " \"SUPER SKRULL/KL'RT\": 0.22718052738336714,\n",
       " 'JARVIS, EDWIN': 0.7139959432048681,\n",
       " \"DEATHBIRD [SHI'AR]\": 0.19066937119675456,\n",
       " 'DR. SPECTRUM/JOSEPH': 0.1440162271805274,\n",
       " 'HYPERION': 0.15212981744421908,\n",
       " 'JACK OF HEARTS/JACK': 0.3488843813387424,\n",
       " 'WHIZZER II/STANLEY S': 0.1440162271805274,\n",
       " 'MEPHISTO': 0.4056795131845842,\n",
       " 'DOC SAMSON/DR. LEONA': 0.3144016227180527,\n",
       " 'IKARIS/IKE HARRIS [E': 0.23732251521298176,\n",
       " 'FORGOTTEN ONE/GILGAM': 0.18661257606490872,\n",
       " 'BATTLESTAR/LEMAR HOS': 0.15010141987829614,\n",
       " 'CAPTAIN BRITAIN/BRIA': 0.45030425963488846,\n",
       " \"O'BRIEN, MICHAEL\": 0.3184584178498986,\n",
       " 'SUMMERS, NATHAN CHRI': 0.3975659229208925,\n",
       " 'DARKSTAR/LAYNIA SERG': 0.3630831643002028,\n",
       " 'JUSTICE II/VANCE AST': 0.40365111561866124,\n",
       " 'RED GUARDIAN III/DR.': 0.1724137931034483,\n",
       " 'FALCON/SAM WILSON': 0.4726166328600406,\n",
       " 'HIGH EVOLUTIONARY/HE': 0.33468559837728196,\n",
       " 'STARFOX/EROS': 0.44016227180527384,\n",
       " 'TRIATHLON/DELROY GAR': 0.1926977687626775,\n",
       " 'MAGNETO/MAGNUS/ERIC': 0.5172413793103449,\n",
       " 'THOR/DR. DONALD BLAK': 0.7870182555780934,\n",
       " 'IRON FIST/DANIEL RAN': 0.4563894523326572,\n",
       " 'ANT-MAN II/SCOTT HAR': 0.3772819472616633,\n",
       " 'FIREBIRD/BONITA JUAR': 0.2961460446247465,\n",
       " 'CAPTAIN MARVEL III/G': 0.12170385395537525,\n",
       " 'NELSON, FRANKLIN FOG': 0.4117647058823529,\n",
       " 'JONES, RICHARD MILHO': 0.43204868154158216,\n",
       " 'HOGAN, HAROLD J. HAP': 0.1744421906693712,\n",
       " 'ATTUMA': 0.23732251521298176,\n",
       " 'STINGRAY/DR. WALTER': 0.32454361054766734,\n",
       " 'WIZARD/BENTLEY WITTM': 0.3265720081135903,\n",
       " 'CITIZEN V III/DALLAS': 0.15212981744421908,\n",
       " 'SCREAMING MIMI/MELIS': 0.30628803245436104,\n",
       " 'BEETLE/ABNER RONALD': 0.3630831643002028,\n",
       " 'CHARCOAL/CHARLIE BUR': 0.16024340770791076,\n",
       " 'FIXER II/PAUL NORBER': 0.24949290060851928,\n",
       " 'NOMAD III/JACK MONRO': 0.1724137931034483,\n",
       " 'MOONSTONE II/KARLA S': 0.3022312373225152,\n",
       " 'POWER MAN/ERIK JOSTE': 0.3225152129817444,\n",
       " 'MADAME MASQUE/GIULIE': 0.11561866125760649,\n",
       " 'TRAPSTER/PETER PETRU': 0.23935091277890466,\n",
       " 'X-MAN/NATHAN GREY': 0.22718052738336714,\n",
       " 'PILEDRIVER II/BRIAN': 0.24746450304259635,\n",
       " 'TURBO II (A)/MICHIKO': 0.18052738336713997,\n",
       " 'TIGRA/GREER NELSON': 0.5010141987829615,\n",
       " 'NIGHTCRAWLER/KURT WA': 0.5862068965517241,\n",
       " 'GLADIATOR II': 0.21703853955375255,\n",
       " 'SUPREME INTELLIGENCE': 0.24543610547667344,\n",
       " 'BETA RAY BILL': 0.21095334685598377,\n",
       " 'DEADPOOL/JACK/WADE W': 0.13387423935091278,\n",
       " 'COPYCAT/VANESSA': 0.10953346855983773,\n",
       " 'KINCAID, DR. JANE FO': 0.2210953346855984,\n",
       " 'THUNDERBALL/DR. ELIO': 0.2799188640973631,\n",
       " 'WRECKER III/DIRK GAR': 0.30425963488843816,\n",
       " 'ULTRON': 0.22515212981744423,\n",
       " 'BULLDOZER/HENRY CAMP': 0.23935091277890466,\n",
       " 'ROSS, EVERETT KENNET': 0.1359026369168357,\n",
       " 'SITWELL, JASPER': 0.20689655172413793,\n",
       " 'GYRICH, HENRY PETER': 0.4056795131845842,\n",
       " 'SILVERMANE/SILVIO MA': 0.14807302231237324,\n",
       " 'CARTER, SHARON': 0.21095334685598377,\n",
       " 'TOAD/MORTIMER TOYNBE': 0.2535496957403651,\n",
       " 'SHADOWCAT/KATHERINE': 0.5557809330628803,\n",
       " 'BLOB/FRED J. DUKES': 0.39148073022312374,\n",
       " 'MARROW/SARAH': 0.2413793103448276,\n",
       " 'MASTERMIND/JASON WYN': 0.1643002028397566,\n",
       " 'FERAL/MARIA CALLASAN': 0.1440162271805274,\n",
       " 'CANNONBALL II/SAM GU': 0.46247464503042596,\n",
       " 'SIRYN/THERESA ROURKE': 0.24746450304259635,\n",
       " 'SHATTERSTAR II/GAVEE': 0.17038539553752535,\n",
       " 'THUNDERBIRD II/JAMES': 0.3184584178498986,\n",
       " 'BOOMER/TABITHA SMITH': 0.29817444219066935,\n",
       " 'ZEUS': 0.22718052738336714,\n",
       " 'JUGGERNAUT/CAIN MARK': 0.3184584178498986,\n",
       " 'STRANGER': 0.17647058823529413,\n",
       " 'BLACK KING/SEBASTIAN': 0.29006085192697767,\n",
       " 'MACHINE MAN/X-51': 0.30425963488843816,\n",
       " 'SAURON/DR. KARL LYKO': 0.13387423935091278,\n",
       " 'JAMESON, J. JONAH': 0.6308316430020284,\n",
       " 'PYRO/ALLERDYCE JOHNN': 0.2920892494929006,\n",
       " 'AVALANCHE/DOMINIC PE': 0.26369168356997974,\n",
       " 'HUSK/PAIGE GUTHRIE': 0.18052738336713997,\n",
       " 'BEDLAM/JESSE AARONSO': 0.10547667342799188,\n",
       " 'SKIN/ANGELO ESPINOSA': 0.17647058823529413,\n",
       " 'CHAMBER/JONOTHON STA': 0.15821501014198783,\n",
       " 'PENANCE/MONET ST. CR': 0.11359026369168357,\n",
       " 'WHITE TIGER/HECTOR A': 0.10344827586206896,\n",
       " 'HELLSTORM/DAIMON HEL': 0.29817444219066935,\n",
       " 'HELLCAT/PATSY WALKER': 0.3894523326572008,\n",
       " 'ELECTRO/MAX DILLON': 0.3184584178498986,\n",
       " 'NORRISS, SISTER BARB': 0.41379310344827586,\n",
       " 'BATROC/GEORGES BATRO': 0.17849898580121704,\n",
       " 'BLACK GOLIATH/DR. WI': 0.20892494929006086,\n",
       " 'NIGHTHAWK II/KYLE RI': 0.27586206896551724,\n",
       " 'BOOMERANG/FRED MYERS': 0.2332657200811359,\n",
       " 'LUNA/LUNA MAXIMOFF [': 0.27586206896551724,\n",
       " 'SOUTHERN, CANDY': 0.17647058823529413,\n",
       " 'BLACK TOM CASSIDY': 0.15415821501014199,\n",
       " 'BRIDGE, GEORGE WASHI': 0.1926977687626775,\n",
       " 'DESTINY II/IRENE ADL': 0.21906693711967545,\n",
       " 'JOSEPH': 0.14807302231237324,\n",
       " 'MADDICKS, ARTHUR ART': 0.20892494929006086,\n",
       " 'LEECH': 0.2129817444219067,\n",
       " 'JAMESON, COL. JOHN': 0.2657200811359026,\n",
       " 'ROBERTSON, MARTHA': 0.13793103448275862,\n",
       " 'OSBORN, HARRY': 0.2332657200811359,\n",
       " 'LEEDS, BETTY BRANT': 0.29411764705882354,\n",
       " 'ROBERTSON, JOE': 0.4787018255578093,\n",
       " 'LEEDS, NED': 0.21906693711967545,\n",
       " 'ROBERTSON, RANDY': 0.1359026369168357,\n",
       " 'STACY, CAPT. GEORGE': 0.07302231237322515,\n",
       " 'BANNER, BETTY ROSS T': 0.3286004056795132,\n",
       " 'ROSS, GEN. THADDEUS': 0.3144016227180527,\n",
       " 'TALBOT, GLENN': 0.1440162271805274,\n",
       " 'SANDMAN/WILLIAM BAKE': 0.385395537525355,\n",
       " 'DEMOLITION MAN/DENNI': 0.1663286004056795,\n",
       " 'CAPTAIN MARVEL/CAPTA': 0.26369168356997974,\n",
       " 'CARTER, PEGGY': 0.2799188640973631,\n",
       " 'ANNIHILUS': 0.15618661257606492,\n",
       " 'BLACK BOLT/BLACKANTO': 0.3894523326572008,\n",
       " 'MENTOR/ALARS [ETERNA': 0.20081135902636918,\n",
       " 'TRITON': 0.385395537525355,\n",
       " 'CLEA': 0.22718052738336714,\n",
       " 'KARNAK [INHUMAN]': 0.38336713995943206,\n",
       " 'GHOST RIDER II/JOHNN': 0.2535496957403651,\n",
       " 'SPIDER-WOMAN/JESSICA': 0.332657200811359,\n",
       " 'GORGON [INHUMAN]': 0.3935091277890467,\n",
       " 'GARGOYLE II/ISAAC CH': 0.3002028397565923,\n",
       " 'MEDUSA/MEDUSALITH AM': 0.4077079107505071,\n",
       " 'TYRANNUS': 0.1440162271805274,\n",
       " 'JONES, MARLO CHANDLE': 0.1359026369168357,\n",
       " 'LEADER/SAM STERNS': 0.22718052738336714,\n",
       " 'WILSON, JIM': 0.08519269776876268,\n",
       " 'ABOMINATION/EMIL BLO': 0.2210953346855984,\n",
       " 'RINGMASTER/MAYNARD T': 0.21095334685598377,\n",
       " 'ABSORBING MAN/CARL C': 0.3265720081135903,\n",
       " 'DESTROYER III': 0.10953346855983773,\n",
       " 'LOKI [ASGARDIAN]': 0.44016227180527384,\n",
       " 'ODIN [ASGARDIAN]': 0.35699797160243407,\n",
       " 'EXECUTIONER II/SKURG': 0.24746450304259635,\n",
       " 'ENCHANTRESS/AMORA/HE': 0.36105476673427994,\n",
       " 'BUCKY/BUCKY BARNES': 0.0973630831643002,\n",
       " 'MOLECULE MAN/OWEN RE': 0.2332657200811359,\n",
       " 'PUPPET MASTER/PHILLI': 0.2616632860040568,\n",
       " 'QUARTERMAIN, CLAY': 0.15821501014198783,\n",
       " 'SKIDS/SALLY BLEVINS': 0.18052738336713997,\n",
       " 'NIGHTMARE/EDVARD HAB': 0.17038539553752535,\n",
       " 'RHINO': 0.34279918864097364,\n",
       " 'DAZZLER II/ALLISON B': 0.385395537525355,\n",
       " 'LONGSHOT': 0.2150101419878296,\n",
       " 'WATSON-PARKER, MARY': 0.4847870182555781,\n",
       " 'VIPER II': 0.24746450304259635,\n",
       " 'SWORDSMAN/JACQUES DU': 0.19878296146044624,\n",
       " 'STARSHINE II/BRANDY': 0.14198782961460446,\n",
       " 'ROM, SPACEKNIGHT': 0.2413793103448276,\n",
       " 'IRON MAN IV/JAMES R.': 0.359026369168357,\n",
       " 'JONES, GABE': 0.2413793103448276,\n",
       " 'DUGAN, TIMOTHY ALOYI': 0.44016227180527384,\n",
       " 'BALDER [ASGARDIAN]': 0.3144016227180527,\n",
       " 'CITIZEN V II/HELMUT': 0.2839756592292089,\n",
       " 'JOLT/HALLIE TAKAHAMA': 0.17038539553752535,\n",
       " 'MAXIMUS [INHUMAN]': 0.1440162271805274,\n",
       " 'LOCKJAW [INHUMAN]': 0.36105476673427994,\n",
       " 'DR. OCTOPUS/OTTO OCT': 0.2697768762677485,\n",
       " 'REDWING': 0.2920892494929006,\n",
       " 'RED SKULL/JOHANN SCH': 0.23935091277890466,\n",
       " 'CHAMELEON/DMITRI SME': 0.11156186612576065,\n",
       " 'FANDRAL [ASGARDIAN]': 0.32454361054766734,\n",
       " 'SIF': 0.30831643002028397,\n",
       " 'HOGUN [ASGARDIAN]': 0.32454361054766734,\n",
       " 'HELA [ASGARDIAN]': 0.3184584178498986,\n",
       " 'VASHTI': 0.2150101419878296,\n",
       " 'PRINCESS PYTHON/ZELD': 0.2028397565922921,\n",
       " 'PARKER, MAY': 0.3448275862068966,\n",
       " 'OSBORN, LIZ ALLAN': 0.23732251521298176,\n",
       " 'THOMPSON, EUGENE FLA': 0.24949290060851928,\n",
       " 'MANTIS/? BRANDT': 0.17849898580121704,\n",
       " 'APOCALYPSE/EN SABAH': 0.2738336713995943,\n",
       " 'WOO, JIMMY': 0.07099391480730223,\n",
       " 'PHOENIX II': 0.1359026369168357,\n",
       " 'KA-ZAR/KEVIN PLUNDER': 0.3630831643002028,\n",
       " 'ZABU': 0.2738336713995943,\n",
       " 'CUSHING, KATE': 0.16835699797160245,\n",
       " 'MIRAGE II/DANIELLE M': 0.33468559837728196,\n",
       " 'SUMMERS, MADELYNE MA': 0.2413793103448276,\n",
       " 'WARLOCK III': 0.32454361054766734,\n",
       " 'SUNSPOT/ROBERTO DACO': 0.39553752535496955,\n",
       " 'MAGIK/ILLYANA RASPUT': 0.29411764705882354,\n",
       " 'GATEWAY': 0.15415821501014199,\n",
       " 'TILBY, TRISH/PATRICI': 0.2799188640973631,\n",
       " \"KARMA/XI'AN COY MANH\": 0.2332657200811359,\n",
       " 'CYPHER/DOUG RAMSEY': 0.30628803245436104,\n",
       " 'CROSSBONES/BROCK BIN': 0.12170385395537525,\n",
       " 'STANKOWICZ, FABIAN': 0.21095334685598377,\n",
       " 'MANDARIN': 0.2413793103448276,\n",
       " 'DIAMONDBACK II/RACHE': 0.16835699797160245,\n",
       " 'KINGPIN/WILSON FISK': 0.3772819472616633,\n",
       " 'SPIRAL': 0.21703853955375255,\n",
       " 'PHOENIX III/RACHEL S': 0.35294117647058826,\n",
       " 'LOCKHEED': 0.3144016227180527,\n",
       " 'KRAVEN THE HUNTER/SE': 0.19675456389452334,\n",
       " 'WHITE QUEEN/EMMA FRO': 0.3225152129817444,\n",
       " 'MS. MARVEL II/SHARON': 0.3407707910750507,\n",
       " 'BARON MORDO/KARL MOR': 0.10953346855983773,\n",
       " 'VULTURE/ADRIAN TOOME': 0.23732251521298176,\n",
       " 'TITANIA II/MARY SKEE': 0.2920892494929006,\n",
       " 'DAGGER/TANDY BOWEN': 0.29006085192697767,\n",
       " 'CLOAK/TYRONE JOHNSON': 0.3184584178498986,\n",
       " 'KATZENBERG, NICK': 0.08924949290060852,\n",
       " \"S'YM\": 0.17647058823529413,\n",
       " 'HODGE, CAMERON': 0.1359026369168357,\n",
       " 'SELENE': 0.18661257606490872,\n",
       " 'TESSA': 0.15618661257606492,\n",
       " 'M': 0.09939148073022312,\n",
       " 'SYNCH/EVERETT THOMAS': 0.1744421906693712,\n",
       " 'MERRYWEATHER, IRENE': 0.09939148073022312,\n",
       " 'CALLISTO': 0.18255578093306288,\n",
       " 'FIREFIST/RUSTY COLLI': 0.19066937119675456,\n",
       " 'OSBORN, NORMIE': 0.1460446247464503,\n",
       " 'PUMA/THOMAS FIREHEAR': 0.11156186612576065,\n",
       " 'GRANT, GLORIA GLORY': 0.18864097363083165,\n",
       " 'LUBENSKI, NATE': 0.15618661257606492,\n",
       " 'KLAW/ULYSSES KLAW': 0.2738336713995943,\n",
       " 'LIZARD/DR. CURTIS CO': 0.18255578093306288,\n",
       " 'WISDOM, PETER': 0.1460446247464503,\n",
       " 'PIERCE, DONALD': 0.12373225152129817,\n",
       " 'MR. SINISTER/NATHAN': 0.13387423935091278,\n",
       " 'POWER, DR. JIM': 0.1643002028397566,\n",
       " 'GEE/ALEX POWER': 0.22515212981744423,\n",
       " 'POWER, MARGARET': 0.16024340770791076,\n",
       " 'LIGHTSPEED/JULIE POW': 0.20081135902636918,\n",
       " 'COUNTERWEIGHT II/KAT': 0.20486815415821502,\n",
       " 'COUNTERWEIGHT/JACK P': 0.20081135902636918,\n",
       " 'RAZA LONGKNIFE': 0.2028397565922921,\n",
       " \"MAM'SELLE HEPZIBAH\": 0.19675456389452334,\n",
       " 'MCCABE, LINDSAY': 0.10953346855983773,\n",
       " \"CH'OD\": 0.20486815415821502,\n",
       " 'MASTER MOLD II': 0.2231237322515213,\n",
       " 'LYJA LAZERFIST [SKRU': 0.2799188640973631,\n",
       " 'RICTOR/JULIO ESTEBAN': 0.1926977687626775,\n",
       " 'DORMA [ATLANTEAN]': 0.08113590263691683,\n",
       " 'KNIGHT, MISTY': 0.2738336713995943,\n",
       " 'BARON STRUCKER/WOLFG': 0.1845841784989858,\n",
       " 'IMPOSSIBLE MAN': 0.1643002028397566,\n",
       " 'PETROVITCH, IVAN': 0.09939148073022312,\n",
       " 'TIGER SHARK/TODD ARL': 0.1744421906693712,\n",
       " \"SHANNA/SHANNA O'HARA\": 0.3022312373225152,\n",
       " 'KRO [DEVIANT]': 0.11764705882352941,\n",
       " 'LYNNE, MONICA': 0.08316430020283976,\n",
       " \"VIBRAXAS/N'KANO\": 0.08519269776876268,\n",
       " 'WIDGET': 0.10547667342799188,\n",
       " 'MEGGAN': 0.25760649087221094,\n",
       " 'THENA': 0.17849898580121704,\n",
       " 'VOLSTAGG': 0.26774847870182555,\n",
       " 'ERWIN, CLYTEMNESTRA': 0.056795131845841784,\n",
       " 'VIZIER': 0.1663286004056795,\n",
       " 'ANALYZER': 0.12373225152129817,\n",
       " 'KARNILLA [ASGARDIAN]': 0.1926977687626775,\n",
       " 'HEIMDALL [ASGARDIAN]': 0.2129817444219067,\n",
       " 'FRIGGA': 0.11967545638945233,\n",
       " 'BLAKE, BECKY': 0.06490872210953347,\n",
       " 'NELSON, DEBBIE HARRI': 0.06288032454361055,\n",
       " 'GLENN, HEATHER': 0.0872210953346856,\n",
       " 'BULLSEYE II/BENJAMIN': 0.08316430020283976,\n",
       " 'ELEKTRA/ELEKTRA NATC': 0.07302231237322515,\n",
       " 'URICH, BEN': 0.26774847870182555,\n",
       " 'MYSTERIO/QUENTIN BEC': 0.14807302231237324,\n",
       " 'PAGE, KAREN': 0.22718052738336714,\n",
       " 'CANTOR, VERA': 0.11764705882352941,\n",
       " 'WOLFE, SARA': 0.10547667342799188,\n",
       " 'WATSON, ANNA': 0.19675456389452334,\n",
       " 'TOWER, BLAKE': 0.15212981744421908,\n",
       " 'KAFKA, DR. ASHLEY': 0.04665314401622718,\n",
       " 'HAMMERHEAD': 0.13793103448275862,\n",
       " 'TOMBSTONE/LONNIE THO': 0.10547667342799188,\n",
       " 'JAMESON, MARLA MADIS': 0.1947261663286004,\n",
       " 'MERCADO, JOY': 0.1257606490872211,\n",
       " 'BANNON, LANCE': 0.15415821501014199,\n",
       " 'HAMMER, JUSTIN': 0.12981744421906694,\n",
       " 'SPIDER-MAN CLONE/BEN': 0.23732251521298176,\n",
       " 'HOGAN, VIRGINIA PEPP': 0.1744421906693712,\n",
       " 'STACY, GWEN': 0.09127789046653144,\n",
       " 'SILVER SABLE': 0.1926977687626775,\n",
       " 'THINKER': 0.2515212981744422,\n",
       " 'MUGGINS, MAMIE': 0.11764705882352941,\n",
       " 'WHIPLASH/MARK SCARLO': 0.18255578093306288,\n",
       " 'MODOK/GEORGE TARLETO': 0.2129817444219067,\n",
       " 'COBRA/KLAUS VORHEES': 0.2332657200811359,\n",
       " 'TORO/TOM RAYMOND': 0.08924949290060852,\n",
       " 'ULIK': 0.12373225152129817,\n",
       " 'WINGFOOT, WYATT': 0.13793103448275862,\n",
       " 'YELLOW CLAW/TZING JA': 0.07505070993914807,\n",
       " 'ROSENTHAL, BERNIE': 0.18255578093306288,\n",
       " 'THUNDRA': 0.12981744421906694,\n",
       " 'TAYLOR, LEILA': 0.060851926977687626,\n",
       " 'STACY, JILL': 0.11967545638945233,\n",
       " 'HYDROMAN/MORRIE BENC': 0.21703853955375255,\n",
       " 'KRISTOFF/KRISTOFF VE': 0.17849898580121704,\n",
       " 'GRIFFITH, D.W.': 0.07910750507099391,\n",
       " 'WHITMAN, DEBRA': 0.11561866125760649,\n",
       " 'KAINE': 0.08316430020283976,\n",
       " 'FIRELORD/PYREUS KRIL': 0.23935091277890466,\n",
       " 'DEWOLFF, JEAN': 0.12981744421906694,\n",
       " 'SCHEMER/RICHARD FISK': 0.1257606490872211,\n",
       " 'SHA SHAN': 0.10547667342799188,\n",
       " 'VENOM/EDDIE BROCK': 0.13184584178498987,\n",
       " 'HOBGOBLIN V/JASON PH': 0.1440162271805274,\n",
       " 'MICROCHIP/LINUS LIEB': 0.09330628803245436,\n",
       " 'WHIZZER/ROBERT L. FR': 0.23935091277890466,\n",
       " 'TYPHOID MARY/MARY ME': 0.08113590263691683,\n",
       " 'JOCASTA': 0.2535496957403651,\n",
       " 'SHROUD/MAXIMILLIAN Q': 0.2210953346855984,\n",
       " 'BLACK MAMBA/TANYA SE': 0.14198782961460446,\n",
       " 'PALADIN/PAUL DENNIS': 0.3306288032454361,\n",
       " 'ARBOGAST, BAMBI': 0.1643002028397566,\n",
       " 'PLUTO [OLYMPIAN]': 0.1663286004056795,\n",
       " 'DE LA FONTAINE, CONT': 0.29817444219066935,\n",
       " 'GREEN GOBLIN/NORMAN': 0.21095334685598377,\n",
       " 'ANACONDA/BLANCHE SIT': 0.12981744421906694,\n",
       " 'SAXON, STARR': 0.1257606490872211,\n",
       " 'TYGER TIGER/JESSAN H': 0.0486815415821501,\n",
       " 'SHANG-CHI': 0.1440162271805274,\n",
       " 'FRENCHIE/JEAN-PAUL D': 0.1257606490872211,\n",
       " 'NORRISS, JACK': 0.06896551724137931,\n",
       " 'BLAQUESMITH': 0.1257606490872211,\n",
       " 'STUART, DR. ALISTAIR': 0.09533468559837728,\n",
       " 'WING, COLLEEN': 0.20486815415821502,\n",
       " 'COLLECTOR/TANELEER T': 0.22515212981744423,\n",
       " 'LORELEI II/MELODI [A': 0.14807302231237324,\n",
       " 'HILDEGARDE [ASGARDIA': 0.060851926977687626,\n",
       " 'MASON, LOUISE': 0.0872210953346856,\n",
       " 'RINTRAH': 0.1724137931034483,\n",
       " 'PIERCE, ALEXANDER GO': 0.1075050709939148,\n",
       " 'WU, LEIKO': 0.0486815415821501,\n",
       " 'DORMAMMU': 0.1663286004056795,\n",
       " 'DRACULA/VLAD TEPES': 0.19675456389452334,\n",
       " 'ZARRKO, ARTHUR': 0.12981744421906694,\n",
       " 'MASTERSON, KEVIN': 0.1440162271805274,\n",
       " 'AUSTIN, SUSAN': 0.1359026369168357,\n",
       " 'BLOODAXE/JACKIE LUKU': 0.09939148073022312,\n",
       " 'UMAR': 0.07707910750507099,\n",
       " 'WEREWOLF BY NIGHT/JA': 0.23732251521298176,\n",
       " 'BROTHER VOODOO/DANIE': 0.21906693711967545,\n",
       " 'MORBIUS/DR. MICHAEL': 0.11967545638945233,\n",
       " 'CABE, BETHANY': 0.08316430020283976,\n",
       " 'RUSSELL, LISSA': 0.02434077079107505,\n",
       " 'COWEN, BUCK': 0.028397565922920892,\n",
       " 'RORY, RICHARD': 0.05273833671399594,\n",
       " 'SMITH, SIR DENIS NAY': 0.02028397565922921,\n",
       " 'FU MANCHU': 0.04056795131845842,\n",
       " 'TARR, BLACK JACK': 0.02028397565922921,\n",
       " 'RESTON, CLIVE': 0.02636916835699797,\n",
       " 'DIAMOND, BOB': 0.056795131845841784,\n",
       " 'MAN-BEAST': 0.09939148073022312,\n",
       " 'JACKAL/MILES WARREN': 0.07505070993914807,\n",
       " 'SWITZLER, BEVERLY': 0.06288032454361055,\n",
       " 'HOWARD THE DUCK': 0.06896551724137931,\n",
       " 'ANCIENT ONE': 0.09127789046653144,\n",
       " 'BLAZE, ROXANNE SIMPS': 0.05273833671399594,\n",
       " 'TOPAZ': 0.06288032454361055,\n",
       " 'ALRAUNE, MARLENE': 0.09330628803245436,\n",
       " 'BLADE': 0.04259634888438134,\n",
       " 'SCARFE, RAFAEL': 0.07910750507099391,\n",
       " 'SPITFIRE/LADY JACQUE': 0.07910750507099391,\n",
       " 'VAN HELSING, RACHEL': 0.032454361054766734,\n",
       " 'DRAKE, FRANKLIN': 0.038539553752535496,\n",
       " 'HARKER, QUINCY': 0.016227180527383367,\n",
       " 'SATAN/MARDU KURIOS': 0.05070993914807302,\n",
       " 'FRANKENSTEIN MONSTER': 0.05476673427991886,\n",
       " 'SABRE': 0.0}"
      ]
     },
     "execution_count": 74,
     "metadata": {},
     "output_type": "execute_result"
    }
   ],
   "source": [
    "test.degree_distro()"
   ]
  },
  {
   "cell_type": "code",
   "execution_count": 273,
   "id": "4c42ae4c",
   "metadata": {},
   "outputs": [
    {
     "data": {
      "text/plain": [
       "0.8724608724608724"
      ]
     },
     "execution_count": 273,
     "metadata": {},
     "output_type": "execute_result"
    }
   ],
   "source": [
    "test.graph_density()"
   ]
  },
  {
   "cell_type": "code",
   "execution_count": 274,
   "id": "6c385a69",
   "metadata": {},
   "outputs": [
    {
     "name": "stdout",
     "output_type": "stream",
     "text": [
      "+-----------------+----+\n",
      "| Number of Nodes | 78 |\n",
      "+-----------------+----+\n",
      "Number of nodes for graph type 1:\n",
      "+----------------------+----------------------------+\n",
      "| Heroe                |   Number of Collaborations |\n",
      "+======================+============================+\n",
      "| JONES, RICHARD MILHO |                         71 |\n",
      "+----------------------+----------------------------+\n",
      "| SUB-MARINER/NAMOR MA |                         76 |\n",
      "+----------------------+----------------------------+\n",
      "| BANNER, BETTY ROSS T |                         67 |\n",
      "+----------------------+----------------------------+\n",
      "| ROSS, GEN. THADDEUS  |                         62 |\n",
      "+----------------------+----------------------------+\n",
      "| HULK/DR. ROBERT BRUC |                         75 |\n",
      "+----------------------+----------------------------+\n",
      "| SCARLET WITCH/WANDA  |                         76 |\n",
      "+----------------------+----------------------------+\n",
      "| THING/BENJAMIN J. GR |                         76 |\n",
      "+----------------------+----------------------------+\n",
      "| HAWK                 |                         73 |\n",
      "+----------------------+----------------------------+\n",
      "| INVISIBLE WOMAN/SUE  |                         76 |\n",
      "+----------------------+----------------------------+\n",
      "| QUICKSILVER/PIETRO M |                         72 |\n",
      "+----------------------+----------------------------+\n",
      "| BLACK KNIGHT V/DANE  |                         72 |\n",
      "+----------------------+----------------------------+\n",
      "| WASP/JANET VAN DYNE  |                         77 |\n",
      "+----------------------+----------------------------+\n",
      "| CRYSTAL [INHUMAN]    |                         69 |\n",
      "+----------------------+----------------------------+\n",
      "| IRON MAN/TONY STARK  |                         76 |\n",
      "+----------------------+----------------------------+\n",
      "| VISION               |                         76 |\n",
      "+----------------------+----------------------------+\n",
      "| MR. FANTASTIC/REED R |                         77 |\n",
      "+----------------------+----------------------------+\n",
      "| HERCULES [GREEK GOD] |                         76 |\n",
      "+----------------------+----------------------------+\n",
      "| BLACK WIDOW/NATASHA  |                         75 |\n",
      "+----------------------+----------------------------+\n",
      "| FALCON/SAM WILSON    |                         70 |\n",
      "+----------------------+----------------------------+\n",
      "| BLACK PANTHER/T'CHAL |                         71 |\n",
      "+----------------------+----------------------------+\n",
      "| THOR/DR. DONALD BLAK |                         76 |\n",
      "+----------------------+----------------------------+\n",
      "| CAPTAIN AMERICA      |                         77 |\n",
      "+----------------------+----------------------------+\n",
      "| JARVIS, EDWIN        |                         73 |\n",
      "+----------------------+----------------------------+\n",
      "| SHE-HULK/JENNIFER WA |                         74 |\n",
      "+----------------------+----------------------------+\n",
      "| ANT-MAN/DR. HENRY J. |                         76 |\n",
      "+----------------------+----------------------------+\n",
      "| BEAST/HENRY &HANK& P |                         75 |\n",
      "+----------------------+----------------------------+\n",
      "| HUMAN TORCH/JOHNNY S |                         77 |\n",
      "+----------------------+----------------------------+\n",
      "| WONDER MAN/SIMON WIL |                         76 |\n",
      "+----------------------+----------------------------+\n",
      "| NORRISS, SISTER BARB |                         65 |\n",
      "+----------------------+----------------------------+\n",
      "| CLEA                 |                         43 |\n",
      "+----------------------+----------------------------+\n",
      "| STORM/ORORO MUNROE S |                         76 |\n",
      "+----------------------+----------------------------+\n",
      "| DAREDEVIL/MATT MURDO |                         75 |\n",
      "+----------------------+----------------------------+\n",
      "| NIGHTCRAWLER/KURT WA |                         69 |\n",
      "+----------------------+----------------------------+\n",
      "| COLOSSUS II/PETER RA |                         74 |\n",
      "+----------------------+----------------------------+\n",
      "| CAGE, LUKE/CARL LUCA |                         73 |\n",
      "+----------------------+----------------------------+\n",
      "| ANGEL/WARREN KENNETH |                         77 |\n",
      "+----------------------+----------------------------+\n",
      "| WOLVERINE/LOGAN      |                         77 |\n",
      "+----------------------+----------------------------+\n",
      "| DR. STRANGE/STEPHEN  |                         77 |\n",
      "+----------------------+----------------------------+\n",
      "| RICHARDS, FRANKLIN B |                         74 |\n",
      "+----------------------+----------------------------+\n",
      "| PROFESSOR X/CHARLES  |                         69 |\n",
      "+----------------------+----------------------------+\n",
      "| CYCLOPS/SCOTT SUMMER |                         77 |\n",
      "+----------------------+----------------------------+\n",
      "| SHADOWCAT/KATHERINE  |                         61 |\n",
      "+----------------------+----------------------------+\n",
      "| IRON FIST/DANIEL RAN |                         66 |\n",
      "+----------------------+----------------------------+\n",
      "| SILVER SURFER/NORRIN |                         71 |\n",
      "+----------------------+----------------------------+\n",
      "| WONG                 |                         60 |\n",
      "+----------------------+----------------------------+\n",
      "| FURY, COL. NICHOLAS  |                         74 |\n",
      "+----------------------+----------------------------+\n",
      "| MARVEL GIRL/JEAN GRE |                         72 |\n",
      "+----------------------+----------------------------+\n",
      "| ICEMAN/ROBERT BOBBY  |                         75 |\n",
      "+----------------------+----------------------------+\n",
      "| LOKI [ASGARDIAN]     |                         64 |\n",
      "+----------------------+----------------------------+\n",
      "| ODIN [ASGARDIAN]     |                         62 |\n",
      "+----------------------+----------------------------+\n",
      "| GAMBIT/REMY LEBEAU   |                         57 |\n",
      "+----------------------+----------------------------+\n",
      "| MASTERS, ALICIA REIS |                         65 |\n",
      "+----------------------+----------------------------+\n",
      "| PSYLOCKE/ELISABETH B |                         58 |\n",
      "+----------------------+----------------------------+\n",
      "| HAVOK/ALEX SUMMERS   |                         60 |\n",
      "+----------------------+----------------------------+\n",
      "| WATSON-PARKER, MARY  |                         63 |\n",
      "+----------------------+----------------------------+\n",
      "| IRON MAN IV/JAMES R. |                         58 |\n",
      "+----------------------+----------------------------+\n",
      "| CAPTAIN BRITAIN/BRIA |                         67 |\n",
      "+----------------------+----------------------------+\n",
      "| DUGAN, TIMOTHY ALOYI |                         67 |\n",
      "+----------------------+----------------------------+\n",
      "| BALDER [ASGARDIAN]   |                         59 |\n",
      "+----------------------+----------------------------+\n",
      "| NELSON, FRANKLIN FOG |                         64 |\n",
      "+----------------------+----------------------------+\n",
      "| JAMESON, J. JONAH    |                         73 |\n",
      "+----------------------+----------------------------+\n",
      "| WOLFSBANE/RAHNE SINC |                         63 |\n",
      "+----------------------+----------------------------+\n",
      "| PUNISHER II/FRANK CA |                         57 |\n",
      "+----------------------+----------------------------+\n",
      "| FANDRAL [ASGARDIAN]  |                         60 |\n",
      "+----------------------+----------------------------+\n",
      "| SIF                  |                         57 |\n",
      "+----------------------+----------------------------+\n",
      "| HOGUN [ASGARDIAN]    |                         60 |\n",
      "+----------------------+----------------------------+\n",
      "| PARKER, MAY          |                         55 |\n",
      "+----------------------+----------------------------+\n",
      "| THOMPSON, EUGENE FLA |                         42 |\n",
      "+----------------------+----------------------------+\n",
      "| SUMMERS, NATHAN CHRI |                         62 |\n",
      "+----------------------+----------------------------+\n",
      "| CANNONBALL II/SAM GU |                         62 |\n",
      "+----------------------+----------------------------+\n",
      "| DR. DOOM/VICTOR VON  |                         74 |\n",
      "+----------------------+----------------------------+\n",
      "| MAGNETO/MAGNUS/ERIC  |                         62 |\n",
      "+----------------------+----------------------------+\n",
      "| ROBERTSON, JOE       |                         63 |\n",
      "+----------------------+----------------------------+\n",
      "| LEEDS, BETTY BRANT   |                         46 |\n",
      "+----------------------+----------------------------+\n",
      "| SUNSPOT/ROBERTO DACO |                         54 |\n",
      "+----------------------+----------------------------+\n",
      "| BANSHEE/SEAN CASSIDY |                         47 |\n",
      "+----------------------+----------------------------+\n",
      "| VOLSTAGG             |                         44 |\n",
      "+----------------------+----------------------------+\n",
      "| KINGPIN/WILSON FISK  |                         43 |\n",
      "+----------------------+----------------------------+\n",
      "+---------+----------+\n",
      "| Density | 0.872461 |\n",
      "+---------+----------+\n"
     ]
    },
    {
     "data": {
      "image/png": "[encoded data removed]",
      "text/plain": [
       "<Figure size 432x288 with 1 Axes>"
      ]
     },
     "metadata": {
      "needs_background": "light"
     },
     "output_type": "display_data"
    },
    {
     "name": "stdout",
     "output_type": "stream",
     "text": [
      "+----------------+---------+\n",
      "| Average Degree | 66.1795 |\n",
      "+----------------+---------+\n",
      "Graph 1 is dense\n"
     ]
    }
   ],
   "source": [
    "test.visualization()"
   ]
  },
  {
   "cell_type": "code",
   "execution_count": 296,
   "id": "55313f94",
   "metadata": {},
   "outputs": [],
   "source": [
    "test_bis = func1(graph2, graph_type=2, n=10)"
   ]
  },
  {
   "cell_type": "code",
   "execution_count": null,
   "id": "8a36a5bb",
   "metadata": {},
   "outputs": [],
   "source": [
    "test_bis.visualization()"
   ]
  },
  {
   "attachments": {},
   "cell_type": "markdown",
   "id": "ada7327a",
   "metadata": {},
   "source": [
    "#### 2.4 Functionality 4 - Disconnecting Graph"
   ]
  },
  {
   "attachments": {},
   "cell_type": "markdown",
   "id": "e2464535",
   "metadata": {},
   "source": [
    "Input:\n",
    "- The graph data\n",
    "- heroA: a superhero to which will relate sub-graph $G_a$\n",
    "- heroB: a superhero to which will relate sub-graph $G_b$\n",
    "- N: denoting the top N heroes that their data should be considered\n",
    "\n",
    "Output:\n",
    "- The minimun number of links (by considering their weights) required to disconnect the original graph in two disconnected subgraphs: $G_a$ and $G_b$ "
   ]
  },
  {
   "attachments": {},
   "cell_type": "markdown",
   "id": "e4775ba8",
   "metadata": {},
   "source": [
    "In order to solve this task, we will use a minimun cut algorithm, which is a way to partition a graph into two subgraphs by removing the smallest possible number of edges."
   ]
  },
  {
   "cell_type": "code",
   "execution_count": 262,
   "id": "088169c9",
   "metadata": {},
   "outputs": [],
   "source": [
    "class func4():\n",
    "    \n",
    "    def __init__(self, graph, heroA, heroB, n:int, dataframe = edges):\n",
    "\n",
    "        self.graph = graph\n",
    "        self.heroA = heroA\n",
    "        self.heroB = heroB\n",
    "        self.n = n\n",
    "\n",
    "        self.dataframe = dataframe\n",
    "\n",
    "        top_heroes = edges.groupby('hero', as_index=False).count().sort_values(by='comic',ascending=False).rename(columns={'comic':'Count'})\n",
    "        toppe = edges[edges['hero'].isin(top_heroes.head(self.n)['hero'])]\n",
    "\n",
    "        self.n_nodes = pd.unique(toppe['hero']).tolist() + pd.unique(toppe['comic']).tolist()\n",
    "        self.sub_graph = nx.induced_subgraph(graph, self.n_nodes)\n",
    "\n",
    "\n",
    "    # Breadth First Search to search a path from HeroA to HeroB\n",
    "    \n",
    "    def minCut(self):\n",
    "\n",
    "        if self.n == len(self.graph.nodes()):\n",
    "            cut_edges = nx.minimum_edge_cut(self.graph, self.heroA, self.heroB)\n",
    "            return cut_edges\n",
    "        else:\n",
    "            cut_edges = nx.minimum_edge_cut(self.sub_graph, self.heroA, self.heroB)\n",
    "            return cut_edges\n",
    "\n",
    "    def remove_edges(self,cut_edge):\n",
    "\n",
    "        if self.n == len(self.graph.nodes()):\n",
    "            for u,v in cut_edge:\n",
    "                self.graph.remove_edge(u,v)\n",
    "\n",
    "            return self.graph\n",
    "        else:\n",
    "            sub_graph = self.sub_graph.copy()\n",
    "            for u,v in cut_edge:\n",
    "                sub_graph.remove_edge(u,v)\n",
    "\n",
    "            return sub_graph\n",
    "\n",
    "    def visualization(self):\n",
    "\n",
    "        cut_edges = self.minCut()\n",
    "\n",
    "        print(\"Number of links that have to be disconnected: \", len(cut_edges))\n",
    "\n",
    "        if self.n == len(self.graph.nodes()):\n",
    "            color_map = []\n",
    "        \n",
    "            for node in self.graph:\n",
    "                if node == self.heroA or node == self.heroB:\n",
    "                    color_map.append(\"blue\")\n",
    "                else:\n",
    "                    color_map.append('green')\n",
    "\n",
    "            nx.draw(self.graph)\n",
    "            plt.title(\"Original Graph\")   \n",
    "            plt.show()\n",
    "        else:\n",
    "            sub_graph = self.sub_graph.copy()\n",
    "\n",
    "            color_map = []\n",
    "        \n",
    "            for node in sub_graph:\n",
    "                if node == self.heroA or node == self.heroB:\n",
    "                    color_map.append('blue')\n",
    "                else:\n",
    "                    color_map.append('green')\n",
    "            nx.draw(sub_graph, node_color = color_map,width=0.1, with_labels = True, font_size = 8)\n",
    "            plt.title(\"Original Graph\")   \n",
    "            plt.show()\n",
    "\n",
    "\n",
    "        #removing the edges \n",
    "        sub_graph = self.remove_edges(cut_edges)\n",
    "        nx.draw(sub_graph, node_color = color_map, width=0.1, with_labels = True, font_size = 8)\n",
    "        plt.title(\"Graph after removal\")\n",
    "        plt.show()\n",
    "    "
   ]
  },
  {
   "cell_type": "code",
   "execution_count": 263,
   "id": "d99265a1",
   "metadata": {},
   "outputs": [],
   "source": [
    "test4 = func4(graph1, heroA=\"CAPTAIN AMERICA\", heroB=\"IRON MAN/TONY STARK\", n=60)"
   ]
  },
  {
   "cell_type": "code",
   "execution_count": 264,
   "id": "fbfbf53b",
   "metadata": {},
   "outputs": [
    {
     "name": "stdout",
     "output_type": "stream",
     "text": [
      "Number of links that have to be disconnected:  57\n"
     ]
    },
    {
     "data": {
      "image/png": "[encoded data removed]",
      "text/plain": [
       "<Figure size 432x288 with 1 Axes>"
      ]
     },
     "metadata": {},
     "output_type": "display_data"
    },
    {
     "data": {
      "image/png": "[encoded data removed]",
      "text/plain": [
       "<Figure size 432x288 with 1 Axes>"
      ]
     },
     "metadata": {},
     "output_type": "display_data"
    }
   ],
   "source": [
    "test4.visualization()"
   ]
  },
  {
   "cell_type": "code",
   "execution_count": null,
   "id": "6a026080",
   "metadata": {},
   "outputs": [],
   "source": []
  }
 ],
 "metadata": {
  "kernelspec": {
   "display_name": "base",
   "language": "python",
   "name": "python3"
  },
  "language_info": {
   "codemirror_mode": {
    "name": "ipython",
    "version": 3
   },
   "file_extension": ".py",
   "mimetype": "text/x-python",
   "name": "python",
   "nbconvert_exporter": "python",
   "pygments_lexer": "ipython3",
   "version": "3.9.7"
  },
  "vscode": {
   "interpreter": {
    "hash": "4f1e9513bc5bb29d9bee4e72c87ca22d6bcc97c47c851bcd1d209449bd223422"
   }
  }
 },
 "nbformat": 4,
 "nbformat_minor": 5
}
