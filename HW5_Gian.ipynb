{
 "cells": [
  {
   "cell_type": "markdown",
   "id": "442cd8e6-6452-43c8-91ff-eb30601e4800",
   "metadata": {},
   "source": [
    "# Homework 5 - The Marvel Universe!"
   ]
  },
  {
   "cell_type": "code",
   "execution_count": 33,
   "id": "f91f887e",
   "metadata": {},
   "outputs": [],
   "source": [
    "import warnings\n",
    "warnings.filterwarnings(\"ignore\")"
   ]
  },
  {
   "cell_type": "code",
   "execution_count": null,
   "id": "dfa01ceb",
   "metadata": {},
   "outputs": [],
   "source": [
    "#!pip install install --quiet"
   ]
  },
  {
   "cell_type": "code",
   "execution_count": 34,
   "id": "cea7b78a-a988-468f-b618-99cdce6ded95",
   "metadata": {
    "tags": []
   },
   "outputs": [],
   "source": [
    "import pandas as pd\n",
    "import numpy as np\n",
    "import networkx as nx\n",
    "import matplotlib.pyplot as plt\n",
    "import seaborn as sns\n",
    "from tqdm import tqdm\n",
    "from tabulate import tabulate\n",
    "from collections import defaultdict"
   ]
  },
  {
   "cell_type": "markdown",
   "id": "5a9d7e14-7c88-474a-a697-f3ec2ede0961",
   "metadata": {},
   "source": [
    "## 1. Data"
   ]
  },
  {
   "cell_type": "markdown",
   "id": "b777610d-ae93-4b1d-aca6-6609b18e4b56",
   "metadata": {},
   "source": [
    "### Preprocessing"
   ]
  },
  {
   "cell_type": "code",
   "execution_count": 35,
   "id": "7272f981-d391-46ea-a2f9-9df612ee5090",
   "metadata": {},
   "outputs": [],
   "source": [
    "nodes = pd.read_csv('nodes.csv')"
   ]
  },
  {
   "cell_type": "code",
   "execution_count": 36,
   "id": "03f77d13-9f0e-4e5c-8d90-92a92bb03338",
   "metadata": {},
   "outputs": [],
   "source": [
    "edges = pd.read_csv('edges.csv')"
   ]
  },
  {
   "cell_type": "code",
   "execution_count": 37,
   "id": "efb7f20c-83ce-4e2a-a559-b90668a1e5ea",
   "metadata": {},
   "outputs": [],
   "source": [
    "hero = pd.read_csv('hero-network.csv')"
   ]
  },
  {
   "cell_type": "markdown",
   "id": "b4f9f63e-7f23-436e-a6cc-476462af0515",
   "metadata": {},
   "source": [
    "Take a look"
   ]
  },
  {
   "cell_type": "code",
   "execution_count": null,
   "id": "81d82e6d-c582-4de3-8474-a108d7c55256",
   "metadata": {},
   "outputs": [],
   "source": [
    "nodes.info()"
   ]
  },
  {
   "cell_type": "code",
   "execution_count": null,
   "id": "5ef6f184-a4d0-4958-91b4-d2ad19aa741b",
   "metadata": {},
   "outputs": [],
   "source": [
    "edges.info()"
   ]
  },
  {
   "cell_type": "code",
   "execution_count": null,
   "id": "e7fbd52b-ab5f-47f6-b5dd-e044290b4885",
   "metadata": {},
   "outputs": [],
   "source": [
    "hero.info()"
   ]
  },
  {
   "cell_type": "markdown",
   "id": "00c0028c-3e8d-4ada-927a-e31bb4f79e36",
   "metadata": {},
   "source": [
    "We will not have to deal with NA values, now let's see in what format are the names/words written"
   ]
  },
  {
   "cell_type": "code",
   "execution_count": null,
   "id": "03f21b42-d98c-4f64-8d8e-fa73977fbfc1",
   "metadata": {},
   "outputs": [],
   "source": [
    "nodes.head(10)"
   ]
  },
  {
   "cell_type": "code",
   "execution_count": null,
   "id": "5727e7d2-3efb-4d58-8c32-658c1c1f821b",
   "metadata": {},
   "outputs": [],
   "source": [
    "nodes.nunique()"
   ]
  },
  {
   "cell_type": "code",
   "execution_count": null,
   "id": "21c8a240-4aff-4437-99fe-712d77151b8b",
   "metadata": {},
   "outputs": [],
   "source": [
    "edges.head(10)"
   ]
  },
  {
   "cell_type": "code",
   "execution_count": null,
   "id": "218811c4-485d-4a19-a86e-07995584a185",
   "metadata": {},
   "outputs": [],
   "source": [
    "edges.nunique()"
   ]
  },
  {
   "cell_type": "code",
   "execution_count": null,
   "id": "df756d5d-c427-48ea-8f32-896f2e6a20ad",
   "metadata": {
    "tags": []
   },
   "outputs": [],
   "source": [
    "hero.head(10)"
   ]
  },
  {
   "cell_type": "code",
   "execution_count": null,
   "id": "4119bd95-8921-4276-930b-d60bfe353b7c",
   "metadata": {},
   "outputs": [],
   "source": [
    "hero.nunique()"
   ]
  },
  {
   "cell_type": "markdown",
   "id": "dff30b34-c3a9-4cc0-98df-4e9e5b84abea",
   "metadata": {},
   "source": [
    "##### Problems:\n",
    " - Some heroes' names in 'hero-network.csv' have extra spaces at the end of their names compared to their names in 'edges.csv'\n",
    " - Some heroes' names in 'hero-network.csv' have an extra '/' at the end of their names compared to their names in 'edges.csv'\n",
    " - The hero name 'SPIDER-MAN/PETER PARKER' in 'edges.csv' has been changed to 'SPIDER-MAN/PETER PAR' in 'hero-network.csv' due to a string length limit in 'hero-network.csv'\n",
    " - Some entries in the 'hero-network.csv' have the same hero in both columns. In the graph, these entries form a self-loop. Because a self-loop makes no sense in this network, you can safely remove those from the dataset."
   ]
  },
  {
   "cell_type": "markdown",
   "id": "9ecee5ee-7b38-48bd-a194-b844004964ab",
   "metadata": {},
   "source": [
    "First of all, we remove the extra characters from the neroes' names."
   ]
  },
  {
   "cell_type": "code",
   "execution_count": 38,
   "id": "4000cb35-38cb-4386-8762-b3d4c11ae2d7",
   "metadata": {},
   "outputs": [],
   "source": [
    "hero[\"hero1\"] = hero[\"hero1\"].str.rstrip('/ ')\n",
    "hero[\"hero2\"] = hero[\"hero2\"].str.rstrip('/ ')"
   ]
  },
  {
   "cell_type": "code",
   "execution_count": null,
   "id": "3d700dcd-a59b-41be-b28c-da7a9d7634bd",
   "metadata": {},
   "outputs": [],
   "source": [
    "hero.head(10)"
   ]
  },
  {
   "cell_type": "code",
   "execution_count": null,
   "id": "8c238022-0840-454c-9f4d-b0fe5837a8e1",
   "metadata": {},
   "outputs": [],
   "source": [
    "hero.nunique()"
   ]
  },
  {
   "cell_type": "markdown",
   "id": "01beae77-a5b3-479a-9349-e0970929ba24",
   "metadata": {},
   "source": [
    "We have less unique values after the rstrip, so there were actually some names that were the same but with extra characters."
   ]
  },
  {
   "cell_type": "markdown",
   "id": "856b07f8-6a30-4126-9b43-d3fea74a8eeb",
   "metadata": {},
   "source": [
    "Now let's change Spiderman's name in the hero dataframe to the complete 'SPIDER-MAN/PETER PARKER'."
   ]
  },
  {
   "cell_type": "code",
   "execution_count": 39,
   "id": "3510b09e-670e-4b91-9d38-4febdc7f255e",
   "metadata": {},
   "outputs": [],
   "source": [
    "hero[hero[\"hero1\"]=='SPIDER-MAN/PETER PAR']='SPIDER-MAN/PETER PARKER'\n",
    "hero[hero[\"hero2\"]=='SPIDER-MAN/PETER PAR']='SPIDER-MAN/PETER PARKER'"
   ]
  },
  {
   "cell_type": "code",
   "execution_count": 40,
   "id": "ce4dc7ea-6864-434e-b596-ca54f98c0d77",
   "metadata": {},
   "outputs": [
    {
     "name": "stdout",
     "output_type": "stream",
     "text": [
      "(0, 2)\n",
      "(0, 2)\n"
     ]
    }
   ],
   "source": [
    "print(hero[hero[\"hero1\"]=='SPIDER-MAN/PETER PAR'].shape)\n",
    "print(hero[hero[\"hero2\"]=='SPIDER-MAN/PETER PAR'].shape)"
   ]
  },
  {
   "cell_type": "markdown",
   "id": "943ecae4-ad5a-44a9-bc34-ab9dc4b62352",
   "metadata": {},
   "source": [
    "Done! No more short name for Spiderman."
   ]
  },
  {
   "cell_type": "markdown",
   "id": "104b0827-c062-448f-992c-a365ab8bf055",
   "metadata": {},
   "source": [
    "### Graphs setup"
   ]
  },
  {
   "cell_type": "markdown",
   "id": "548cf42d-e686-40e2-885a-bb35fb30f65e",
   "metadata": {},
   "source": [
    "**First graph**: Will be constructed using the data stored in the 'hero-network.csv' file, in which an edge between two heroes can be found if they have appeared in the same comic together. The number of edges between two heroes represents the number of times they have collaborated in different comics. The graph should be considered weighted and undirected. It is up to you to decide which metric to use to calculate the weights, but we anticipate that the cost will be lower for heroes with more collaborations. Please specify which metric you used to select the weights in the report."
   ]
  },
  {
   "attachments": {},
   "cell_type": "markdown",
   "id": "7608b879-a3fb-4dd6-a7ec-67019e2c8a7f",
   "metadata": {},
   "source": [
    "First of all, we need to define a metric to calculate the weights so that the heroes with more collaborations has a lower 'cost'. In order to match the number of collaborations with an appropriate weight, we can use the inverse of the normalized number of collaborations for each hero. Just applying $\\frac{(\\max - X)}{(\\max - \\min)}$ to each value, we will obtain a 'cost' scaled between 0 and 1, meaning that if a collaboration has a weight close to 0 it is much more important than a collaboration with a weight close to 1."
   ]
  },
  {
   "cell_type": "markdown",
   "id": "a0ebd602-b63e-4f0d-9ace-ee05e5396d53",
   "metadata": {},
   "source": [
    "We create a column with the number of collaboration for each pair of heroes."
   ]
  },
  {
   "cell_type": "code",
   "execution_count": 41,
   "id": "ad8d2dfc-455c-46b4-9588-0e8ce71eed5b",
   "metadata": {},
   "outputs": [],
   "source": [
    "hero['number of coll'] = hero.groupby(['hero1', 'hero2'])['hero1'].transform('count')"
   ]
  },
  {
   "cell_type": "code",
   "execution_count": null,
   "id": "c9f69141-d02a-485a-8e0e-3ed9df87e837",
   "metadata": {},
   "outputs": [],
   "source": [
    "hero"
   ]
  },
  {
   "cell_type": "markdown",
   "id": "645a17d7-9fda-42e9-91ba-a0515f17b93e",
   "metadata": {},
   "source": [
    "We will use it only to compute the normalization, then we will delete it."
   ]
  },
  {
   "cell_type": "code",
   "execution_count": 42,
   "id": "f8c9b06d-5b89-47a3-8d4e-5045a55548a6",
   "metadata": {
    "tags": []
   },
   "outputs": [],
   "source": [
    "MAX = hero['number of coll'].max()"
   ]
  },
  {
   "cell_type": "code",
   "execution_count": 43,
   "id": "6c0005f0-cf2a-4368-9330-838f2a283585",
   "metadata": {},
   "outputs": [],
   "source": [
    "MIN = hero['number of coll'].min()"
   ]
  },
  {
   "cell_type": "code",
   "execution_count": null,
   "id": "93beb2a6-62af-4b8b-a02e-71908b917ef6",
   "metadata": {},
   "outputs": [],
   "source": [
    "print(MAX)\n",
    "print(MIN)"
   ]
  },
  {
   "cell_type": "code",
   "execution_count": 44,
   "id": "3f9e1e50-8382-40a5-a102-e380e25bc0f9",
   "metadata": {},
   "outputs": [],
   "source": [
    "hero['weight'] = (MAX - hero['number of coll'])/(MAX - MIN)"
   ]
  },
  {
   "cell_type": "code",
   "execution_count": null,
   "id": "9c1351e3-3d69-452f-b125-ffa30ce4f45c",
   "metadata": {},
   "outputs": [],
   "source": [
    "hero.head(15)"
   ]
  },
  {
   "cell_type": "code",
   "execution_count": 45,
   "id": "3c7dae2c-7d66-4243-9627-286da40015a5",
   "metadata": {},
   "outputs": [],
   "source": [
    "hero = hero.drop('number of coll', axis=1)"
   ]
  },
  {
   "cell_type": "code",
   "execution_count": null,
   "id": "53f85d4d-2d7a-4480-ab2b-dd997b97bd05",
   "metadata": {
    "tags": []
   },
   "outputs": [],
   "source": [
    "hero"
   ]
  },
  {
   "cell_type": "markdown",
   "id": "fbe3b8c0-42ab-48cf-b242-660913e67a1b",
   "metadata": {},
   "source": [
    "Now we will use the NetworkX package and functions to create our graph."
   ]
  },
  {
   "cell_type": "code",
   "execution_count": 46,
   "id": "f918a223-8f5e-4e08-a38a-60b60db49c09",
   "metadata": {},
   "outputs": [],
   "source": [
    "graph1 = nx.from_pandas_edgelist(hero, 'hero1', 'hero2', edge_attr='weight')"
   ]
  },
  {
   "cell_type": "code",
   "execution_count": null,
   "id": "9b5432a9",
   "metadata": {},
   "outputs": [],
   "source": [
    "nx.draw(graph1)"
   ]
  },
  {
   "cell_type": "markdown",
   "id": "be00e6e8-2963-4964-8d84-ce71905dfa1b",
   "metadata": {},
   "source": [
    "**Second graph**: The data in 'nodes.csv' and 'edges.csv' will be used to construct the second graph. The type of node (hero/comic) can be found in 'nodes.csv', and an edge between a hero node and a comic node can be found in 'edges.csv' when the hero has appeared in that specific comic. This graph is assumed to be undirected and unweighted."
   ]
  },
  {
   "cell_type": "code",
   "execution_count": 47,
   "id": "a35a77ff-1077-48b4-a3a9-a0856559d0f0",
   "metadata": {
    "tags": []
   },
   "outputs": [],
   "source": [
    "graph2 = nx.from_pandas_edgelist(edges, 'hero', 'comic')"
   ]
  },
  {
   "cell_type": "code",
   "execution_count": 48,
   "id": "83c01ac8-a842-479a-a8b0-76ac186e43ac",
   "metadata": {},
   "outputs": [],
   "source": [
    "graph2.add_nodes_from(nodes['node'], type=nodes['type'])"
   ]
  },
  {
   "cell_type": "code",
   "execution_count": 76,
   "id": "18ed41af",
   "metadata": {},
   "outputs": [
    {
     "data": {
      "text/plain": [
       "'Graph with 19091 nodes and 96104 edges'"
      ]
     },
     "execution_count": 76,
     "metadata": {},
     "output_type": "execute_result"
    }
   ],
   "source": [
    "nx.info(graph2)"
   ]
  },
  {
   "attachments": {},
   "cell_type": "markdown",
   "id": "eafa25f1",
   "metadata": {},
   "source": [
    "### 2.1. Functionality 1 - Extract the graph's features"
   ]
  },
  {
   "attachments": {},
   "cell_type": "markdown",
   "id": "0e6ea15c",
   "metadata": {},
   "source": [
    "As the number of nodes and edges grows, it might be useful to work on a subset of the data to reduce computation time and improve the network visualization.\n",
    "<br>\n",
    "<br>\n",
    "For this reason we will consider the **Top N heroes**: which are the **N** heroes who have appeared in the most number of comics"
   ]
  },
  {
   "cell_type": "code",
   "execution_count": 17,
   "id": "a3e399b9",
   "metadata": {},
   "outputs": [],
   "source": [
    "def top_N(df, N):return df.groupby('hero').count().sort_values(['comic'], ascending = False).iloc[:N]"
   ]
  },
  {
   "cell_type": "code",
   "execution_count": 23,
   "id": "6d014513",
   "metadata": {},
   "outputs": [
    {
     "data": {
      "text/plain": [
       "hero\n",
       "SPIDER-MAN/PETER PARKER    1577\n",
       "CAPTAIN AMERICA            1334\n",
       "IRON MAN/TONY STARK        1150\n",
       "THING/BENJAMIN J. GR        963\n",
       "THOR/DR. DONALD BLAK        956\n",
       "HUMAN TORCH/JOHNNY S        886\n",
       "MR. FANTASTIC/REED R        854\n",
       "HULK/DR. ROBERT BRUC        835\n",
       "WOLVERINE/LOGAN             819\n",
       "INVISIBLE WOMAN/SUE         762\n",
       "Name: comic, dtype: int64"
      ]
     },
     "execution_count": 23,
     "metadata": {},
     "output_type": "execute_result"
    }
   ],
   "source": [
    "top_N(edges, 10)['comic']"
   ]
  },
  {
   "cell_type": "code",
   "execution_count": null,
   "id": "97624809",
   "metadata": {},
   "outputs": [],
   "source": [
    "edges.groupby('comic').count().sort_values(['hero'], ascending= False)"
   ]
  },
  {
   "attachments": {},
   "cell_type": "markdown",
   "id": "06a46771",
   "metadata": {},
   "source": [
    "The output for this functionality must contain:\n",
    "- the number of nodes in the network (if type 2, report for both node types)\n",
    "- the number of collaborations of each superhero with the others (*! Only if type 1*)\n",
    "- the number of heroes that have appeared in each comic (*! Only if type 2*)\n",
    "- the network's density\n",
    "- the network's degree distribution\n",
    "- the average degree of the network\n",
    "- the network's hubs\n",
    "- whether the network is spares or dense"
   ]
  },
  {
   "attachments": {},
   "cell_type": "markdown",
   "id": "3747b922",
   "metadata": {},
   "source": [
    "let's define some functions"
   ]
  },
  {
   "cell_type": "code",
   "execution_count": null,
   "id": "9a9a960d",
   "metadata": {},
   "outputs": [],
   "source": [
    "edges.groupby('comic').count()"
   ]
  },
  {
   "attachments": {},
   "cell_type": "markdown",
   "id": "a9875344",
   "metadata": {},
   "source": [
    "#### Density of a graph"
   ]
  },
  {
   "attachments": {},
   "cell_type": "markdown",
   "id": "07dafbb5",
   "metadata": {},
   "source": [
    "Both in the case of graph type 1 and 2, we are dealing with *undirected* graph, thus the density can be computed as: $$d = \\frac{2\\cdot m}{n \\cdot (n-1)}$$\n",
    "where **n** is the number of nodes and **m** is the number of edges in the graph."
   ]
  },
  {
   "cell_type": "code",
   "execution_count": null,
   "id": "3bd0f09f",
   "metadata": {},
   "outputs": [],
   "source": [
    "def graph_density(G):\n",
    "    return 2*len(list(G.edges())) / (len(list(G.nodes()))*(len(list(G.nodes())-1)))"
   ]
  },
  {
   "attachments": {},
   "cell_type": "markdown",
   "id": "d416d54a",
   "metadata": {},
   "source": [
    "#### Degree Distribution\n",
    "\n",
    "The degree distribution $P(k)$ of a graph is the fraction of nodes in the network with degree $k$.\n",
    "<br>\n",
    "\n",
    "Thus if the there are $n$ nodes in total in a network, and $n_k$ of them have degree $k$, we have: $$P(k)=\\frac{n_k}{n}$$\n",
    "\n"
   ]
  },
  {
   "attachments": {},
   "cell_type": "markdown",
   "id": "32ae39d8",
   "metadata": {},
   "source": [
    "#### Network's hubs\n",
    "\n",
    "Hubs are nodes having degrees more extensive than the 95th percentile of the degree distribution\n"
   ]
  },
  {
   "attachments": {},
   "cell_type": "markdown",
   "id": "95121553",
   "metadata": {},
   "source": [
    "#### Sparsity vs. Density\n",
    "\n",
    "We can say that, if the graph's density is close to 1, the graph **dense**, meanwhile it is **sparse** if the density is close to 0. \n"
   ]
  },
  {
   "cell_type": "code",
   "execution_count": 70,
   "id": "5ef845e7",
   "metadata": {},
   "outputs": [],
   "source": [
    "class func1():\n",
    "\n",
    "    def __init__(self, graph, graph_type, n:int, dataframe=edges):\n",
    "        self.graph = graph\n",
    "        self.graph_type = graph_type\n",
    "        self.n = n\n",
    "        self.dataframe = dataframe\n",
    "\n",
    "        top_heroes = edges.groupby('hero', as_index=False).count().sort_values(by='comic',ascending=False).rename(columns={'comic':'Count'})\n",
    "        toppe = edges[edges['hero'].isin(top_heroes.head(self.n)['hero'])]\n",
    "\n",
    "        self.n_nodes = pd.unique(toppe['hero']).tolist() + pd.unique(toppe['comic']).tolist()\n",
    "        self.sub_graph = nx.induced_subgraph(graph, self.n_nodes)\n",
    "        self.sub_graph.graph_type = graph_type\n",
    "\n",
    "\n",
    "    def count_nodes(self):\n",
    "\n",
    "        if self.graph_type == 1:\n",
    "\n",
    "            if self.n == len(self.graph.nodes()):\n",
    "                g1 = self.graph\n",
    "                nodes = set()\n",
    "\n",
    "                for edge in g1.edges():\n",
    "                    nodes.add(edge[0])\n",
    "                    nodes.add(edge[1])\n",
    "\n",
    "                return len(nodes)\n",
    "            else:\n",
    "                g1 = self.sub_graph\n",
    "                nodes = set()\n",
    "\n",
    "                for edge in g1.edges():\n",
    "                    nodes.add(edge[0])\n",
    "                    nodes.add(edge[1])\n",
    "\n",
    "                return len(nodes)\n",
    "\n",
    "        elif self.graph_type == 2:\n",
    "\n",
    "            if self.n == len(self.graph.nodes()):\n",
    "                g2 = self.graph\n",
    "                heroes = set()\n",
    "                comics = set()\n",
    "\n",
    "                for edge in g2.edges():\n",
    "\n",
    "                    heroes.add(edge[0])\n",
    "                    comics.add(edge[1])\n",
    "                return len(heroes), len(comics)\n",
    "            else:\n",
    "                g2 = self.sub_graph\n",
    "                heroes = set()\n",
    "                comics = set()\n",
    "\n",
    "                for edge in g2.edges():\n",
    "\n",
    "                    heroes.add(edge[0])\n",
    "                    comics.add(edge[1])\n",
    "                return len(heroes), len(comics)\n",
    "\n",
    "\n",
    "\n",
    "    def count_collaborations(self):\n",
    "\n",
    "        if self.graph_type == 1:\n",
    "\n",
    "            if self.n == len(self.graph.nodes()):\n",
    "\n",
    "                degrees = {}\n",
    "\n",
    "                for edge in self.graph.edges():\n",
    "                    if edge[0] not in degrees:\n",
    "                        degrees[edge[0]] = 0\n",
    "                    if edge[1] not in degrees:\n",
    "                        degrees[edge[1]] = 0\n",
    "                    degrees[edge[0]] += 1\n",
    "                    degrees[edge[1]] += 1\n",
    "                \n",
    "                return degrees\n",
    "            else:\n",
    "\n",
    "                degrees = {}\n",
    "\n",
    "                for edge in self.sub_graph.edges():\n",
    "                    if edge[0] not in degrees:\n",
    "                        degrees[edge[0]] = 0\n",
    "                    if edge[1] not in degrees:\n",
    "                        degrees[edge[1]] = 0\n",
    "                    degrees[edge[0]] += 1\n",
    "                    degrees[edge[1]] += 1\n",
    "                \n",
    "                return degrees\n",
    "\n",
    "\n",
    "        else:\n",
    "            print('Functionality doesn`t exist for this type of graph')\n",
    "\n",
    "    def comic_appearence(self):\n",
    "\n",
    "        if self.graph_type == 2:\n",
    "\n",
    "            comic_set = {i for i in self.dataframe['comic']}\n",
    "            comic_count = defaultdict(int)\n",
    "\n",
    "            for edge in self.graph.edges():\n",
    "\n",
    "                if edge[0] in comic_set:\n",
    "                    comic_count[edge[0]] += 1\n",
    "                if edge[1] in comic_set:\n",
    "                    comic_count[edge[1]] += 1\n",
    "            \n",
    "            return comic_count\n",
    "        else:\n",
    "            print('Functionality doesn`t exist for this type of graph')\n",
    "\n",
    "    def graph_density(self):\n",
    "        if self.n == len(self.graph.nodes()):\n",
    "            return 2*len(list(self.graph.edges())) / (len(list(self.graph.nodes()))*(len(list(self.graph.nodes()))-1))\n",
    "        else:\n",
    "            return 2*len(list(self.sub_graph.edges())) / (len(list(self.sub_graph.nodes()))*(len(list(self.sub_graph.nodes()))-1))\n",
    "\n",
    "    def degree_distro(self):\n",
    "\n",
    "        degree = {}\n",
    "        if self.n == len(self.graph.nodes()):\n",
    "            for edge in self.graph.edges():\n",
    "                if edge[0] not in degree:\n",
    "                    degree[edge[0]] = 0\n",
    "                else:\n",
    "                    degree[edge[0]] += 1\n",
    "                \n",
    "                if edge[1] not in degree:\n",
    "                    degree[edge[1]] = 0\n",
    "                else:\n",
    "                    degree[edge[1]] += 1\n",
    "\n",
    "            distros = {}\n",
    "\n",
    "            for i in degree:\n",
    "                distros.update({i: degree[i]/len(degree)})\n",
    "\n",
    "            return distros\n",
    "        else:\n",
    "            for edge in self.sub_graph.edges():\n",
    "                if edge[0] not in degree:\n",
    "                    degree[edge[0]] = 0\n",
    "                else:\n",
    "                    degree[edge[0]] += 1\n",
    "                \n",
    "                if edge[1] not in degree:\n",
    "                    degree[edge[1]] = 0\n",
    "                else:\n",
    "                    degree[edge[1]] += 1\n",
    "\n",
    "            distros = {}\n",
    "\n",
    "            for i in degree:\n",
    "                distros.update({i: degree[i]/len(degree)})\n",
    "\n",
    "            return distros\n",
    "\n",
    "\n",
    "    def average_degree(self):\n",
    "        \n",
    "        if self.n == len(self.graph.nodes()):\n",
    "            degree = {}\n",
    "\n",
    "            for edge in self.graph.edges():\n",
    "                if edge[0] not in degree:\n",
    "                    degree[edge[0]] = 0\n",
    "                else:\n",
    "                    degree[edge[0]] += 1\n",
    "                \n",
    "                if edge[1] not in degree:\n",
    "                    degree[edge[1]] = 0\n",
    "                else:\n",
    "                    degree[edge[1]] += 1\n",
    "\n",
    "            degree_list = list(degree.values())\n",
    "\n",
    "            return sum(degree_list)/len(degree)\n",
    "        else:\n",
    "            degree = {}\n",
    "\n",
    "            for edge in self.sub_graph.edges():\n",
    "                if edge[0] not in degree:\n",
    "                    degree[edge[0]] = 0\n",
    "                else:\n",
    "                    degree[edge[0]] += 1\n",
    "                \n",
    "                if edge[1] not in degree:\n",
    "                    degree[edge[1]] = 0\n",
    "                else:\n",
    "                    degree[edge[1]] += 1\n",
    "\n",
    "            degree_list = list(degree.values())\n",
    "\n",
    "            return sum(degree_list)/len(degree)\n",
    "\n",
    "\n",
    "    def find_hubs(self):\n",
    "\n",
    "        distro_dict = self.degree_distro()\n",
    "\n",
    "        distros = list(distro_dict.values())\n",
    "\n",
    "        percentiles = np.percentile(distros, 95)\n",
    "        \n",
    "        hubs = [i for i in distro_dict.values() if i > percentiles ]\n",
    "\n",
    "        return hubs\n",
    "\n",
    "    def check_sparsity(self):\n",
    "            if self.graph_density() < 0.5:\n",
    "                return 0\n",
    "            else:\n",
    "                return 1\n",
    "\n",
    "\n",
    "\n",
    "    def visualization(self):\n",
    "\n",
    "        #number of nodes of the graph\n",
    "        if self.graph_type == 1:\n",
    "            n_nodes_dict = dict()\n",
    "\n",
    "            n_nodes = self.count_nodes()\n",
    "            n_nodes_dict.update({'Number of Nodes': n_nodes})\n",
    "\n",
    "    \n",
    "\n",
    "            print(tabulate(n_nodes_dict.items(),tablefmt=\"grid\"))\n",
    "        elif self.graph_type == 2:\n",
    "            data = dict()\n",
    "\n",
    "            n_heroes, n_comics = self.count_nodes()\n",
    "\n",
    "            data.update({'Number of Heroes': n_heroes})\n",
    "            data.update({'Number of Comics': n_comics})\n",
    "\n",
    "            print(\"(Graph Type%d) Number of Nodes [Heroes vs. Comics]\" %self.graph_type)\n",
    "            print(tabulate(data.items(), tablefmt=\"grid\"))\n",
    "        \n",
    "        else:\n",
    "            print(\"Graph Type not defined\")\n",
    "        \n",
    "        #(Only if type 1) Number of collaborations\n",
    "        if self.graph_type == 1:\n",
    "            print(\"Number of nodes for graph type %d:\" %self.graph_type)\n",
    "            print(tabulate(self.count_collaborations().items(),headers=[\"Heroe\", \"Number of Collaborations\"],tablefmt=\"grid\"))\n",
    "\n",
    "        #(Only if type 2) Count comic appeareance\n",
    "        if self.graph_type == 2:\n",
    "\n",
    "            colab_list = [(k,v) for k,v in self.comic_appearence().items()]\n",
    "\n",
    "            print(\"(Graph Type%d) Number of collaborations: \" %self.graph_type)\n",
    "            print(tabulate(colab_list,tablefmt=\"grid\"))\n",
    "\n",
    "        #Graph density\n",
    "        density = dict()\n",
    "        dens = self.graph_density()\n",
    "\n",
    "        density.update({'Density': dens})\n",
    "\n",
    "        print(tabulate(density.items(), tablefmt=\"grid\"))\n",
    "\n",
    "        #Graph degree distribution\n",
    "\n",
    "        distro = self.degree_distro()\n",
    "        distro_list = sorted(list(distro.values()))\n",
    "\n",
    "        sns.histplot(distro_list)\n",
    "        plt.title('Degree Distribution')\n",
    "        #plt.xlim(0,0.01)\n",
    "        #plt.ylim(0,1500)\n",
    "        plt.show()\n",
    "\n",
    "        #Average degree\n",
    "        avg_degree_dict = dict()\n",
    "\n",
    "        avg_deg = self.average_degree()\n",
    "\n",
    "        avg_degree_dict.update({'Average Degree': avg_deg})\n",
    "\n",
    "        print(tabulate(avg_degree_dict.items(), tablefmt=\"grid\"))\n",
    "\n",
    "        #Sparsity vs. Dense\n",
    "        if self.check_sparsity() == 1:\n",
    "            print(\"Graph %d is dense\" %self.graph_type)\n",
    "        else:\n",
    "            print('Graph %d is sparse' %self.graph_type)        "
   ]
  },
  {
   "cell_type": "code",
   "execution_count": 71,
   "id": "ba6fd8e3",
   "metadata": {},
   "outputs": [],
   "source": [
    "test = func1(graph1, graph_type=1,n=10)"
   ]
  },
  {
   "cell_type": "code",
   "execution_count": 64,
   "id": "22bf297e",
   "metadata": {},
   "outputs": [
    {
     "data": {
      "text/plain": [
       "10"
      ]
     },
     "execution_count": 64,
     "metadata": {},
     "output_type": "execute_result"
    }
   ],
   "source": [
    "test.count_nodes()"
   ]
  },
  {
   "cell_type": "code",
   "execution_count": 65,
   "id": "f6856b60",
   "metadata": {},
   "outputs": [
    {
     "data": {
      "text/plain": [
       "{'IRON MAN/TONY STARK': 8,\n",
       " 'HULK/DR. ROBERT BRUC': 8,\n",
       " 'INVISIBLE WOMAN/SUE': 8,\n",
       " 'THING/BENJAMIN J. GR': 8,\n",
       " 'CAPTAIN AMERICA': 10,\n",
       " 'WOLVERINE/LOGAN': 8,\n",
       " 'MR. FANTASTIC/REED R': 8,\n",
       " 'THOR/DR. DONALD BLAK': 8,\n",
       " 'HUMAN TORCH/JOHNNY S': 8,\n",
       " 'SPIDER-MAN/PETER PARKER': 2}"
      ]
     },
     "execution_count": 65,
     "metadata": {},
     "output_type": "execute_result"
    }
   ],
   "source": [
    "test.count_collaborations()"
   ]
  },
  {
   "cell_type": "code",
   "execution_count": 66,
   "id": "4c42ae4c",
   "metadata": {},
   "outputs": [
    {
     "data": {
      "text/plain": [
       "0.8444444444444444"
      ]
     },
     "execution_count": 66,
     "metadata": {},
     "output_type": "execute_result"
    }
   ],
   "source": [
    "test.graph_density()"
   ]
  },
  {
   "cell_type": "code",
   "execution_count": 72,
   "id": "6c385a69",
   "metadata": {},
   "outputs": [
    {
     "name": "stdout",
     "output_type": "stream",
     "text": [
      "+-----------------+----+\n",
      "| Number of Nodes | 10 |\n",
      "+-----------------+----+\n",
      "Number of nodes for graph type 1:\n",
      "+-------------------------+----------------------------+\n",
      "| Heroe                   |   Number of Collaborations |\n",
      "+=========================+============================+\n",
      "| IRON MAN/TONY STARK     |                          8 |\n",
      "+-------------------------+----------------------------+\n",
      "| HULK/DR. ROBERT BRUC    |                          8 |\n",
      "+-------------------------+----------------------------+\n",
      "| INVISIBLE WOMAN/SUE     |                          8 |\n",
      "+-------------------------+----------------------------+\n",
      "| THING/BENJAMIN J. GR    |                          8 |\n",
      "+-------------------------+----------------------------+\n",
      "| CAPTAIN AMERICA         |                         10 |\n",
      "+-------------------------+----------------------------+\n",
      "| WOLVERINE/LOGAN         |                          8 |\n",
      "+-------------------------+----------------------------+\n",
      "| MR. FANTASTIC/REED R    |                          8 |\n",
      "+-------------------------+----------------------------+\n",
      "| THOR/DR. DONALD BLAK    |                          8 |\n",
      "+-------------------------+----------------------------+\n",
      "| HUMAN TORCH/JOHNNY S    |                          8 |\n",
      "+-------------------------+----------------------------+\n",
      "| SPIDER-MAN/PETER PARKER |                          2 |\n",
      "+-------------------------+----------------------------+\n",
      "+---------+----------+\n",
      "| Density | 0.844444 |\n",
      "+---------+----------+\n"
     ]
    },
    {
     "data": {
      "image/png": "[encoded data removed]",
      "text/plain": [
       "<Figure size 432x288 with 1 Axes>"
      ]
     },
     "metadata": {
      "needs_background": "light"
     },
     "output_type": "display_data"
    },
    {
     "name": "stdout",
     "output_type": "stream",
     "text": [
      "+----------------+-----+\n",
      "| Average Degree | 6.6 |\n",
      "+----------------+-----+\n",
      "Graph 1 is dense\n"
     ]
    }
   ],
   "source": [
    "test.visualization()"
   ]
  },
  {
   "cell_type": "code",
   "execution_count": 68,
   "id": "55313f94",
   "metadata": {},
   "outputs": [],
   "source": [
    "test_bis = func1(graph2, graph_type=2, n=10)"
   ]
  },
  {
   "cell_type": "code",
   "execution_count": null,
   "id": "8a36a5bb",
   "metadata": {},
   "outputs": [],
   "source": [
    "test_bis.visualization()"
   ]
  },
  {
   "attachments": {},
   "cell_type": "markdown",
   "id": "ada7327a",
   "metadata": {},
   "source": [
    "#### 2.4 Functionality 4 - Disconnecting Graph"
   ]
  },
  {
   "attachments": {},
   "cell_type": "markdown",
   "id": "e2464535",
   "metadata": {},
   "source": [
    "Input:\n",
    "- The graph data\n",
    "- heroA: a superhero to which will relate sub-graph $G_a$\n",
    "- heroB: a superhero to which will relate sub-graph $G_b$\n",
    "- N: denoting the top N heroes that their data should be considered\n",
    "\n",
    "Output:\n",
    "- The minimun number of links (by considering their weights) required to disconnect the original graph in two disconnected subgraphs: $G_a$ and $G_b$ "
   ]
  },
  {
   "cell_type": "code",
   "execution_count": null,
   "id": "088169c9",
   "metadata": {},
   "outputs": [],
   "source": [
    "class func4():\n",
    "    \n",
    "    def __init__(self, graph, heroA, heroB, N:int):\n",
    "\n",
    "        self.graph = graph\n",
    "        self.heroA = heroA\n",
    "        self.heroB = heroB\n",
    "        self.N = N"
   ]
  },
  {
   "cell_type": "code",
   "execution_count": 78,
   "id": "8b4fe90f",
   "metadata": {},
   "outputs": [],
   "source": [
    "def bfs(graph, source):\n",
    "    visited = []\n",
    "    queue = []\n",
    "\n",
    "    queue.append(source)\n",
    "\n",
    "    while queue:\n",
    "        m = queue.pop(0)\n",
    "\n",
    "        for neighbour in graph[m]:\n",
    "            if neighbour not in visited:\n",
    "                visited.append(neighbour)\n",
    "                queue.append(neighbour)\n"
   ]
  },
  {
   "cell_type": "code",
   "execution_count": null,
   "id": "0d35bc26",
   "metadata": {},
   "outputs": [],
   "source": []
  }
 ],
 "metadata": {
  "kernelspec": {
   "display_name": "base",
   "language": "python",
   "name": "python3"
  },
  "language_info": {
   "codemirror_mode": {
    "name": "ipython",
    "version": 3
   },
   "file_extension": ".py",
   "mimetype": "text/x-python",
   "name": "python",
   "nbconvert_exporter": "python",
   "pygments_lexer": "ipython3",
   "version": "3.9.7"
  },
  "vscode": {
   "interpreter": {
    "hash": "4f1e9513bc5bb29d9bee4e72c87ca22d6bcc97c47c851bcd1d209449bd223422"
   }
  }
 },
 "nbformat": 4,
 "nbformat_minor": 5
}
